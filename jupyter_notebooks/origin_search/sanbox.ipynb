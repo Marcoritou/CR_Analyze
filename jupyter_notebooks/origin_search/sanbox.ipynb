{
 "cells": [
  {
   "cell_type": "code",
   "execution_count": 6,
   "id": "a0b1efb6-7813-4978-b31a-658d2fd7a39d",
   "metadata": {
    "tags": []
   },
   "outputs": [
    {
     "name": "stdout",
     "output_type": "stream",
     "text": [
      "3.6.15\n"
     ]
    }
   ],
   "source": [
    "#ESCRIBO COSAS RANDOM EN ESTA AREA, PRUEBAS TEST ETC\n",
    "from platform import python_version\n",
    "\n",
    "print(python_version())"
   ]
  },
  {
   "cell_type": "code",
   "execution_count": 7,
   "id": "86515d3d-2553-498f-a10b-2780ec566ebd",
   "metadata": {},
   "outputs": [
    {
     "name": "stderr",
     "output_type": "stream",
     "text": [
      "100%|██████████| 4/4 [00:00<00:00, 42.95it/s]\n"
     ]
    },
    {
     "data": {
      "text/html": [
       "<div>\n",
       "<style scoped>\n",
       "    .dataframe tbody tr th:only-of-type {\n",
       "        vertical-align: middle;\n",
       "    }\n",
       "\n",
       "    .dataframe tbody tr th {\n",
       "        vertical-align: top;\n",
       "    }\n",
       "\n",
       "    .dataframe thead th {\n",
       "        text-align: right;\n",
       "    }\n",
       "</style>\n",
       "<table border=\"1\" class=\"dataframe\">\n",
       "  <thead>\n",
       "    <tr style=\"text-align: right;\">\n",
       "      <th></th>\n",
       "      <th>lkey</th>\n",
       "      <th>lvalue</th>\n",
       "      <th>rkey</th>\n",
       "      <th>rvalue</th>\n",
       "    </tr>\n",
       "  </thead>\n",
       "  <tbody>\n",
       "    <tr>\n",
       "      <th>0</th>\n",
       "      <td>a</td>\n",
       "      <td>2275284</td>\n",
       "      <td>a</td>\n",
       "      <td>6554087</td>\n",
       "    </tr>\n",
       "    <tr>\n",
       "      <th>1</th>\n",
       "      <td>a</td>\n",
       "      <td>2275284</td>\n",
       "      <td>a</td>\n",
       "      <td>56230909</td>\n",
       "    </tr>\n",
       "    <tr>\n",
       "      <th>2</th>\n",
       "      <td>a</td>\n",
       "      <td>2275284</td>\n",
       "      <td>a</td>\n",
       "      <td>17023189</td>\n",
       "    </tr>\n",
       "    <tr>\n",
       "      <th>3</th>\n",
       "      <td>a</td>\n",
       "      <td>2275284</td>\n",
       "      <td>a</td>\n",
       "      <td>56907802</td>\n",
       "    </tr>\n",
       "    <tr>\n",
       "      <th>4</th>\n",
       "      <td>a</td>\n",
       "      <td>2275284</td>\n",
       "      <td>a</td>\n",
       "      <td>10243972</td>\n",
       "    </tr>\n",
       "    <tr>\n",
       "      <th>...</th>\n",
       "      <td>...</td>\n",
       "      <td>...</td>\n",
       "      <td>...</td>\n",
       "      <td>...</td>\n",
       "    </tr>\n",
       "    <tr>\n",
       "      <th>3999995</th>\n",
       "      <td>d</td>\n",
       "      <td>42583011</td>\n",
       "      <td>d</td>\n",
       "      <td>13760665</td>\n",
       "    </tr>\n",
       "    <tr>\n",
       "      <th>3999996</th>\n",
       "      <td>d</td>\n",
       "      <td>42583011</td>\n",
       "      <td>d</td>\n",
       "      <td>18496892</td>\n",
       "    </tr>\n",
       "    <tr>\n",
       "      <th>3999997</th>\n",
       "      <td>d</td>\n",
       "      <td>42583011</td>\n",
       "      <td>d</td>\n",
       "      <td>64075744</td>\n",
       "    </tr>\n",
       "    <tr>\n",
       "      <th>3999998</th>\n",
       "      <td>d</td>\n",
       "      <td>42583011</td>\n",
       "      <td>d</td>\n",
       "      <td>23283555</td>\n",
       "    </tr>\n",
       "    <tr>\n",
       "      <th>3999999</th>\n",
       "      <td>d</td>\n",
       "      <td>42583011</td>\n",
       "      <td>d</td>\n",
       "      <td>94041969</td>\n",
       "    </tr>\n",
       "  </tbody>\n",
       "</table>\n",
       "<p>4000000 rows × 4 columns</p>\n",
       "</div>"
      ],
      "text/plain": [
       "        lkey    lvalue rkey    rvalue\n",
       "0          a   2275284    a   6554087\n",
       "1          a   2275284    a  56230909\n",
       "2          a   2275284    a  17023189\n",
       "3          a   2275284    a  56907802\n",
       "4          a   2275284    a  10243972\n",
       "...      ...       ...  ...       ...\n",
       "3999995    d  42583011    d  13760665\n",
       "3999996    d  42583011    d  18496892\n",
       "3999997    d  42583011    d  64075744\n",
       "3999998    d  42583011    d  23283555\n",
       "3999999    d  42583011    d  94041969\n",
       "\n",
       "[4000000 rows x 4 columns]"
      ]
     },
     "execution_count": 7,
     "metadata": {},
     "output_type": "execute_result"
    }
   ],
   "source": [
    "import pandas as pd\n",
    "from tqdm import tqdm\n",
    "import numpy as np\n",
    "\n",
    "df1 = pd.DataFrame({'lkey': 1000*['a', 'b', 'c', 'd'],'lvalue': np.random.randint(0,int(1e8),4000)})\n",
    "df2 = pd.DataFrame({'rkey': 1000*['a', 'b', 'c', 'd'],'rvalue': np.random.randint(0, int(1e8),4000)})\n",
    "\n",
    "#this is how you activate the pandas features in tqdm\n",
    "tqdm.pandas()\n",
    "#call the progress_apply feature with a dummy lambda \n",
    "df1.merge(df2, left_on='lkey', right_on='rkey').progress_apply(lambda avance: avance)"
   ]
  },
  {
   "cell_type": "code",
   "execution_count": 2,
   "id": "913643ac-bb7a-46d6-94b0-a07a60711205",
   "metadata": {},
   "outputs": [
    {
     "data": {
      "image/png": "[encoded data removed]",
      "text/plain": [
       "<Figure size 720x576 with 1 Axes>"
      ]
     },
     "metadata": {
      "needs_background": "light"
     },
     "output_type": "display_data"
    }
   ],
   "source": [
    "import illustris_python as il\n",
    "import numpy as np\n",
    "import matplotlib.pyplot as plt\n",
    "\n",
    "basePath = '/virgotng/universe/IllustrisTNG/L35n2160TNG/output'\n",
    "fields = ['SubhaloMass','SubhaloSFRinRad']\n",
    "subhalos = il.groupcat.loadSubhalos(basePath, 99, fields=fields)\n",
    "mass_msun = subhalos['SubhaloMass'] * 1e10 / 0.6774\n",
    "fig = plt.figure(figsize=(10,8))\n",
    "ax = fig.add_subplot(111)\n",
    "ax.plot(mass_msun, subhalos['SubhaloSFRinRad'], '.', markersize=0.5)\n",
    "ax.set_xscale('log')\n",
    "ax.set_yscale('log')\n",
    "ax.set_xlabel('Total Mass [$M_\\odot$]')\n",
    "ax.set_ylabel('Star Formation Rate [$M_\\odot / yr$]');"
   ]
  },
  {
   "cell_type": "code",
   "execution_count": 12,
   "id": "46ad6f97-3e1a-48c2-a4fa-33c48ee8e75e",
   "metadata": {},
   "outputs": [],
   "source": [
    "fields = ['ParticleIDs']\n",
    "\n",
    "star = il.snapshot.loadSubset(basePath, 99, 'star', fields=fields)"
   ]
  },
  {
   "cell_type": "code",
   "execution_count": 16,
   "id": "7b54e954-2816-40c4-98bc-09679ab600a9",
   "metadata": {},
   "outputs": [
    {
     "data": {
      "text/plain": [
       "array([146390141809, 148377919050, 147257453292, ..., 153690397674,\n",
       "       153714199007, 153715459465], dtype=uint64)"
      ]
     },
     "execution_count": 16,
     "metadata": {},
     "output_type": "execute_result"
    }
   ],
   "source": [
    "star"
   ]
  },
  {
   "cell_type": "code",
   "execution_count": 15,
   "id": "668e0584-91dc-4f44-8f7d-de41758cfaae",
   "metadata": {},
   "outputs": [
    {
     "data": {
      "text/plain": [
       "0"
      ]
     },
     "execution_count": 15,
     "metadata": {},
     "output_type": "execute_result"
    }
   ],
   "source": [
    "len(star) - 1289575331"
   ]
  },
  {
   "cell_type": "code",
   "execution_count": 1,
   "id": "c1970451-298a-43ba-94ab-8882cd17ffc4",
   "metadata": {},
   "outputs": [
    {
     "name": "stdout",
     "output_type": "stream",
     "text": [
      "   Alias  Age Gender\n",
      "0   John   25      F\n",
      "1  Emily   30      M\n"
     ]
    }
   ],
   "source": [
    "import pandas as pd\n",
    "\n",
    "# Create two sample DataFrames\n",
    "data1 = {'Alias': ['John', 'Emily'],\n",
    "         'Age': [25, 30]}\n",
    "df1 = pd.DataFrame(data1)\n",
    "\n",
    "data2 =  {'Name': ['John', 'Emily'],\n",
    "          'Gender': ['F', 'M']}\n",
    "df2 = pd.DataFrame(data2)\n",
    "\n",
    "# Merge the DataFrames based on the 'Name' and 'Alias' columns\n",
    "result_df = df1.merge(df2, left_on='Alias', right_on='Name')\n",
    "\n",
    "# Drop the duplicate 'Name' column\n",
    "result_df = result_df.drop('Name', axis=1)\n",
    "\n",
    "print(result_df)\n"
   ]
  },
  {
   "cell_type": "code",
   "execution_count": 1,
   "id": "cee5a06e-4de2-4768-9c1a-2c348f6ddfe1",
   "metadata": {},
   "outputs": [
    {
     "name": "stderr",
     "output_type": "stream",
     "text": [
      "Progress: 100%|██████████| 13/13 [00:00<00:00, 12500.22it/s]"
     ]
    },
    {
     "name": "stdout",
     "output_type": "stream",
     "text": [
      "[2, 4, 6, 8, 10]\n"
     ]
    },
    {
     "name": "stderr",
     "output_type": "stream",
     "text": [
      "\n"
     ]
    }
   ],
   "source": [
    "import numpy as np\n",
    "from tqdm import tqdm\n",
    "\n",
    "array1 = np.array([1, 2, 3, 4, 5, 6, 7, 8, 9, 10])\n",
    "array2 = np.array([2, 4, 6, 8, 10, 12, 14, 16, 18, 20, 22, 24, 26])\n",
    "\n",
    "# Initialize tqdm with the length of array2\n",
    "progress_bar = tqdm(total=len(array2), desc=\"Progress\")\n",
    "\n",
    "# Find elements in array2 that have the same value as in array1\n",
    "matching_elements = []\n",
    "\n",
    "for element in array2:\n",
    "\n",
    "    if element in array1:\n",
    "        matching_elements.append(element)\n",
    "    progress_bar.update(1)  # Update the progress bar\n",
    "\n",
    "progress_bar.close()\n",
    "\n",
    "print(matching_elements)"
   ]
  },
  {
   "cell_type": "code",
   "execution_count": 11,
   "id": "05ef9403-9d73-4bc1-a590-5cc050f6b545",
   "metadata": {},
   "outputs": [],
   "source": [
    "import illustris_python as il\n",
    "\n",
    "basePath = '/virgotng/universe/IllustrisTNG/L35n2160TNG/output'\n",
    "fields = ['SubhaloPos','SnapNum']\n",
    "subhaloid = 547844\n",
    "\n",
    "test = il.sublink.loadTree(basePath,99,subhaloid,fields=fields,onlyMPB=True)"
   ]
  },
  {
   "cell_type": "code",
   "execution_count": 15,
   "id": "b3dec450-5912-4546-adca-3680e5ffb6e4",
   "metadata": {},
   "outputs": [
    {
     "data": {
      "text/plain": [
       "50"
      ]
     },
     "execution_count": 15,
     "metadata": {},
     "output_type": "execute_result"
    }
   ],
   "source": [
    "test['SnapNum'][99-50]"
   ]
  },
  {
   "cell_type": "code",
   "execution_count": 14,
   "id": "b277bc3c-4c0a-4c36-8849-cb409a659c8f",
   "metadata": {},
   "outputs": [
    {
     "name": "stdout",
     "output_type": "stream",
     "text": [
      "x: 7812.0327 y: 15006.693 z: 2209.905\n"
     ]
    }
   ],
   "source": [
    "snap = 98\n",
    "snapid = snap - 99\n",
    "print('x:',test[snapid][0],'y:',test[snapid][1],'z:',test[snapid][2])"
   ]
  },
  {
   "cell_type": "code",
   "execution_count": 8,
   "id": "d17443d6-745c-45ee-850c-78fcb0f49a54",
   "metadata": {},
   "outputs": [
    {
     "data": {
      "text/plain": [
       "{'count': 0}"
      ]
     },
     "execution_count": 8,
     "metadata": {},
     "output_type": "execute_result"
    }
   ],
   "source": [
    "import illustris_python as il\n",
    "\n",
    "basePath = '/virgotng/universe/IllustrisTNG/L35n2160TNG/output'\n",
    "fields = ['Coordinates']\n",
    "subhaloid = 547844\n",
    "snapshot = 60\n",
    "\n",
    "star_coordinates_subhalo = il.snapshot.loadSubhalo(basePath, snapshot, subhaloid, 'star', fields=fields)\n",
    "star_coordinates_subhalo"
   ]
  },
  {
   "cell_type": "code",
   "execution_count": 25,
   "id": "8f81ad7e-cd50-41c8-8c96-0d51e8a479b6",
   "metadata": {},
   "outputs": [
    {
     "name": "stderr",
     "output_type": "stream",
     "text": [
      "MovieWriter ffmpeg unavailable; using Pillow instead.\n"
     ]
    },
    {
     "data": {
      "image/png": "[encoded data removed]",
      "text/plain": [
       "<Figure size 432x288 with 1 Axes>"
      ]
     },
     "metadata": {
      "needs_background": "light"
     },
     "output_type": "display_data"
    }
   ],
   "source": [
    "import matplotlib.pyplot as plt\n",
    "from matplotlib.animation import FuncAnimation\n",
    "import numpy as np\n",
    "\n",
    "fig, ax = plt.subplots()\n",
    "\n",
    "def animate(i):\n",
    "    x = np.linspace(0, 2*np.pi, 50)\n",
    "    y = np.sin(x)\n",
    "\n",
    "    ax.plot(x, y)\n",
    "    ax.set_title(f'Frame {i}')\n",
    "    return(None)\n",
    "\n",
    "anim = FuncAnimation(fig, animate, frames=50, interval=200)\n",
    "\n",
    "anim.save('animation.gif')"
   ]
  },
  {
   "cell_type": "code",
   "execution_count": 3,
   "id": "e64758ac-7be6-4f53-96a2-a4633dcd763a",
   "metadata": {},
   "outputs": [
    {
     "data": {
      "text/html": [
       "<div>\n",
       "<style scoped>\n",
       "    .dataframe tbody tr th:only-of-type {\n",
       "        vertical-align: middle;\n",
       "    }\n",
       "\n",
       "    .dataframe tbody tr th {\n",
       "        vertical-align: top;\n",
       "    }\n",
       "\n",
       "    .dataframe thead th {\n",
       "        text-align: right;\n",
       "    }\n",
       "</style>\n",
       "<table border=\"1\" class=\"dataframe\">\n",
       "  <thead>\n",
       "    <tr style=\"text-align: right;\">\n",
       "      <th></th>\n",
       "      <th>Unnamed: 0</th>\n",
       "      <th>M</th>\n",
       "      <th>x</th>\n",
       "      <th>y</th>\n",
       "      <th>z</th>\n",
       "      <th>Vx</th>\n",
       "      <th>Vy</th>\n",
       "      <th>Vz</th>\n",
       "      <th>Metallicity</th>\n",
       "      <th>U</th>\n",
       "      <th>StellarFormationTime</th>\n",
       "      <th>R</th>\n",
       "      <th>Jx</th>\n",
       "      <th>Jy</th>\n",
       "      <th>Jz</th>\n",
       "      <th>Total Energy</th>\n",
       "      <th>Circularity</th>\n",
       "      <th>ParticleIDs</th>\n",
       "      <th>LeafSubhaloID</th>\n",
       "    </tr>\n",
       "  </thead>\n",
       "  <tbody>\n",
       "    <tr>\n",
       "      <th>0</th>\n",
       "      <td>0</td>\n",
       "      <td>53560.527344</td>\n",
       "      <td>0.029338</td>\n",
       "      <td>-0.018787</td>\n",
       "      <td>0.050264</td>\n",
       "      <td>-13.022654</td>\n",
       "      <td>39.013739</td>\n",
       "      <td>26.462412</td>\n",
       "      <td>0.946068</td>\n",
       "      <td>-248328.781250</td>\n",
       "      <td>0.280318</td>\n",
       "      <td>0.061157</td>\n",
       "      <td>-2.458153</td>\n",
       "      <td>-1.430931</td>\n",
       "      <td>0.899929</td>\n",
       "      <td>-247132.820952</td>\n",
       "      <td>0.109996</td>\n",
       "      <td>118896913475</td>\n",
       "      <td>7.000001e+16</td>\n",
       "    </tr>\n",
       "    <tr>\n",
       "      <th>1</th>\n",
       "      <td>1</td>\n",
       "      <td>49830.773438</td>\n",
       "      <td>-0.002267</td>\n",
       "      <td>0.034888</td>\n",
       "      <td>0.016861</td>\n",
       "      <td>-24.639224</td>\n",
       "      <td>66.195138</td>\n",
       "      <td>5.425658</td>\n",
       "      <td>2.148515</td>\n",
       "      <td>-248640.250000</td>\n",
       "      <td>0.309119</td>\n",
       "      <td>0.038815</td>\n",
       "      <td>-0.926806</td>\n",
       "      <td>-0.403136</td>\n",
       "      <td>0.709570</td>\n",
       "      <td>-246131.087295</td>\n",
       "      <td>0.086729</td>\n",
       "      <td>121068771044</td>\n",
       "      <td>7.000001e+16</td>\n",
       "    </tr>\n",
       "    <tr>\n",
       "      <th>2</th>\n",
       "      <td>2</td>\n",
       "      <td>49054.761719</td>\n",
       "      <td>0.156650</td>\n",
       "      <td>-0.127388</td>\n",
       "      <td>-0.002921</td>\n",
       "      <td>-35.227336</td>\n",
       "      <td>29.575495</td>\n",
       "      <td>8.363533</td>\n",
       "      <td>2.436078</td>\n",
       "      <td>-247214.484375</td>\n",
       "      <td>0.340445</td>\n",
       "      <td>0.201930</td>\n",
       "      <td>-0.979014</td>\n",
       "      <td>-1.207235</td>\n",
       "      <td>0.145455</td>\n",
       "      <td>-246121.672491</td>\n",
       "      <td>0.017779</td>\n",
       "      <td>122298304386</td>\n",
       "      <td>7.000001e+16</td>\n",
       "    </tr>\n",
       "    <tr>\n",
       "      <th>3</th>\n",
       "      <td>3</td>\n",
       "      <td>65541.531250</td>\n",
       "      <td>0.138966</td>\n",
       "      <td>-0.009450</td>\n",
       "      <td>0.024993</td>\n",
       "      <td>18.796672</td>\n",
       "      <td>49.023140</td>\n",
       "      <td>-20.606975</td>\n",
       "      <td>1.539409</td>\n",
       "      <td>-247484.671875</td>\n",
       "      <td>0.286720</td>\n",
       "      <td>0.141512</td>\n",
       "      <td>-1.030483</td>\n",
       "      <td>3.333459</td>\n",
       "      <td>6.990206</td>\n",
       "      <td>-245894.056589</td>\n",
       "      <td>0.854392</td>\n",
       "      <td>118459758029</td>\n",
       "      <td>7.000001e+16</td>\n",
       "    </tr>\n",
       "    <tr>\n",
       "      <th>4</th>\n",
       "      <td>4</td>\n",
       "      <td>56322.742188</td>\n",
       "      <td>-0.079920</td>\n",
       "      <td>0.201489</td>\n",
       "      <td>-0.046180</td>\n",
       "      <td>-23.079251</td>\n",
       "      <td>-40.952395</td>\n",
       "      <td>-19.311553</td>\n",
       "      <td>1.249086</td>\n",
       "      <td>-246930.515625</td>\n",
       "      <td>0.229181</td>\n",
       "      <td>0.221625</td>\n",
       "      <td>-5.782247</td>\n",
       "      <td>-0.477571</td>\n",
       "      <td>7.923111</td>\n",
       "      <td>-245639.172363</td>\n",
       "      <td>0.597183</td>\n",
       "      <td>114774240464</td>\n",
       "      <td>7.000001e+16</td>\n",
       "    </tr>\n",
       "  </tbody>\n",
       "</table>\n",
       "</div>"
      ],
      "text/plain": [
       "   Unnamed: 0             M         x         y         z         Vx  \\\n",
       "0           0  53560.527344  0.029338 -0.018787  0.050264 -13.022654   \n",
       "1           1  49830.773438 -0.002267  0.034888  0.016861 -24.639224   \n",
       "2           2  49054.761719  0.156650 -0.127388 -0.002921 -35.227336   \n",
       "3           3  65541.531250  0.138966 -0.009450  0.024993  18.796672   \n",
       "4           4  56322.742188 -0.079920  0.201489 -0.046180 -23.079251   \n",
       "\n",
       "          Vy         Vz  Metallicity              U  StellarFormationTime  \\\n",
       "0  39.013739  26.462412     0.946068 -248328.781250              0.280318   \n",
       "1  66.195138   5.425658     2.148515 -248640.250000              0.309119   \n",
       "2  29.575495   8.363533     2.436078 -247214.484375              0.340445   \n",
       "3  49.023140 -20.606975     1.539409 -247484.671875              0.286720   \n",
       "4 -40.952395 -19.311553     1.249086 -246930.515625              0.229181   \n",
       "\n",
       "          R        Jx        Jy        Jz   Total Energy  Circularity  \\\n",
       "0  0.061157 -2.458153 -1.430931  0.899929 -247132.820952     0.109996   \n",
       "1  0.038815 -0.926806 -0.403136  0.709570 -246131.087295     0.086729   \n",
       "2  0.201930 -0.979014 -1.207235  0.145455 -246121.672491     0.017779   \n",
       "3  0.141512 -1.030483  3.333459  6.990206 -245894.056589     0.854392   \n",
       "4  0.221625 -5.782247 -0.477571  7.923111 -245639.172363     0.597183   \n",
       "\n",
       "    ParticleIDs  LeafSubhaloID  \n",
       "0  118896913475   7.000001e+16  \n",
       "1  121068771044   7.000001e+16  \n",
       "2  122298304386   7.000001e+16  \n",
       "3  118459758029   7.000001e+16  \n",
       "4  114774240464   7.000001e+16  "
      ]
     },
     "execution_count": 3,
     "metadata": {},
     "output_type": "execute_result"
    }
   ],
   "source": [
    "import pandas as pd\n",
    "\n",
    "subhaloid_list = [ 455291,  478216,  501208,  531910,  547844,  570319, 571633,  582137,  589496,  598112,  606820,  619381,  628949]\n",
    "subhaloid = subhaloid_list[4]\n",
    "\n",
    "subhalo_df_v2 = pd.read_csv('tables_v2/subhalo%s.csv'%subhaloid)\n",
    "subhalo_df_v2.head()"
   ]
  },
  {
   "cell_type": "code",
   "execution_count": null,
   "id": "665e3302-2308-464f-bb9e-7a6000a6a65e",
   "metadata": {},
   "outputs": [],
   "source": []
  }
 ],
 "metadata": {
  "kernelspec": {
   "display_name": "Python 3",
   "language": "python",
   "name": "python3"
  },
  "language_info": {
   "codemirror_mode": {
    "name": "ipython",
    "version": 3
   },
   "file_extension": ".py",
   "mimetype": "text/x-python",
   "name": "python",
   "nbconvert_exporter": "python",
   "pygments_lexer": "ipython3",
   "version": "3.6.15"
  }
 },
 "nbformat": 4,
 "nbformat_minor": 5
}
