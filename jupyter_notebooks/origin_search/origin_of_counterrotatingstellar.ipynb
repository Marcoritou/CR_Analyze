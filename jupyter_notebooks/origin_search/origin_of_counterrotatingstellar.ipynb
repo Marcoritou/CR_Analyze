{
 "cells": [
  {
   "cell_type": "code",
   "execution_count": 1,
   "id": "77103e22-918a-4b56-8c89-a99d752019a3",
   "metadata": {},
   "outputs": [],
   "source": [
    "#obtaining rough insitu vs exsitu bar graphs, and subhaloid of formations for counterrottating particles\n",
    "#Single subhalo\n",
    "\n",
    "import h5py\n",
    "import numpy as np\n",
    "import pandas as pd\n",
    "import matplotlib.pyplot as plt\n",
    "import illustris_python as il\n",
    "\n",
    "def hdf5_to_dict(file_path):\n",
    "    data_dict = {}\n",
    "    \n",
    "    with h5py.File(file_path, 'r') as hdf_file:\n",
    "        # Recursively traverse the HDF5 file and populate the dictionary\n",
    "        def traverse(name, obj):\n",
    "            if isinstance(obj, h5py.Dataset):\n",
    "                data_dict[name] = obj[()]  # Store dataset value in dictionary\n",
    "            elif isinstance(obj, h5py.Group):\n",
    "                # Create a nested dictionary for groups\n",
    "                group_dict = {}\n",
    "                data_dict[name] = group_dict\n",
    "                \n",
    "                # Recursively visit the group's children\n",
    "                obj.visititems(traverse)\n",
    "        \n",
    "        hdf_file.visititems(traverse)\n",
    "    \n",
    "    return data_dict\n"
   ]
  },
  {
   "cell_type": "code",
   "execution_count": 2,
   "id": "28335576-34e3-4b51-8332-03c65da02b3d",
   "metadata": {},
   "outputs": [],
   "source": [
    "file_path = '/u/mcastillo/home/data/unique_ids_099.hdf5'\n",
    "data = hdf5_to_dict(file_path)\n",
    "\n",
    "dataset = data['LeafSubhaloID']\n"
   ]
  },
  {
   "cell_type": "code",
   "execution_count": 3,
   "id": "4951e12e-2575-4bbb-8314-7d835e95799d",
   "metadata": {},
   "outputs": [
    {
     "data": {
      "text/plain": [
       "(array([              600373,               600345,               600345,\n",
       "        ..., 18446744073709551615, 18446744073709551615,\n",
       "        18446744073709551615], dtype=uint64),\n",
       " {'LeafSubhaloID': array([              600373,               600345,               600345,\n",
       "         ..., 18446744073709551615, 18446744073709551615,\n",
       "         18446744073709551615], dtype=uint64)})"
      ]
     },
     "execution_count": 3,
     "metadata": {},
     "output_type": "execute_result"
    }
   ],
   "source": [
    "data['LeafSubhaloID'],data"
   ]
  },
  {
   "cell_type": "code",
   "execution_count": 4,
   "id": "3dd50899-bf0f-472c-b393-21523c688d2a",
   "metadata": {},
   "outputs": [],
   "source": [
    "file_path = '/virgotng/universe/IllustrisTNG/L35n2160TNG/postprocessing/StellarAssembly/stars_099.hdf5'\n",
    "data = hdf5_to_dict(file_path)\n"
   ]
  },
  {
   "cell_type": "code",
   "execution_count": 5,
   "id": "26ee748b-e44f-4024-9b2e-504b45a6c7ce",
   "metadata": {},
   "outputs": [
    {
     "data": {
      "text/plain": [
       "{'AccretionOrigin': array([ 0,  0,  0, ..., -1, -1, -1], dtype=int8),\n",
       " 'AfterInfall': array([ 1,  1,  1, ..., -1, -1, -1], dtype=int8),\n",
       " 'DistanceAtFormation': array([ 0.34050775,  0.325681  ,  0.17944826, ..., -1.        ,\n",
       "        -1.        , -1.        ], dtype=float32),\n",
       " 'InSitu': array([ 0,  0,  0, ..., -1, -1, -1], dtype=int8),\n",
       " 'MergerMassRatio': array([ 0.24064991,  0.24064991,  0.24064991, ..., -1.        ,\n",
       "        -1.        , -1.        ], dtype=float32),\n",
       " 'ParticleID': array([146390141809, 148377919050, 147257453292, ..., 153690397674,\n",
       "        153714199007, 153715459465], dtype=uint64),\n",
       " 'SnapNumAtFormation': array([71, 77, 73, ..., 98, 98, 98], dtype=int16),\n",
       " 'SubfindID': array([ 0,  0,  0, ..., -1, -1, -1], dtype=int32),\n",
       " 'SubfindIDAtFormation': array([43, 14, 23, ..., -1, -1, -1], dtype=int32)}"
      ]
     },
     "execution_count": 5,
     "metadata": {},
     "output_type": "execute_result"
    }
   ],
   "source": [
    "data"
   ]
  },
  {
   "cell_type": "code",
   "execution_count": 9,
   "id": "45eb8bdc-5d7e-4055-a199-00c9751c91e1",
   "metadata": {
    "tags": []
   },
   "outputs": [
    {
     "data": {
      "image/png": "[encoded data removed]",
      "text/plain": [
       "<Figure size 432x288 with 1 Axes>"
      ]
     },
     "metadata": {
      "needs_background": "light"
     },
     "output_type": "display_data"
    }
   ],
   "source": [
    "SubhaloID = 547844\n",
    "data_contrarotante = data.copy()\n",
    "#Filtremos primero por el subhalo de interes\n",
    "filtro_subhalo = np.isin(data_contrarotante['SubfindID'],SubhaloID)\n",
    "data_contrarotante['ParticleID'] = data_contrarotante['ParticleID'][filtro_subhalo]\n",
    "data_contrarotante['AccretionOrigin'] = data_contrarotante['AccretionOrigin'][filtro_subhalo]\n",
    "data_contrarotante['DistanceAtFormation'] = data_contrarotante['DistanceAtFormation'][filtro_subhalo]\n",
    "data_contrarotante['InSitu'] = data_contrarotante['InSitu'][filtro_subhalo]\n",
    "data_contrarotante['MergerMassRatio'] = data_contrarotante['MergerMassRatio'][filtro_subhalo]\n",
    "data_contrarotante['SnapNumAtFormation'] = data_contrarotante['SnapNumAtFormation'][filtro_subhalo]\n",
    "data_contrarotante['SubfindID'] = data_contrarotante['SubfindID'][filtro_subhalo]\n",
    "data_contrarotante['SubfindIDAtFormation'] = data_contrarotante['SubfindIDAtFormation'][filtro_subhalo]\n",
    "#y filtremos ahora por las ids de las contrarotantes\n",
    "filename = 'tables/subhalo'\n",
    "filename += str(SubhaloID)\n",
    "filename += '.0_counterrotating.csv'\n",
    "\n",
    "subhalo_df = pd.read_csv(filename)\n",
    "\n",
    "filtro_contrarotante = np.isin(data_contrarotante['ParticleID'],subhalo_df['ParticleIDs'])\n",
    "data_contrarotante['ParticleID'] = data_contrarotante['ParticleID'][filtro_contrarotante]\n",
    "data_contrarotante['AccretionOrigin'] = data_contrarotante['AccretionOrigin'][filtro_contrarotante]\n",
    "data_contrarotante['DistanceAtFormation'] = data_contrarotante['DistanceAtFormation'][filtro_contrarotante]\n",
    "data_contrarotante['InSitu'] = data_contrarotante['InSitu'][filtro_contrarotante]\n",
    "data_contrarotante['MergerMassRatio'] = data_contrarotante['MergerMassRatio'][filtro_contrarotante]\n",
    "data_contrarotante['SnapNumAtFormation'] = data_contrarotante['SnapNumAtFormation'][filtro_contrarotante]\n",
    "data_contrarotante['SubfindID'] = data_contrarotante['SubfindID'][filtro_contrarotante]\n",
    "data_contrarotante['SubfindIDAtFormation'] = data_contrarotante['SubfindIDAtFormation'][filtro_contrarotante]\n",
    "\n",
    "insitu_info = data_contrarotante['InSitu']\n",
    "\n",
    "labels = ['Exsitu','Insitu']\n",
    "\n",
    "# Calculate the histogram\n",
    "hist, bins = np.histogram(insitu_info, bins=[0, 0.5, 1])\n",
    "\n",
    "# Plot the histogram\n",
    "plt.bar(labels, hist, width=0.4,color='green')\n",
    "plt.xlabel('Formacion de la particula estelar')\n",
    "plt.ylabel('N')\n",
    "plt.title('Origin of counterrotating stellar particles')\n",
    "plt.savefig('insitu%s'%SubhaloID)\n"
   ]
  },
  {
   "cell_type": "code",
   "execution_count": null,
   "id": "835fc4ca-a273-49a9-bece-d47f2101d194",
   "metadata": {},
   "outputs": [
    {
     "data": {
      "text/plain": [
       "array([141651, 141651, 244601, ..., 191845, 253962, 175661], dtype=int32)"
      ]
     },
     "execution_count": 8,
     "metadata": {},
     "output_type": "execute_result"
    }
   ],
   "source": [
    "data_contrarotante['SubfindIDAtFormation'][np.where(data_contrarotante['InSitu'] == 1)]"
   ]
  },
  {
   "cell_type": "code",
   "execution_count": 8,
   "id": "58e768dd-19e0-46bb-b8e7-33dd2104f911",
   "metadata": {},
   "outputs": [
    {
     "data": {
      "image/png": "[encoded data removed]",
      "text/plain": [
       "<Figure size 432x288 with 1 Axes>"
      ]
     },
     "metadata": {
      "needs_background": "light"
     },
     "output_type": "display_data"
    }
   ],
   "source": [
    "subhalos_origen = data_contrarotante['SubfindIDAtFormation']\n",
    "subhalos_origen = subhalos_origen.astype(str)\n",
    "\n",
    "unicos_subhalos, cuentas = np.unique(subhalos_origen, return_counts=True)\n",
    "\n",
    "indices_ordenados = np.argsort(-cuentas)\n",
    "subhalos_orden = unicos_subhalos[indices_ordenados]\n",
    "cuentas_orden = cuentas[indices_ordenados]\n",
    "\n",
    "top5_subhalos = subhalos_orden[:5]\n",
    "top5_cuentas = cuentas_orden[:5]\n",
    "\n",
    "plt.barh(top5_subhalos,top5_cuentas,color='green')\n",
    "plt.gca().invert_yaxis()\n",
    "plt.title('Top Subhalo origins for subhalo %s'%SubhaloID)\n",
    "plt.savefig('origins%s'%SubhaloID)"
   ]
  },
  {
   "cell_type": "code",
   "execution_count": 10,
   "id": "315476a4-cc40-44cc-ad68-0e52ed7829b4",
   "metadata": {},
   "outputs": [
    {
     "data": {
      "image/png": "[encoded data removed]",
      "text/plain": [
       "<Figure size 432x288 with 1 Axes>"
      ]
     },
     "metadata": {
      "needs_background": "light"
     },
     "output_type": "display_data"
    }
   ],
   "source": [
    "subhalos_origen = data_contrarotante['SnapNumAtFormation']\n",
    "subhalos_origen = subhalos_origen.astype(str)\n",
    "\n",
    "unicos_subhalos, cuentas = np.unique(simport h5py\n",
    "import numpy as np\n",
    "import pandas as pd\n",
    "import matplotlib.pyplot as plt\n",
    "import illustris_python as ilubhalos_origen, return_counts=True)\n",
    "\n",
    "indices_ordenados = np.argsort(-cuentas)\n",
    "subhalos_orden = unicos_subhalos[indices_ordenados]\n",
    "cuentas_orden = cuentas[indices_ordenados]\n",
    "\n",
    "top5_subhalos = subhalos_orden[:5]\n",
    "top5_cuentas = cuentas_orden[:5]\n",
    "\n",
    "plt.barh(top5_subhalos,top5_cuentas,color='green')\n",
    "plt.gca().invert_yaxis()\n",
    "plt.title('Top Snap origins for subhalo %s'%SubhaloID)\n",
    "plt.savefig('timeorigins%s'%SubhaloID)"
   ]
  },
  {
   "cell_type": "code",
   "execution_count": null,
   "id": "d7059f7d-d50b-4f0e-b79e-03d346c9f552",
   "metadata": {},
   "outputs": [
    {
     "data": {
      "text/plain": [
       "19003"
      ]
     },
     "execution_count": 11,
     "metadata": {},
     "output_type": "execute_result"
    }
   ],
   "source": [
    "len(data_contrarotante['SubfindIDAtFormation'])"
   ]
  },
  {
   "cell_type": "code",
   "execution_count": null,
   "id": "28f2c1bb-c472-4f8e-9bd1-a03cf728f392",
   "metadata": {},
   "outputs": [
    {
     "name": "stdout",
     "output_type": "stream",
     "text": [
      "lmao\n"
     ]
    }
   ],
   "source": [
    "a = 'lmao'\n",
    "print('%s'%a)"
   ]
  },
  {
   "cell_type": "code",
   "execution_count": null,
   "id": "a074760f-d133-4cba-9588-3faeb4a3a301",
   "metadata": {},
   "outputs": [],
   "source": []
  }
 ],
 "metadata": {
  "kernelspec": {
   "display_name": "Python 3",
   "language": "python",
   "name": "python3"
  },
  "language_info": {
   "codemirror_mode": {
    "name": "ipython",
    "version": 3
   },
   "file_extension": ".py",
   "mimetype": "text/x-python",
   "name": "python",
   "nbconvert_exporter": "python",
   "pygments_lexer": "ipython3",
   "version": "3.6.15"
  }
 },
 "nbformat": 4,
 "nbformat_minor": 5
}
