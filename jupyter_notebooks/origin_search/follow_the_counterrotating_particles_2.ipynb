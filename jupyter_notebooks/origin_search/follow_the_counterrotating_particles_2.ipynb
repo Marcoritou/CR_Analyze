{
 "cells": [
  {
   "cell_type": "code",
   "execution_count": 1,
   "id": "a29db7d9-f9f8-49c7-b119-495782b64bb9",
   "metadata": {},
   "outputs": [],
   "source": [
    "#obtaining top leafsubhaloid\n",
    "\n",
    "import h5py\n",
    "import numpy as np\n",
    "import pandas as pd\n",
    "import matplotlib as mpl\n",
    "import matplotlib.pyplot as plt\n",
    "import illustris_python as il\n",
    "from tqdm import tqdm\n",
    "\n",
    "def hdf5_to_dict(file_path):\n",
    "    data_dict = {}\n",
    "    \n",
    "    with h5py.File(file_path, 'r') as hdf_file:\n",
    "        # Recursively traverse the HDF5 file and populate the dictionary\n",
    "        def traverse(name, obj):\n",
    "            if isinstance(obj, h5py.Dataset):\n",
    "                data_dict[name] = obj[()]  # Store dataset value in dictionary\n",
    "            elif isinstance(obj, h5py.Group):\n",
    "                # Create a nested dictionary for groups\n",
    "                group_dict = {}\n",
    "                data_dict[name] = group_dict\n",
    "                \n",
    "                # Recursively visit the group's children\n",
    "                obj.visititems(traverse)\n",
    "        \n",
    "        hdf_file.visititems(traverse)\n",
    "    \n",
    "    return data_dict"
   ]
  },
  {
   "cell_type": "code",
   "execution_count": 2,
   "id": "e217a861-b194-48a8-be0b-ba65638ed75f",
   "metadata": {},
   "outputs": [],
   "source": [
    "#IMPORTANDO FUNCIONES PROPIAS\n",
    "from particle_follower import load_counterrotating_particles\n",
    "from particle_follower import load_stellar_particles\n",
    "from particle_follower import filter_particles_byID\n",
    "from particle_follower import generate_time_table\n",
    "from particle_follower import generate_time_tables\n",
    "from particle_follower import obtain_subhalo_pos"
   ]
  },
  {
   "cell_type": "code",
   "execution_count": 4,
   "id": "e49b088f-627c-4fa4-b698-e59b9d4f8ffb",
   "metadata": {},
   "outputs": [
    {
     "name": "stdout",
     "output_type": "stream",
     "text": [
      "Cargando particulas del subhalo\n",
      "Cargando particulas en snapshot 30\n",
      "Comenzando filtrado\n",
      "cambio del marco de referencia\n",
      "Tabla para particulas CR 628949 en la snapshot 30 CONSTRUIDA\n",
      "Cargando particulas en snapshot 31\n",
      "Comenzando filtrado\n",
      "cambio del marco de referencia\n",
      "Tabla para particulas CR 628949 en la snapshot 31 CONSTRUIDA\n",
      "Cargando particulas en snapshot 32\n",
      "Comenzando filtrado\n",
      "cambio del marco de referencia\n",
      "Tabla para particulas CR 628949 en la snapshot 32 CONSTRUIDA\n",
      "Cargando particulas en snapshot 33\n",
      "Comenzando filtrado\n",
      "cambio del marco de referencia\n",
      "Tabla para particulas CR 628949 en la snapshot 33 CONSTRUIDA\n",
      "Cargando particulas en snapshot 34\n",
      "Comenzando filtrado\n",
      "cambio del marco de referencia\n",
      "Tabla para particulas CR 628949 en la snapshot 34 CONSTRUIDA\n",
      "Cargando particulas en snapshot 35\n",
      "Comenzando filtrado\n",
      "cambio del marco de referencia\n",
      "Tabla para particulas CR 628949 en la snapshot 35 CONSTRUIDA\n",
      "Cargando particulas en snapshot 36\n",
      "Comenzando filtrado\n",
      "cambio del marco de referencia\n",
      "Tabla para particulas CR 628949 en la snapshot 36 CONSTRUIDA\n",
      "Cargando particulas en snapshot 37\n",
      "Comenzando filtrado\n",
      "cambio del marco de referencia\n",
      "Tabla para particulas CR 628949 en la snapshot 37 CONSTRUIDA\n",
      "Cargando particulas en snapshot 38\n",
      "Comenzando filtrado\n",
      "cambio del marco de referencia\n",
      "Tabla para particulas CR 628949 en la snapshot 38 CONSTRUIDA\n",
      "Cargando particulas en snapshot 39\n",
      "Comenzando filtrado\n",
      "cambio del marco de referencia\n",
      "Tabla para particulas CR 628949 en la snapshot 39 CONSTRUIDA\n",
      "Cargando particulas en snapshot 40\n",
      "Comenzando filtrado\n",
      "cambio del marco de referencia\n",
      "Tabla para particulas CR 628949 en la snapshot 40 CONSTRUIDA\n",
      "Cargando particulas en snapshot 41\n",
      "Comenzando filtrado\n",
      "cambio del marco de referencia\n",
      "Tabla para particulas CR 628949 en la snapshot 41 CONSTRUIDA\n",
      "Cargando particulas en snapshot 42\n",
      "Comenzando filtrado\n",
      "cambio del marco de referencia\n",
      "Tabla para particulas CR 628949 en la snapshot 42 CONSTRUIDA\n",
      "Cargando particulas en snapshot 43\n",
      "Comenzando filtrado\n",
      "cambio del marco de referencia\n",
      "Tabla para particulas CR 628949 en la snapshot 43 CONSTRUIDA\n",
      "Cargando particulas en snapshot 44\n",
      "Comenzando filtrado\n",
      "cambio del marco de referencia\n",
      "Tabla para particulas CR 628949 en la snapshot 44 CONSTRUIDA\n",
      "Cargando particulas en snapshot 45\n",
      "Comenzando filtrado\n",
      "cambio del marco de referencia\n",
      "Tabla para particulas CR 628949 en la snapshot 45 CONSTRUIDA\n",
      "Cargando particulas en snapshot 46\n",
      "Comenzando filtrado\n",
      "cambio del marco de referencia\n",
      "Tabla para particulas CR 628949 en la snapshot 46 CONSTRUIDA\n",
      "Cargando particulas en snapshot 47\n",
      "Comenzando filtrado\n",
      "cambio del marco de referencia\n",
      "Tabla para particulas CR 628949 en la snapshot 47 CONSTRUIDA\n",
      "Cargando particulas en snapshot 48\n",
      "Comenzando filtrado\n",
      "cambio del marco de referencia\n",
      "Tabla para particulas CR 628949 en la snapshot 48 CONSTRUIDA\n",
      "Cargando particulas en snapshot 49\n",
      "Comenzando filtrado\n",
      "cambio del marco de referencia\n",
      "Tabla para particulas CR 628949 en la snapshot 49 CONSTRUIDA\n"
     ]
    },
    {
     "data": {
      "text/plain": [
       "'Tablas generadas'"
      ]
     },
     "execution_count": 4,
     "metadata": {},
     "output_type": "execute_result"
    }
   ],
   "source": [
    "subhaloid_list = [ 455291,  478216,  501208,  531910,  547844,  570319, 571633,  582137,  589496,  598112,  606820,  619381,  628949]\n",
    "subhaloid = subhaloid_list[12]\n",
    "generate_time_tables(subhaloid,30,49)"
   ]
  }
 ],
 "metadata": {
  "kernelspec": {
   "display_name": "Python 3",
   "language": "python",
   "name": "python3"
  },
  "language_info": {
   "codemirror_mode": {
    "name": "ipython",
    "version": 3
   },
   "file_extension": ".py",
   "mimetype": "text/x-python",
   "name": "python",
   "nbconvert_exporter": "python",
   "pygments_lexer": "ipython3",
   "version": "3.6.15"
  }
 },
 "nbformat": 4,
 "nbformat_minor": 5
}
