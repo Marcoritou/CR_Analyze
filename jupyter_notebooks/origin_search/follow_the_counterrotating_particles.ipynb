{
 "cells": [
  {
   "cell_type": "code",
   "execution_count": 1,
   "id": "5518ace2-646a-4ff6-928e-20e98cb4a7f9",
   "metadata": {
    "tags": []
   },
   "outputs": [],
   "source": [
    "#obtaining top leafsubhaloid\n",
    "\n",
    "import h5py\n",
    "import numpy as np\n",
    "import pandas as pd\n",
    "import matplotlib as mpl\n",
    "import matplotlib.pyplot as plt\n",
    "import illustris_python as il\n",
    "from tqdm import tqdm\n",
    "\n",
    "def hdf5_to_dict(file_path):\n",
    "    data_dict = {}\n",
    "    \n",
    "    with h5py.File(file_path, 'r') as hdf_file:\n",
    "        # Recursively traverse the HDF5 file and populate the dictionary\n",
    "        def traverse(name, obj):\n",
    "            if isinstance(obj, h5py.Dataset):\n",
    "                data_dict[name] = obj[()]  # Store dataset value in dictionary\n",
    "            elif isinstance(obj, h5py.Group):\n",
    "                # Create a nested dictionary for groups\n",
    "                group_dict = {}\n",
    "                data_dict[name] = group_dict\n",
    "                \n",
    "                # Recursively visit the group's children\n",
    "                obj.visititems(traverse)\n",
    "        \n",
    "        hdf_file.visititems(traverse)\n",
    "    \n",
    "    return data_dict"
   ]
  },
  {
   "cell_type": "markdown",
   "id": "5f903b7b-33be-4702-bb12-193a1efcaef4",
   "metadata": {},
   "source": [
    "# ZONA DE TESTEO RANDOM"
   ]
  },
  {
   "cell_type": "code",
   "execution_count": 2,
   "id": "5ded8705-bb4d-42a6-9763-590bdfe91fcb",
   "metadata": {},
   "outputs": [],
   "source": [
    "#datos estelares de todas las particulas\n",
    "fields = ['Coordinates','ParticleIDs']\n",
    "basePath = '/virgotng/universe/IllustrisTNG/L35n2160TNG/output'\n",
    "star_data = il.snapshot.loadSubset(basePath, 99, 'star', fields=fields)\n",
    "\n",
    "#del star_data['count']"
   ]
  },
  {
   "cell_type": "code",
   "execution_count": 7,
   "id": "7e4f8139-5f92-46bc-bb58-ce67466e707c",
   "metadata": {},
   "outputs": [
    {
     "data": {
      "text/html": [
       "<div>\n",
       "<style scoped>\n",
       "    .dataframe tbody tr th:only-of-type {\n",
       "        vertical-align: middle;\n",
       "    }\n",
       "\n",
       "    .dataframe tbody tr th {\n",
       "        vertical-align: top;\n",
       "    }\n",
       "\n",
       "    .dataframe thead th {\n",
       "        text-align: right;\n",
       "    }\n",
       "</style>\n",
       "<table border=\"1\" class=\"dataframe\">\n",
       "  <thead>\n",
       "    <tr style=\"text-align: right;\">\n",
       "      <th></th>\n",
       "      <th>Unnamed: 0</th>\n",
       "      <th>M</th>\n",
       "      <th>x</th>\n",
       "      <th>y</th>\n",
       "      <th>z</th>\n",
       "      <th>Vx</th>\n",
       "      <th>Vy</th>\n",
       "      <th>Vz</th>\n",
       "      <th>Metallicity</th>\n",
       "      <th>U</th>\n",
       "      <th>StellarFormationTime</th>\n",
       "      <th>R</th>\n",
       "      <th>Jx</th>\n",
       "      <th>Jy</th>\n",
       "      <th>Jz</th>\n",
       "      <th>Total Energy</th>\n",
       "      <th>Circularity</th>\n",
       "      <th>ParticleIDs</th>\n",
       "    </tr>\n",
       "  </thead>\n",
       "  <tbody>\n",
       "    <tr>\n",
       "      <th>0</th>\n",
       "      <td>0</td>\n",
       "      <td>58448.898438</td>\n",
       "      <td>-0.154764</td>\n",
       "      <td>0.074867</td>\n",
       "      <td>0.017551</td>\n",
       "      <td>4.889226</td>\n",
       "      <td>89.534176</td>\n",
       "      <td>-21.100849</td>\n",
       "      <td>2.087895</td>\n",
       "      <td>-247481.671875</td>\n",
       "      <td>0.259017</td>\n",
       "      <td>0.172815</td>\n",
       "      <td>-3.151162</td>\n",
       "      <td>-3.179844</td>\n",
       "      <td>-14.222720</td>\n",
       "      <td>-243238.912385</td>\n",
       "      <td>-0.731022</td>\n",
       "      <td>117199215714</td>\n",
       "    </tr>\n",
       "    <tr>\n",
       "      <th>1</th>\n",
       "      <td>1</td>\n",
       "      <td>62360.707031</td>\n",
       "      <td>-0.020649</td>\n",
       "      <td>0.320695</td>\n",
       "      <td>-0.029299</td>\n",
       "      <td>49.370230</td>\n",
       "      <td>11.525117</td>\n",
       "      <td>21.150869</td>\n",
       "      <td>1.606135</td>\n",
       "      <td>-243849.562500</td>\n",
       "      <td>0.262900</td>\n",
       "      <td>0.322692</td>\n",
       "      <td>7.120658</td>\n",
       "      <td>-1.009767</td>\n",
       "      <td>-16.070773</td>\n",
       "      <td>-242340.758919</td>\n",
       "      <td>-0.763500</td>\n",
       "      <td>117529495303</td>\n",
       "    </tr>\n",
       "    <tr>\n",
       "      <th>2</th>\n",
       "      <td>2</td>\n",
       "      <td>58892.878906</td>\n",
       "      <td>-0.134683</td>\n",
       "      <td>0.284063</td>\n",
       "      <td>-0.026598</td>\n",
       "      <td>56.775556</td>\n",
       "      <td>62.465438</td>\n",
       "      <td>-1.170615</td>\n",
       "      <td>2.457734</td>\n",
       "      <td>-245603.109375</td>\n",
       "      <td>0.339009</td>\n",
       "      <td>0.315498</td>\n",
       "      <td>1.328940</td>\n",
       "      <td>-1.667789</td>\n",
       "      <td>-24.540860</td>\n",
       "      <td>-242039.726892</td>\n",
       "      <td>-1.165902</td>\n",
       "      <td>122958304653</td>\n",
       "    </tr>\n",
       "    <tr>\n",
       "      <th>3</th>\n",
       "      <td>3</td>\n",
       "      <td>41889.089844</td>\n",
       "      <td>0.231612</td>\n",
       "      <td>-0.297637</td>\n",
       "      <td>-0.077891</td>\n",
       "      <td>-44.759405</td>\n",
       "      <td>-12.339432</td>\n",
       "      <td>24.386536</td>\n",
       "      <td>1.216150</td>\n",
       "      <td>-243326.984375</td>\n",
       "      <td>0.377832</td>\n",
       "      <td>0.385096</td>\n",
       "      <td>-8.219477</td>\n",
       "      <td>-2.161859</td>\n",
       "      <td>-16.180036</td>\n",
       "      <td>-241951.799836</td>\n",
       "      <td>-0.768691</td>\n",
       "      <td>127174665332</td>\n",
       "    </tr>\n",
       "    <tr>\n",
       "      <th>4</th>\n",
       "      <td>4</td>\n",
       "      <td>45795.941406</td>\n",
       "      <td>-0.385167</td>\n",
       "      <td>0.143833</td>\n",
       "      <td>-0.002027</td>\n",
       "      <td>8.152116</td>\n",
       "      <td>40.101793</td>\n",
       "      <td>-19.987695</td>\n",
       "      <td>2.832675</td>\n",
       "      <td>-242528.828125</td>\n",
       "      <td>0.300566</td>\n",
       "      <td>0.411152</td>\n",
       "      <td>-2.793607</td>\n",
       "      <td>-7.715132</td>\n",
       "      <td>-16.618447</td>\n",
       "      <td>-241491.768760</td>\n",
       "      <td>-0.790647</td>\n",
       "      <td>119574225956</td>\n",
       "    </tr>\n",
       "  </tbody>\n",
       "</table>\n",
       "</div>"
      ],
      "text/plain": [
       "   Unnamed: 0             M         x         y         z         Vx  \\\n",
       "0           0  58448.898438 -0.154764  0.074867  0.017551   4.889226   \n",
       "1           1  62360.707031 -0.020649  0.320695 -0.029299  49.370230   \n",
       "2           2  58892.878906 -0.134683  0.284063 -0.026598  56.775556   \n",
       "3           3  41889.089844  0.231612 -0.297637 -0.077891 -44.759405   \n",
       "4           4  45795.941406 -0.385167  0.143833 -0.002027   8.152116   \n",
       "\n",
       "          Vy         Vz  Metallicity              U  StellarFormationTime  \\\n",
       "0  89.534176 -21.100849     2.087895 -247481.671875              0.259017   \n",
       "1  11.525117  21.150869     1.606135 -243849.562500              0.262900   \n",
       "2  62.465438  -1.170615     2.457734 -245603.109375              0.339009   \n",
       "3 -12.339432  24.386536     1.216150 -243326.984375              0.377832   \n",
       "4  40.101793 -19.987695     2.832675 -242528.828125              0.300566   \n",
       "\n",
       "          R        Jx        Jy         Jz   Total Energy  Circularity  \\\n",
       "0  0.172815 -3.151162 -3.179844 -14.222720 -243238.912385    -0.731022   \n",
       "1  0.322692  7.120658 -1.009767 -16.070773 -242340.758919    -0.763500   \n",
       "2  0.315498  1.328940 -1.667789 -24.540860 -242039.726892    -1.165902   \n",
       "3  0.385096 -8.219477 -2.161859 -16.180036 -241951.799836    -0.768691   \n",
       "4  0.411152 -2.793607 -7.715132 -16.618447 -241491.768760    -0.790647   \n",
       "\n",
       "    ParticleIDs  \n",
       "0  117199215714  \n",
       "1  117529495303  \n",
       "2  122958304653  \n",
       "3  127174665332  \n",
       "4  119574225956  "
      ]
     },
     "execution_count": 7,
     "metadata": {},
     "output_type": "execute_result"
    }
   ],
   "source": [
    "subhaloid_list = [547844, 455291, 478216, 501208, 531910, 570319, 571633, 582137, 589496, 598112, 606820, 619381, 628949]\n",
    "subhaloid = subhaloid_list[0]\n",
    "\n",
    "filename = 'tables/subhalo'\n",
    "filename += str(subhaloid)\n",
    "filename += '.0.csv'\n",
    "\n",
    "subhalo_df = pd.read_csv(filename)\n",
    "subhalo_df.head()\n",
    "\n",
    "filename = 'tables/subhalo'\n",
    "filename += str(subhaloid)\n",
    "filename += '.0_counterrotating.csv'\n",
    "\n",
    "subhalo_df_counterrotating = pd.read_csv(filename)\n",
    "subhalo_df_counterrotating.head()"
   ]
  },
  {
   "cell_type": "code",
   "execution_count": 4,
   "id": "8690f626-7ddf-47b9-8189-52e2ea7b2d5e",
   "metadata": {},
   "outputs": [
    {
     "data": {
      "text/html": [
       "<div>\n",
       "<style scoped>\n",
       "    .dataframe tbody tr th:only-of-type {\n",
       "        vertical-align: middle;\n",
       "    }\n",
       "\n",
       "    .dataframe tbody tr th {\n",
       "        vertical-align: top;\n",
       "    }\n",
       "\n",
       "    .dataframe thead th {\n",
       "        text-align: right;\n",
       "    }\n",
       "</style>\n",
       "<table border=\"1\" class=\"dataframe\">\n",
       "  <thead>\n",
       "    <tr style=\"text-align: right;\">\n",
       "      <th></th>\n",
       "      <th>snapnum</th>\n",
       "      <th>redshift</th>\n",
       "      <th>scalefactor</th>\n",
       "      <th>h</th>\n",
       "      <th>omega_0</th>\n",
       "      <th>omega_lambda</th>\n",
       "    </tr>\n",
       "  </thead>\n",
       "  <tbody>\n",
       "    <tr>\n",
       "      <th>0</th>\n",
       "      <td>1.0</td>\n",
       "      <td>14.989173</td>\n",
       "      <td>0.062542</td>\n",
       "      <td>0.6774</td>\n",
       "      <td>0.3089</td>\n",
       "      <td>0.6911</td>\n",
       "    </tr>\n",
       "    <tr>\n",
       "      <th>1</th>\n",
       "      <td>2.0</td>\n",
       "      <td>11.980213</td>\n",
       "      <td>0.077040</td>\n",
       "      <td>0.6774</td>\n",
       "      <td>0.3089</td>\n",
       "      <td>0.6911</td>\n",
       "    </tr>\n",
       "    <tr>\n",
       "      <th>2</th>\n",
       "      <td>3.0</td>\n",
       "      <td>10.975643</td>\n",
       "      <td>0.083503</td>\n",
       "      <td>0.6774</td>\n",
       "      <td>0.3089</td>\n",
       "      <td>0.6911</td>\n",
       "    </tr>\n",
       "    <tr>\n",
       "      <th>3</th>\n",
       "      <td>4.0</td>\n",
       "      <td>9.996591</td>\n",
       "      <td>0.090937</td>\n",
       "      <td>0.6774</td>\n",
       "      <td>0.3089</td>\n",
       "      <td>0.6911</td>\n",
       "    </tr>\n",
       "    <tr>\n",
       "      <th>4</th>\n",
       "      <td>5.0</td>\n",
       "      <td>9.388771</td>\n",
       "      <td>0.096258</td>\n",
       "      <td>0.6774</td>\n",
       "      <td>0.3089</td>\n",
       "      <td>0.6911</td>\n",
       "    </tr>\n",
       "  </tbody>\n",
       "</table>\n",
       "</div>"
      ],
      "text/plain": [
       "   snapnum   redshift  scalefactor       h  omega_0  omega_lambda\n",
       "0      1.0  14.989173     0.062542  0.6774   0.3089        0.6911\n",
       "1      2.0  11.980213     0.077040  0.6774   0.3089        0.6911\n",
       "2      3.0  10.975643     0.083503  0.6774   0.3089        0.6911\n",
       "3      4.0   9.996591     0.090937  0.6774   0.3089        0.6911\n",
       "4      5.0   9.388771     0.096258  0.6774   0.3089        0.6911"
      ]
     },
     "execution_count": 4,
     "metadata": {},
     "output_type": "execute_result"
    }
   ],
   "source": [
    "#datos del header de la snapshot, para transformar coords y esas cosas\n",
    "snap_header = pd.read_csv('snap_header.csv')\n",
    "\n",
    "snapNum = 99\n",
    "redshift_z = np.round(snap_header['redshift'][snapNum-1],3)\n",
    "scalefactor_a = snap_header['scalefactor'][snapNum-1]\n",
    "\n",
    "#esto no es necesario, ya que h y los omegas son valores fijos en verdad, (._.)\n",
    "h = snap_header['h'][snapNum-1]\n",
    "H_0 = h/10\n",
    "omega_0 = snap_header['omega_0'][snaobtain_subhalo_pospNum-1]\n",
    "omega_lambda = snap_header['omega_lambda'][snapNum-1]\n",
    "\n",
    "w_a = omega_0/(omega_lambda*(scalefactor_a**3))\n",
    "H_a = H_0 * np.sqrt(omega_lambda) * np.sqrt(1 + w_a)\n",
    "snap_header.head()"
   ]
  },
  {
   "cell_type": "code",
   "execution_count": 5,
   "id": "eef50dce-f7a4-4033-904f-106f89c4c31b",
   "metadata": {},
   "outputs": [
    {
     "data": {
      "text/plain": [
       "(0.6773999929428101,\n",
       " 0.06773999929428101,\n",
       " 0.308899998664856,\n",
       " 0.691100001335144,\n",
       " 0.44696859798594785,\n",
       " 0.06773999929428101)"
      ]
     },
     "execution_count": 5,
     "metadata": {},
     "output_type": "execute_result"
    }
   ],
   "source": [
    "h,H_0,omega_0,omega_lambda,w_a,H_a"
   ]
  },
  {
   "cell_type": "code",
   "execution_count": 6,
   "id": "b93e239f-6ff9-464c-af3e-3866f149a36f",
   "metadata": {},
   "outputs": [
    {
     "data": {
      "text/plain": [
       "(0.0, 1.0)"
      ]
     },
     "execution_count": 6,
     "metadata": {},
     "output_type": "execute_result"
    }
   ],
   "source": [
    "redshift_z, scalefactor_a"
   ]
  },
  {
   "cell_type": "code",
   "execution_count": 10,
   "id": "04efb2eb-4279-416c-b961-77927cf97a7a",
   "metadata": {},
   "outputs": [
    {
     "data": {
      "text/plain": [
       "array([False, False, False, ..., False, False, False])"
      ]
     },
     "execution_count": 10,
     "metadata": {},
     "output_type": "execute_result"
    }
   ],
   "source": [
    "#Datos base obtenidos arriba\n",
    "#subhalo_df dataframe keys ParticleIDs\n",
    "#stars_data dict keys Coordinates ParticleIDs\n",
    "#\n",
    "\n",
    "filtro_contrarotante = np.isin(star_data['ParticleIDs'],subhalo_df_counterrotating['ParticleIDs'])\n",
    "filtro_contrarotante"
   ]
  },
  {
   "cell_type": "code",
   "execution_count": 13,
   "id": "397b4506-1a43-417d-876f-b06c9d65b74f",
   "metadata": {},
   "outputs": [
    {
     "data": {
      "text/plain": [
       "array([117199215714, 117529495303, 127174665332, ..., 111278921093,\n",
       "       101676107873, 101676110689], dtype=uint64)"
      ]
     },
     "execution_count": 13,
     "metadata": {},
     "output_type": "execute_result"
    }
   ],
   "source": [
    "star_data['ParticleIDs'][filtro_contrarotante]"
   ]
  },
  {
   "cell_type": "code",
   "execution_count": 18,
   "id": "8ceccf59-983e-46b7-9387-88b18274c4f9",
   "metadata": {},
   "outputs": [
    {
     "data": {
      "text/plain": [
       "(array([7943.74689251, 7943.72458284, 7943.910004  , ..., 8008.83240232,\n",
       "        7923.07775614, 7933.12140438]),\n",
       " array([14833.81912448, 14833.64991372, 14834.02802296, ...,\n",
       "        14774.48847702, 14874.77593083, 14873.98004177]),\n",
       " array([3681.99132753, 3681.9026651 , 3681.73420489, ..., 3645.11578791,\n",
       "        3703.71173287, 3693.44908228]))"
      ]
     },
     "execution_count": 18,
     "metadata": {},
     "output_type": "execute_result"
    }
   ],
   "source": [
    "star_data['Coordinates'][filtro_contrarotante,0],star_data['Coordinates'][filtro_contrarotante,1],star_data['Coordinates'][filtro_contrarotante,2]"
   ]
  },
  {
   "cell_type": "markdown",
   "id": "383780a3-7191-4d27-8ba9-fedb0cd249f5",
   "metadata": {},
   "source": [
    "### ZONA DE EJECUCION"
   ]
  },
  {
   "cell_type": "code",
   "execution_count": 2,
   "id": "2fbdd112-a6f5-478e-adeb-39464f0dd8c9",
   "metadata": {},
   "outputs": [],
   "source": [
    "#IMPORTANDO FUNCIONES PROPIAS\n",
    "from particle_follower import load_counterrotating_particles\n",
    "from particle_follower import load_stellar_particles\n",
    "from particle_follower import filter_particles_byID\n",
    "from particle_follower import generate_time_table\n",
    "from particle_follower import generate_time_tables\n",
    "from particle_follower import obtain_subhalo_pos"
   ]
  },
  {
   "cell_type": "code",
   "execution_count": 3,
   "id": "5149d1dd-4f1c-4a3d-86d8-9d5e745f1e7e",
   "metadata": {},
   "outputs": [
    {
     "name": "stdout",
     "output_type": "stream",
     "text": [
      "Cargando particulas del subhalo\n",
      "Cargando particulas en snapshot 15\n",
      "Comenzando filtrado\n",
      "cambio del marco de referencia\n",
      "Tabla para particulas CR 628949 en la snapshot 15 CONSTRUIDA\n",
      "Cargando particulas en snapshot 16\n",
      "Comenzando filtrado\n",
      "cambio del marco de referencia\n",
      "Tabla para particulas CR 628949 en la snapshot 16 CONSTRUIDA\n",
      "Cargando particulas en snapshot 17\n",
      "Comenzando filtrado\n",
      "cambio del marco de referencia\n",
      "Tabla para particulas CR 628949 en la snapshot 17 CONSTRUIDA\n",
      "Cargando particulas en snapshot 18\n",
      "Comenzando filtrado\n",
      "cambio del marco de referencia\n",
      "Tabla para particulas CR 628949 en la snapshot 18 CONSTRUIDA\n",
      "Cargando particulas en snapshot 19\n",
      "Comenzando filtrado\n",
      "cambio del marco de referencia\n",
      "Tabla para particulas CR 628949 en la snapshot 19 CONSTRUIDA\n",
      "Cargando particulas en snapshot 20\n",
      "Comenzando filtrado\n",
      "cambio del marco de referencia\n",
      "Tabla para particulas CR 628949 en la snapshot 20 CONSTRUIDA\n",
      "Cargando particulas en snapshot 21\n",
      "Comenzando filtrado\n",
      "cambio del marco de referencia\n",
      "Tabla para particulas CR 628949 en la snapshot 21 CONSTRUIDA\n",
      "Cargando particulas en snapshot 22\n",
      "Comenzando filtrado\n",
      "cambio del marco de referencia\n",
      "Tabla para particulas CR 628949 en la snapshot 22 CONSTRUIDA\n",
      "Cargando particulas en snapshot 23\n",
      "Comenzando filtrado\n",
      "cambio del marco de referencia\n",
      "Tabla para particulas CR 628949 en la snapshot 23 CONSTRUIDA\n",
      "Cargando particulas en snapshot 24\n",
      "Comenzando filtrado\n",
      "cambio del marco de referencia\n",
      "Tabla para particulas CR 628949 en la snapshot 24 CONSTRUIDA\n",
      "Cargando particulas en snapshot 25\n",
      "Comenzando filtrado\n",
      "cambio del marco de referencia\n",
      "Tabla para particulas CR 628949 en la snapshot 25 CONSTRUIDA\n",
      "Cargando particulas en snapshot 26\n",
      "Comenzando filtrado\n",
      "cambio del marco de referencia\n",
      "Tabla para particulas CR 628949 en la snapshot 26 CONSTRUIDA\n",
      "Cargando particulas en snapshot 27\n",
      "Comenzando filtrado\n",
      "cambio del marco de referencia\n",
      "Tabla para particulas CR 628949 en la snapshot 27 CONSTRUIDA\n",
      "Cargando particulas en snapshot 28\n",
      "Comenzando filtrado\n",
      "cambio del marco de referencia\n",
      "Tabla para particulas CR 628949 en la snapshot 28 CONSTRUIDA\n",
      "Cargando particulas en snapshot 29\n",
      "Comenzando filtrado\n",
      "cambio del marco de referencia\n",
      "Tabla para particulas CR 628949 en la snapshot 29 CONSTRUIDA\n"
     ]
    },
    {
     "data": {
      "text/plain": [
       "'Tablas generadas'"
      ]
     },
     "execution_count": 3,
     "metadata": {},
     "output_type": "execute_result"
    }
   ],
   "source": [
    "subhaloid_list = [ 455291,  478216,  501208,  531910,  547844,  570319, 571633,  582137,  589496,  598112,  606820,  619381,  628949]\n",
    "subhaloid = subhaloid_list[12]\n",
    "generate_time_tables(subhaloid,15,29)"
   ]
  }
 ],
 "metadata": {
  "kernelspec": {
   "display_name": "Python 3",
   "language": "python",
   "name": "python3"
  },
  "language_info": {
   "codemirror_mode": {
    "name": "ipython",
    "version": 3
   },
   "file_extension": ".py",
   "mimetype": "text/x-python",
   "name": "python",
   "nbconvert_exporter": "python",
   "pygments_lexer": "ipython3",
   "version": "3.6.15"
  }
 },
 "nbformat": 4,
 "nbformat_minor": 5
}
