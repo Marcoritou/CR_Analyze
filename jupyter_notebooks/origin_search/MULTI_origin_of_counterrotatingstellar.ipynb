{
 "cells": [
  {
   "cell_type": "code",
   "execution_count": 2,
   "id": "c9d1f219-acc4-464c-8c08-c811519adb6a",
   "metadata": {},
   "outputs": [],
   "source": [
    "#obtaining rough insitu vs exsitu bar graphs, and subhaloid of formations for counterrottating particles\n",
    "#All subhalos of interest\n",
    "\n",
    "import h5py\n",
    "import numpy as np\n",
    "import pandas as pd\n",
    "import matplotlib.pyplot as plt\n",
    "import illustris_python as il\n",
    "\n",
    "def hdf5_to_dict(file_path):\n",
    "    data_dict = {}\n",
    "    \n",
    "    with h5py.File(file_path, 'r') as hdf_file:\n",
    "        # Recursively traverse the HDF5 file and populate the dictionary\n",
    "        def traverse(name, obj):\n",
    "            if isinstance(obj, h5py.Dataset):\n",
    "                data_dict[name] = obj[()]  # Store dataset value in dictionary\n",
    "            elif isinstance(obj, h5py.Group):\n",
    "                # Create a nested dictionary for groups\n",
    "                group_dict = {}\n",
    "                data_dict[name] = group_dict\n",
    "                \n",
    "                # Recursively visit the group's children\n",
    "                obj.visititems(traverse)\n",
    "        \n",
    "        hdf_file.visititems(traverse)\n",
    "    \n",
    "    return data_dict"
   ]
  },
  {
   "cell_type": "code",
   "execution_count": 3,
   "id": "061f275e-7b5b-4cd6-9097-0071bfe3baad",
   "metadata": {},
   "outputs": [],
   "source": [
    "file_path = '/virgotng/universe/IllustrisTNG/L35n2160TNG/postprocessing/StellarAssembly/stars_099.hdf5'\n",
    "data = hdf5_to_dict(file_path)"
   ]
  },
  {
   "cell_type": "code",
   "execution_count": 5,
   "id": "47c47570-3621-4004-8725-a46648094fec",
   "metadata": {},
   "outputs": [
    {
     "data": {
      "text/plain": [
       "<Figure size 432x288 with 0 Axes>"
      ]
     },
     "metadata": {},
     "output_type": "display_data"
    }
   ],
   "source": [
    "#AREA DE TODOS LOS SUBHALOS\n",
    "design_color='green'\n",
    "\n",
    "#GENERANDO GRAFICOS DE INSITU Y EXSITU DE LAS PARTICULAS CONTRAROTANTES\n",
    "subhaloid_list = [547844, 455291, 478216, 501208, 531910, 570319, 571633, 582137, 589496, 598112, 606820, 619381, 628949]\n",
    "\n",
    "\n",
    "for SubhaloID in subhaloid_list:\n",
    "    data_contrarotante = data.copy()\n",
    "    #Filtremos primero por el subhalo de interes\n",
    "    filtro_subhalo = np.isin(data_contrarotante['SubfindID'],SubhaloID)\n",
    "    data_contrarotante['ParticleID'] = data_contrarotante['ParticleID'][filtro_subhalo]\n",
    "    data_contrarotante['AccretionOrigin'] = data_contrarotante['AccretionOrigin'][filtro_subhalo]\n",
    "    data_contrarotante['DistanceAtFormation'] = data_contrarotante['DistanceAtFormation'][filtro_subhalo]\n",
    "    data_contrarotante['InSitu'] = data_contrarotante['InSitu'][filtro_subhalo]\n",
    "    data_contrarotante['MergerMassRatio'] = data_contrarotante['MergerMassRatio'][filtro_subhalo]\n",
    "    data_contrarotante['SnapNumAtFormation'] = data_contrarotante['SnapNumAtFormation'][filtro_subhalo]\n",
    "    data_contrarotante['SubfindID'] = data_contrarotante['SubfindID'][filtro_subhalo]\n",
    "    data_contrarotante['SubfindIDAtFormation'] = data_contrarotante['SubfindIDAtFormation'][filtro_subhalo]\n",
    "    #y filtremos ahora por las ids de las contrarotantes\n",
    "    filename = 'tables/subhalo'\n",
    "    filename += str(SubhaloID)\n",
    "    filename += '.0_counterrotating.csv'\n",
    "\n",
    "    subhalo_df = pd.read_csv(filename)\n",
    "\n",
    "    filtro_contrarotante = np.isin(data_contrarotante['ParticleID'],subhalo_df['ParticleIDs'])\n",
    "    data_contrarotante['ParticleID'] = data_contrarotante['ParticleID'][filtro_contrarotante]\n",
    "    data_contrarotante['AccretionOrigin'] = data_contrarotante['AccretionOrigin'][filtro_contrarotante]\n",
    "    data_contrarotante['DistanceAtFormation'] = data_contrarotante['DistanceAtFormation'][filtro_contrarotante]\n",
    "    data_contrarotante['InSitu'] = data_contrarotante['InSitu'][filtro_contrarotante]\n",
    "    data_contrarotante['MergerMassRatio'] = data_contrarotante['MergerMassRatio'][filtro_contrarotante]\n",
    "    data_contrarotante['SnapNumAtFormation'] = data_contrarotante['SnapNumAtFormation'][filtro_contrarotante]\n",
    "    data_contrarotante['SubfindID'] = data_contrarotante['SubfindID'][filtro_contrarotante]\n",
    "    data_contrarotante['SubfindIDAtFormation'] = data_contrarotante['SubfindIDAtFormation'][filtro_contrarotante]\n",
    "\n",
    "    insitu_info = data_contrarotante['InSitu']\n",
    "\n",
    "    labels = ['Exsitu','Insitu']\n",
    "\n",
    "    # Calculate the histogram\n",
    "    hist, bins = np.histogram(insitu_info, bins=[0, 0.5, 1])\n",
    "\n",
    "    # Plot the histogram\n",
    "    plt.bar(labels, hist, width=0.4,color=design_color)\n",
    "    plt.xlabel('Particle formation origin')\n",
    "    plt.ylabel('N')\n",
    "    plt.title('Origin of counterrotating stellar particles in subhalo %s'%SubhaloID)\n",
    "    plt.savefig('plots/insitu%s'%SubhaloID)\n",
    "    plt.clf()\n",
    "    #SUBHALO ORIGIN TOP\n",
    "    subhalos_origen = data_contrarotante['SubfindIDAtFormation']\n",
    "    subhalos_origen = subhalos_origen.astype(str)\n",
    "\n",
    "    unicos_subhalos, cuentas = np.unique(subhalos_origen, return_counts=True)\n",
    "\n",
    "    indices_ordenados = np.argsort(-cuentas)\n",
    "    subhalos_orden = unicos_subhalos[indices_ordenados]\n",
    "    cuentas_orden = cuentas[indices_ordenados]\n",
    "\n",
    "    top5_subhalos = subhalos_orden[:5]\n",
    "    top5_cuentas = cuentas_orden[:5]\n",
    "\n",
    "    plt.barh(top5_subhalos,top5_cuentas,color=design_color)\n",
    "    plt.gca().invert_yaxis()\n",
    "    plt.title('Top Subhalo origins for subhalo %s'%SubhaloID)\n",
    "    plt.savefig('plots/origins%s'%SubhaloID)\n",
    "    plt.clf()\n",
    "    #SNAP TOP\n",
    "    subhalos_origen = data_contrarotante['SnapNumAtFormation']\n",
    "    subhalos_origen = subhalos_origen.astype(str)\n",
    "\n",
    "    unicos_subhalos, cuentas = np.unique(subhalos_origen, return_counts=True)\n",
    "\n",
    "    indices_ordenados = np.argsort(-cuentas)\n",
    "    subhalos_orden = unicos_subhalos[indices_ordenados]\n",
    "    cuentas_orden = cuentas[indices_ordenados]\n",
    "\n",
    "    top5_subhalos = subhalos_orden[:5]\n",
    "    top5_cuentas = cuentas_orden[:5]\n",
    "\n",
    "    plt.barh(top5_subhalos,top5_cuentas,color=design_color)\n",
    "    plt.gca().invert_yaxis()\n",
    "    plt.title('Top Snap origins for subhalo %s'%SubhaloID)\n",
    "    plt.savefig('plots/timeorigins%s'%SubhaloID)\n",
    "    plt.clf()"
   ]
  },
  {
   "cell_type": "code",
   "execution_count": null,
   "id": "39969480-7cc1-4c20-aa99-a7814c04022a",
   "metadata": {},
   "outputs": [],
   "source": []
  },
  {
   "cell_type": "code",
   "execution_count": null,
   "id": "2d5c14ec-fcab-4f17-81ba-56fa7d300621",
   "metadata": {},
   "outputs": [],
   "source": [
    "    "
   ]
  }
 ],
 "metadata": {
  "kernelspec": {
   "display_name": "Python 3",
   "language": "python",
   "name": "python3"
  },
  "language_info": {
   "codemirror_mode": {
    "name": "ipython",
    "version": 3
   },
   "file_extension": ".py",
   "mimetype": "text/x-python",
   "name": "python",
   "nbconvert_exporter": "python",
   "pygments_lexer": "ipython3",
   "version": "3.6.15"
  }
 },
 "nbformat": 4,
 "nbformat_minor": 5
}
