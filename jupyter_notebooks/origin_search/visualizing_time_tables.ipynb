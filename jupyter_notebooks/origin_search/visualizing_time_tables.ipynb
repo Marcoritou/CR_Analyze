{
 "cells": [
  {
   "cell_type": "code",
   "execution_count": 2,
   "id": "589cef66-6e1f-452b-87f0-b9cf56fd3a6b",
   "metadata": {
    "tags": []
   },
   "outputs": [],
   "source": [
    "import matplotlib as mpl\n",
    "import numpy as np\n",
    "import matplotlib.pyplot as plt\n",
    "import tqdm\n",
    "import pandas as pd"
   ]
  },
  {
   "cell_type": "markdown",
   "id": "c2fe7779-2e8a-495d-addb-1052a41ade0e",
   "metadata": {
    "jp-MarkdownHeadingCollapsed": true,
    "tags": []
   },
   "source": [
    "# Prueba inicial"
   ]
  },
  {
   "cell_type": "code",
   "execution_count": 89,
   "id": "3261d9ff-ffb5-40e0-bda4-7b1d981d84ed",
   "metadata": {},
   "outputs": [
    {
     "data": {
      "text/html": [
       "<div>\n",
       "<style scoped>\n",
       "    .dataframe tbody tr th:only-of-type {\n",
       "        vertical-align: middle;\n",
       "    }\n",
       "\n",
       "    .dataframe tbody tr th {\n",
       "        vertical-align: top;\n",
       "    }\n",
       "\n",
       "    .dataframe thead th {\n",
       "        text-align: right;\n",
       "    }\n",
       "</style>\n",
       "<table border=\"1\" class=\"dataframe\">\n",
       "  <thead>\n",
       "    <tr style=\"text-align: right;\">\n",
       "      <th></th>\n",
       "      <th>Unnamed: 0</th>\n",
       "      <th>x</th>\n",
       "      <th>y</th>\n",
       "      <th>z</th>\n",
       "      <th>ParticleIDs</th>\n",
       "    </tr>\n",
       "  </thead>\n",
       "  <tbody>\n",
       "    <tr>\n",
       "      <th>0</th>\n",
       "      <td>0</td>\n",
       "      <td>-0.015625</td>\n",
       "      <td>-0.056641</td>\n",
       "      <td>0.182373</td>\n",
       "      <td>117529495303</td>\n",
       "    </tr>\n",
       "    <tr>\n",
       "      <th>1</th>\n",
       "      <td>1</td>\n",
       "      <td>-0.066406</td>\n",
       "      <td>-0.142578</td>\n",
       "      <td>-0.027100</td>\n",
       "      <td>122958304653</td>\n",
       "    </tr>\n",
       "    <tr>\n",
       "      <th>2</th>\n",
       "      <td>2</td>\n",
       "      <td>0.000977</td>\n",
       "      <td>-0.071289</td>\n",
       "      <td>0.133301</td>\n",
       "      <td>119574225956</td>\n",
       "    </tr>\n",
       "    <tr>\n",
       "      <th>3</th>\n",
       "      <td>3</td>\n",
       "      <td>-0.067871</td>\n",
       "      <td>-0.133789</td>\n",
       "      <td>-0.142578</td>\n",
       "      <td>117286018383</td>\n",
       "    </tr>\n",
       "    <tr>\n",
       "      <th>4</th>\n",
       "      <td>4</td>\n",
       "      <td>0.096191</td>\n",
       "      <td>0.200195</td>\n",
       "      <td>-0.147217</td>\n",
       "      <td>117199215714</td>\n",
       "    </tr>\n",
       "  </tbody>\n",
       "</table>\n",
       "</div>"
      ],
      "text/plain": [
       "   Unnamed: 0         x         y         z   ParticleIDs\n",
       "0           0 -0.015625 -0.056641  0.182373  117529495303\n",
       "1           1 -0.066406 -0.142578 -0.027100  122958304653\n",
       "2           2  0.000977 -0.071289  0.133301  119574225956\n",
       "3           3 -0.067871 -0.133789 -0.142578  117286018383\n",
       "4           4  0.096191  0.200195 -0.147217  117199215714"
      ]
     },
     "execution_count": 89,
     "metadata": {},
     "output_type": "execute_result"
    }
   ],
   "source": [
    "datos_df = pd.read_csv('time_tables/547844/snap_96.csv')\n",
    "datos_df.head()"
   ]
  },
  {
   "cell_type": "code",
   "execution_count": 3,
   "id": "7bd2beda-154e-4a4f-a8f3-62cfba68e560",
   "metadata": {
    "tags": []
   },
   "outputs": [],
   "source": [
    "datos_df = pd.read_csv('time_tables/547844/snap_96.csv')\n",
    "limits_x = [7900,7950]\n",
    "limits_y = [14800,14850]\n",
    "limits_z = [3625,3675]\n",
    "limits_xy = (limits_x,limits_y)\n",
    "limits_xz = (limits_x,limits_z)\n",
    "limits_yz = (limits_y,limits_z)"
   ]
  },
  {
   "cell_type": "code",
   "execution_count": 4,
   "id": "2e17ec75-5a5a-435e-acd9-3db5ef8153b9",
   "metadata": {
    "tags": []
   },
   "outputs": [
    {
     "data": {
      "image/png": "[encoded data removed]",
      "text/plain": [
       "<Figure size 432x288 with 1 Axes>"
      ]
     },
     "metadata": {
      "needs_background": "light"
     },
     "output_type": "display_data"
    }
   ],
   "source": [
    "plt.hist2d(datos_df['x'],datos_df['y'],bins=50,range=limits_xy)\n",
    "plt.show()"
   ]
  },
  {
   "cell_type": "code",
   "execution_count": 6,
   "id": "220cee97-a8c4-49f7-8634-f58f810415ce",
   "metadata": {
    "tags": []
   },
   "outputs": [
    {
     "data": {
      "image/png": "[encoded data removed]",
      "text/plain": [
       "<Figure size 432x288 with 1 Axes>"
      ]
     },
     "metadata": {
      "needs_background": "light"
     },
     "output_type": "display_data"
    }
   ],
   "source": [
    "plt.hist2d(datos_df['x'],datos_df['z'],bins=50,range=limits_xz)\n",
    "plt.show()"
   ]
  },
  {
   "cell_type": "code",
   "execution_count": 7,
   "id": "5b89b439-c744-4873-b526-943da07d39e0",
   "metadata": {
    "tags": []
   },
   "outputs": [
    {
     "data": {
      "text/plain": [
       "(array([[0., 0., 0., ..., 0., 0., 0.],\n",
       "        [0., 0., 0., ..., 0., 0., 0.],\n",
       "        [0., 0., 0., ..., 0., 0., 0.],\n",
       "        ...,\n",
       "        [0., 0., 0., ..., 0., 0., 0.],\n",
       "        [0., 0., 0., ..., 0., 0., 0.],\n",
       "        [0., 0., 0., ..., 0., 0., 0.]]),\n",
       " array([14800., 14801., 14802., 14803., 14804., 14805., 14806., 14807.,\n",
       "        14808., 14809., 14810., 14811., 14812., 14813., 14814., 14815.,\n",
       "        14816., 14817., 14818., 14819., 14820., 14821., 14822., 14823.,\n",
       "        14824., 14825., 14826., 14827., 14828., 14829., 14830., 14831.,\n",
       "        14832., 14833., 14834., 14835., 14836., 14837., 14838., 14839.,\n",
       "        14840., 14841., 14842., 14843., 14844., 14845., 14846., 14847.,\n",
       "        14848., 14849., 14850.]),\n",
       " array([3625., 3626., 3627., 3628., 3629., 3630., 3631., 3632., 3633.,\n",
       "        3634., 3635., 3636., 3637., 3638., 3639., 3640., 3641., 3642.,\n",
       "        3643., 3644., 3645., 3646., 3647., 3648., 3649., 3650., 3651.,\n",
       "        3652., 3653., 3654., 3655., 3656., 3657., 3658., 3659., 3660.,\n",
       "        3661., 3662., 3663., 3664., 3665., 3666., 3667., 3668., 3669.,\n",
       "        3670., 3671., 3672., 3673., 3674., 3675.]),\n",
       " <matplotlib.collections.QuadMesh at 0x14c747dc6f60>)"
      ]
     },
     "execution_count": 7,
     "metadata": {},
     "output_type": "execute_result"
    },
    {
     "data": {
      "image/png": "[encoded data removed]",
      "text/plain": [
       "<Figure size 432x288 with 1 Axes>"
      ]
     },
     "metadata": {
      "needs_background": "light"
     },
     "output_type": "display_data"
    }
   ],
   "source": [
    "plt.hist2d(datos_df['y'],datos_df['z'],bins=50,range=limits_yz)"
   ]
  },
  {
   "cell_type": "code",
   "execution_count": 24,
   "id": "798a7758-b7ba-4e10-8220-07e9de642cbe",
   "metadata": {},
   "outputs": [
    {
     "name": "stdout",
     "output_type": "stream",
     "text": [
      "50 realizada>51 realizada>52 realizada>53 realizada>54 realizada>55 realizada>56 realizada>57 realizada>58 realizada>59 realizada>60 realizada>61 realizada>62 realizada>63 realizada>64 realizada>65 realizada>66 realizada>67 realizada>68 realizada>69 realizada>70 realizada>71 realizada>72 realizada>73 realizada>74 realizada>75 realizada>76 realizada>77 realizada>78 realizada>79 realizada>80 realizada>81 realizada>82 realizada>83 realizada>84 realizada>85 realizada>86 realizada>87 realizada>88 realizada>89 realizada>90 realizada>91 realizada>92 realizada>93 realizada>94 realizada>95 realizada>96 realizada>97 realizada>98 realizada>99 realizada>"
     ]
    },
    {
     "data": {
      "text/plain": [
       "<Figure size 432x288 with 0 Axes>"
      ]
     },
     "metadata": {},
     "output_type": "display_data"
    }
   ],
   "source": [
    "subhaloid_list = [ 455291,  478216,  501208,  531910,  547844,  570319, 571633,  582137,  589496,  598112,  606820,  619381,  628949]\n",
    "R200_list = [ 179.21212769,  167.076828  ,  169.57954407,  146.69950867, 140.94436646,  119.15261841,  123.67668915,  120.26761627, 119.03757477,  111.41501617,  108.23468781,  101.64916229, 97.0650177]\n",
    "\n",
    "subhaloid = subhaloid_list[0]\n",
    "R200 = R200_list[0]\n",
    "\n",
    "limits = {}\n",
    "limit = R200\n",
    "limits['x'] = [-limit,limit]\n",
    "limits['y'] = [-limit,limit]\n",
    "limits['z'] = [-limit,limit]\n",
    "limits['xy'] = (limits['x'],limits['y'])\n",
    "limits['xz'] = (limits['x'],limits['z'])\n",
    "limits['yz'] = (limits['y'],limits['z'])\n",
    "for snapshot in range(50,100):\n",
    "    datos_df = pd.read_csv(f'time_tables/{subhaloid}/snap_{snapshot}.csv')\n",
    "    plt.hist2d(datos_df['y'],datos_df['z'],bins=100,range=limits_yz)\n",
    "    plt.savefig(f'time_tables/{subhaloid}/movie/{snapshot}.png')\n",
    "    plt.clf()\n",
    "    print('%s realizada'%snapshot,end='>')"
   ]
  },
  {
   "cell_type": "code",
   "execution_count": 14,
   "id": "4b486109-4f2e-4199-9c6e-f5c506cc5486",
   "metadata": {},
   "outputs": [
    {
     "data": {
      "image/png": "[encoded data removed]",
      "text/plain": [
       "<Figure size 432x288 with 1 Axes>"
      ]
     },
     "metadata": {
      "needs_background": "light"
     },
     "output_type": "display_data"
    }
   ],
   "source": [
    "from matplotlib.animation import FuncAnimation\n",
    "fig, ax = plt.subplots()\n",
    "\n",
    "def counterrotating_density_yz(i):#subhaloid,snapshot,limits,\n",
    "    snap_start = 65\n",
    "    datos_df = pd.read_csv(f'time_tables/{subhaloid}/snap_{snap_start + i}.csv')\n",
    "    ax.hist2d(datos_df['y'],datos_df['z'],bins=100,range=limits['yz'],cmap='inferno')\n",
    "    ax.set_title(f'Subhalo {subhaloid} Snap {snap_start + i}')\n",
    "    return(None)\n",
    "\n",
    "def counterrotating_scatter_yz(i):#subhaloid,snapshot,limits,\n",
    "    snap_start = 65\n",
    "    ax.clear()\n",
    "    datos_df = pd.read_csv(f'time_tables/{subhaloid}/snap_{snap_start + i}.csv')\n",
    "    ax.scatter(datos_df['y'],datos_df['z'],s=0.1,color='black')\n",
    "    ax.set_xlim(limits['y'])\n",
    "    ax.set_ylim(limits['z'])\n",
    "    ax.set_title(f'Subhalo {subhaloid} Snap {snap_start + i}')\n",
    "    return(None)\n",
    "\n",
    "def generate_cr_density_animation(subhaloid,R200,snap_length):\n",
    "    limits = {}\n",
    "    limit = 0.5*R200\n",
    "    limits['x'] = [-limit,limit]\n",
    "    limits['y'] = [-limit,limit]\n",
    "    limits['z'] = [-limit,limit]\n",
    "    limits['xy'] = (limits['x'],limits['y'])\n",
    "    limits['xz'] = (limits['x'],limits['z'])\n",
    "    limits['yz'] = (limits['y'],limits['z'])\n",
    "    anim = FuncAnimation(fig, counterrotating_density_yz, frames=snap_length, interval=200)\n",
    "    anim.save('animation_density.gif')\n",
    "    return('DONE')\n",
    "\n",
    "def generate_cr_scatter_animation(subhaloid,R200,snap_length):\n",
    "    limits = {}\n",
    "    limit = 0.5*R200\n",
    "    limits['x'] = [-limit,limit]\n",
    "    limits['y'] = [-limit,limit]\n",
    "    limits['z'] = [-limit,limit]\n",
    "    limits['xy'] = (limits['x'],limits['y'])\n",
    "    limits['xz'] = (limits['x'],limits['z'])\n",
    "    limits['yz'] = (limits['y'],limits['z'])\n",
    "    anim = FuncAnimation(fig, counterrotating_scatter_yz, frames=snap_length, interval=200)\n",
    "    anim.save('animation_scatter.gif')\n",
    "    return('DONE')\n",
    "\n",
    "#------------------------------------#\n",
    "subhaloid_list = [ 455291,  478216,  501208,  531910,  547844,  570319, 571633,  582137,  589496,  598112,  606820,  619381,  628949]\n",
    "R200_list = [ 179.21212769,  167.076828  ,  169.57954407,  146.69950867, 140.94436646,  119.15261841,  123.67668915,  120.26761627, 119.03757477,  111.41501617,  108.23468781,  101.64916229, 97.0650177]\n",
    "\n",
    "subhaloid = subhaloid_list[0]\n",
    "R200 = R200_list[0]\n",
    "\n",
    "limits = {}\n",
    "limit = 0.5*R200\n",
    "limits['x'] = [-limit,limit]\n",
    "limits['y'] = [-limit,limit]\n",
    "limits['z'] = [-limit,limit]\n",
    "limits['xy'] = (limits['x'],limits['y'])\n",
    "limits['xz'] = (limits['x'],limits['z'])\n",
    "limits['yz'] = (limits['y'],limits['z'])\n",
    "\n",
    "#--------------------------------------#\n",
    "#anim = FuncAnimation(fig, counterrotating_scatter_yz, frames=35, interval=200)\n",
    "\n",
    "#anim.save('animation_scatter.gif')"
   ]
  },
  {
   "cell_type": "code",
   "execution_count": 12,
   "id": "40d4bd9d-9340-4268-aea6-7274af7dff98",
   "metadata": {},
   "outputs": [
    {
     "name": "stderr",
     "output_type": "stream",
     "text": [
      "MovieWriter ffmpeg unavailable; using Pillow instead.\n"
     ]
    }
   ],
   "source": [
    "anim = FuncAnimation(fig, counterrotating_density_yz, frames=35, interval=200)\n",
    "\n",
    "anim.save('animation_density.gif')"
   ]
  },
  {
   "cell_type": "code",
   "execution_count": 13,
   "id": "a18a8d48-3ce8-41ef-acb0-ecf777c18c4e",
   "metadata": {},
   "outputs": [
    {
     "name": "stderr",
     "output_type": "stream",
     "text": [
      "MovieWriter ffmpeg unavailable; using Pillow instead.\n",
      "MovieWriter ffmpeg unavailable; using Pillow instead.\n"
     ]
    },
    {
     "data": {
      "text/plain": [
       "'DONE'"
      ]
     },
     "execution_count": 13,
     "metadata": {},
     "output_type": "execute_result"
    },
    {
     "data": {
      "image/png": "[encoded data removed]",
      "text/plain": [
       "<Figure size 432x288 with 1 Axes>"
      ]
     },
     "metadata": {
      "needs_background": "light"
     },
     "output_type": "display_data"
    }
   ],
   "source": [
    "subhaloid_list = [ 455291,  478216,  501208,  531910,  547844,  570319, 571633,  582137,  589496,  598112,  606820,  619381,  628949]\n",
    "R200_list = [ 179.21212769,  167.076828  ,  169.57954407,  146.69950867, 140.94436646,  119.15261841,  123.67668915,  120.26761627, 119.03757477,  111.41501617,  108.23468781,  101.64916229, 97.0650177]\n",
    "\n",
    "select = 4\n",
    "snap_length = 35\n",
    "\n",
    "subhaloid = subhaloid_list[select]\n",
    "R200 = R200_list[select]\n",
    "\n",
    "fig, ax = plt.subplots()\n",
    "generate_cr_scatter_animation(subhaloid,R200,snap_length)\n",
    "generate_cr_density_animation(subhaloid,R200,snap_length)"
   ]
  },
  {
   "cell_type": "code",
   "execution_count": 19,
   "id": "a63ae25c-52bf-4a26-972d-732d8f12269c",
   "metadata": {},
   "outputs": [
    {
     "name": "stderr",
     "output_type": "stream",
     "text": [
      "MovieWriter ffmpeg unavailable; using Pillow instead.\n",
      "MovieWriter ffmpeg unavailable; using Pillow instead.\n"
     ]
    },
    {
     "data": {
      "text/plain": [
       "'DONE'"
      ]
     },
     "execution_count": 19,
     "metadata": {},
     "output_type": "execute_result"
    },
    {
     "data": {
      "image/png": "[encoded data removed]",
      "text/plain": [
       "<Figure size 432x288 with 1 Axes>"
      ]
     },
     "metadata": {
      "needs_background": "light"
     },
     "output_type": "display_data"
    }
   ],
   "source": [
    "def counterrotating_density_yz(i):#subhaloid,snapshot,limits,\n",
    "    snap_start = 35\n",
    "    datos_df = pd.read_csv(f'time_tables/{subhaloid}/snap_{snap_start + i}.csv')\n",
    "    ax.hist2d(datos_df['y'],datos_df['z'],bins=100,range=limits['yz'],cmap='inferno')\n",
    "    ax.set_title(f'Subhalo {subhaloid} Snap {snap_start + i}')\n",
    "    return(None)\n",
    "\n",
    "def counterrotating_scatter_yz(i):#subhaloid,snapshot,limits,\n",
    "    snap_start = 35\n",
    "    ax.clear()\n",
    "    datos_df = pd.read_csv(f'time_tables/{subhaloid}/snap_{snap_start + i}.csv')\n",
    "    ax.scatter(datos_df['y'],datos_df['z'],s=0.1,color='black')\n",
    "    ax.set_xlim(limits['y'])\n",
    "    ax.set_ylim(limits['z'])\n",
    "    ax.set_title(f'Subhalo {subhaloid} Snap {snap_start + i}')\n",
    "    return(None)\n",
    "\n",
    "def generate_cr_density_animation(subhaloid,R200,snap_length):\n",
    "    limits = {}\n",
    "    limit = 0.5*R200\n",
    "    limits['x'] = [-limit,limit]\n",
    "    limits['y'] = [-limit,limit]\n",
    "    limits['z'] = [-limit,limit]\n",
    "    limits['xy'] = (limits['x'],limits['y'])\n",
    "    limits['xz'] = (limits['x'],limits['z'])\n",
    "    limits['yz'] = (limits['y'],limits['z'])\n",
    "    anim = FuncAnimation(fig, counterrotating_density_yz, frames=snap_length, interval=200)\n",
    "    anim.save('animation_density.gif')\n",
    "    return('DONE')\n",
    "\n",
    "def generate_cr_scatter_animation(subhaloid,R200,snap_length):\n",
    "    limits = {}\n",
    "    limit = 0.5*R200\n",
    "    limits['x'] = [-limit,limit]\n",
    "    limits['y'] = [-limit,limit]\n",
    "    limits['z'] = [-limit,limit]\n",
    "    limits['xy'] = (limits['x'],limits['y'])\n",
    "    limits['xz'] = (limits['x'],limits['z'])\n",
    "    limits['yz'] = (limits['y'],limits['z'])\n",
    "    anim = FuncAnimation(fig, counterrotating_scatter_yz, frames=snap_length, interval=200)\n",
    "    anim.save('animation_scatter.gif')\n",
    "    return('DONE')\n",
    "\n",
    "#------------------------------------#\n",
    "\n",
    "subhaloid_list = [ 455291,  478216,  501208,  531910,  547844,  570319, 571633,  582137,  589496,  598112,  606820,  619381,  628949]\n",
    "R200_list = [ 179.21212769,  167.076828  ,  169.57954407,  146.69950867, 140.94436646,  119.15261841,  123.67668915,  120.26761627, 119.03757477,  111.41501617,  108.23468781,  101.64916229, 97.0650177]\n",
    "\n",
    "select = 5\n",
    "snap_length = 63\n",
    "\n",
    "subhaloid = subhaloid_list[select]\n",
    "R200 = R200_list[select]\n",
    "\n",
    "fig, ax = plt.subplots()\n",
    "generate_cr_scatter_animation(subhaloid,R200,snap_length)\n",
    "generate_cr_density_animation(subhaloid,R200,snap_length)"
   ]
  },
  {
   "cell_type": "code",
   "execution_count": 86,
   "id": "43c0dae2-a92e-439e-b22b-db5bb6ed23dc",
   "metadata": {},
   "outputs": [
    {
     "name": "stderr",
     "output_type": "stream",
     "text": [
      "MovieWriter ffmpeg unavailable; using Pillow instead.\n",
      "MovieWriter ffmpeg unavailable; using Pillow instead.\n"
     ]
    },
    {
     "data": {
      "text/plain": [
       "'DONE'"
      ]
     },
     "execution_count": 86,
     "metadata": {},
     "output_type": "execute_result"
    },
    {
     "data": {
      "image/png": "[encoded data removed]",
      "text/plain": [
       "<Figure size 432x288 with 1 Axes>"
      ]
     },
     "metadata": {
      "needs_background": "light"
     },
     "output_type": "display_data"
    }
   ],
   "source": [
    "from matplotlib.animation import FuncAnimation\n",
    "import matplotlib as mpl\n",
    "import numpy as np\n",
    "import matplotlib.pyplot as plt\n",
    "import tqdm\n",
    "import pandas as pd\n",
    "\n",
    "def full_density_yz(i):#subhaloid,snapshot,limits,\n",
    "    snap_start = 35\n",
    "    datos_df = pd.read_csv(f'time_tables/{subhaloid}/snap_{snap_start + i}.csv')\n",
    "    ax.hist2d(datos_df['y'],datos_df['z'],bins=100,range=limits['yz'],cmap='inferno')\n",
    "    ax.set_title(f'Subhalo {subhaloid} Snap {snap_start + i}')\n",
    "    return(None)\n",
    "\n",
    "def full_scatter_yz(i):#subhaloid,snapshot,limits,\n",
    "    snap_start = 35\n",
    "    ax.clear()\n",
    "    datos_df = pd.read_csv(f'time_tables_full/{subhaloid}/snap_{snap_start + i}.csv')\n",
    "    ax.scatter(datos_df['y'],datos_df['z'],s=0.1,color='black')\n",
    "    ax.set_xlim(limits['y'])\n",
    "    ax.set_ylim(limits['z'])\n",
    "    ax.set_title(f'Subhalo {subhaloid} Snap {snap_start + i}')\n",
    "    return(None)\n",
    "\n",
    "def generate_density_animation(subhaloid,R200,snap_length):\n",
    "    limits = {}\n",
    "    limit = 0.5*R200\n",
    "    limits['x'] = [-limit,limit]\n",
    "    limits['y'] = [-limit,limit]\n",
    "    limits['z'] = [-limit,limit]\n",
    "    limits['xy'] = (limits['x'],limits['y'])\n",
    "    limits['xz'] = (limits['x'],limits['z'])\n",
    "    limits['yz'] = (limits['y'],limits['z'])\n",
    "    anim = FuncAnimation(fig, full_density_yz, frames=snap_length, interval=200)\n",
    "    anim.save('animation_density.gif')\n",
    "    return('DONE')\n",
    "\n",
    "def generate_scatter_animation(subhaloid,R200,snap_length):\n",
    "    limit = 0.5*R200\n",
    "    limits['x'] = [-limit,limit]\n",
    "    limits['y'] = [-limit,limit]\n",
    "    limits['z'] = [-limit,limit]\n",
    "    limits['xy'] = (limits['x'],limits['y'])\n",
    "    limits['xz'] = (limits['x'],limits['z'])\n",
    "    limits['yz'] = (limits['y'],limits['z'])\n",
    "    anim = FuncAnimation(fig, full_scatter_yz, frames=snap_length, interval=200)\n",
    "    anim.save('animation_scatter.gif')\n",
    "    return('DONE')\n",
    "\n",
    "###########################################################################\n",
    "subhaloid_list = [ 455291,  478216,  501208,  531910,  547844,  570319, 571633,  582137,  589496,  598112,  606820,  619381,  628949]\n",
    "R200_list = [ 179.21212769,  167.076828  ,  169.57954407,  146.69950867, 140.94436646,  119.15261841,  123.67668915,  120.26761627, 119.03757477,  111.41501617,  108.23468781,  101.64916229, 97.0650177]\n",
    "\n",
    "select = 4\n",
    "snap_length = 64\n",
    "\n",
    "subhaloid = subhaloid_list[select]\n",
    "R200 = R200_list[select]\n",
    "\n",
    "limits = {}\n",
    "\n",
    "fig, ax = plt.subplots()\n",
    "generate_scatter_animation(subhaloid,R200,snap_length)\n",
    "generate_density_animation(subhaloid,R200,snap_length)"
   ]
  },
  {
   "cell_type": "markdown",
   "id": "3b60d0dd-6a5e-43de-9c2c-ff4c9370b404",
   "metadata": {
    "tags": []
   },
   "source": [
    "# Version con CR vs Total"
   ]
  },
  {
   "cell_type": "code",
   "execution_count": 14,
   "id": "77525d43-4ee0-4c55-b14c-a30907bb8852",
   "metadata": {},
   "outputs": [
    {
     "name": "stderr",
     "output_type": "stream",
     "text": [
      "MovieWriter ffmpeg unavailable; using Pillow instead.\n"
     ]
    },
    {
     "data": {
      "text/plain": [
       "'DONE'"
      ]
     },
     "execution_count": 14,
     "metadata": {},
     "output_type": "execute_result"
    },
    {
     "data": {
      "image/png": "[encoded data removed]",
      "text/plain": [
       "<Figure size 432x288 with 1 Axes>"
      ]
     },
     "metadata": {
      "needs_background": "light"
     },
     "output_type": "display_data"
    }
   ],
   "source": [
    "from matplotlib.animation import FuncAnimation\n",
    "import matplotlib as mpl\n",
    "import numpy as np\n",
    "import matplotlib.pyplot as plt\n",
    "import tqdm\n",
    "import pandas as pd\n",
    "\n",
    "def versus_scatter_yz(i):#subhaloid,snapshot,limits,\n",
    "    ax.clear()\n",
    "    datos_df_full = pd.read_csv(f'time_tables_full/{subhaloid}/snap_{snap_start + i}.csv')\n",
    "    datos_df_cr = pd.read_csv(f'time_tables/{subhaloid}/snap_{snap_start + i}.csv')\n",
    "    \n",
    "    \n",
    "    ax.scatter(datos_df_full['y'],datos_df_full['z'],s=0.1,color='black',zorder=10)\n",
    "    ax.scatter(datos_df_cr['y'],datos_df_cr['z'],s=0.01,color='red',zorder=20,label='CR particles')\n",
    "    ax.set_xlim(limits['y'])\n",
    "    ax.set_ylim(limits['z'])\n",
    "    ax.set_title(f'Subhalo {subhaloid} Snap {snap_start + i}')\n",
    "    return(None)\n",
    "\n",
    "def generate_versus_scatter_animation(subhaloid,R200,snap_length):\n",
    "    limit = 0.5*R200\n",
    "    limits['x'] = [-limit,limit]\n",
    "    limits['y'] = [-limit,limit]\n",
    "    limits['z'] = [-limit,limit]\n",
    "    limits['xy'] = (limits['x'],limits['y'])\n",
    "    limits['xz'] = (limits['x'],limits['z'])\n",
    "    limits['yz'] = (limits['y'],limits['z'])\n",
    "    anim = FuncAnimation(fig, versus_scatter_yz, frames=snap_length, interval=200)\n",
    "    anim.save('animation_scatter.gif',dpi=150)\n",
    "    return('DONE')\n",
    "\n",
    "###########################################################################"
   ]
  },
  {
   "cell_type": "code",
   "execution_count": null,
   "id": "7448c46b-506d-4578-80ba-012146ba6d3b",
   "metadata": {},
   "outputs": [],
   "source": [
    "subhaloid_list = [ 455291,  478216,  501208,  531910,  547844,  570319, 571633,  582137,  589496,  598112,  606820,  619381,  628949]\n",
    "R200_list = [ 179.21212769,  167.076828  ,  169.57954407,  146.69950867, 140.94436646,  119.15261841,  123.67668915,  120.26761627, 119.03757477,  111.41501617,  108.23468781,  101.64916229, 97.0650177]\n",
    "\n",
    "select = 0\n",
    "snap_start = 35\n",
    "snap_length = 64\n",
    "\n",
    "subhaloid = subhaloid_list[select]\n",
    "R200 = R200_list[select]\n",
    "\n",
    "limits = {}\n",
    "\n",
    "fig, ax = plt.subplots()\n",
    "generate_versus_scatter_animation(subhaloid,R200,snap_length)"
   ]
  },
  {
   "cell_type": "markdown",
   "id": "51b9c1a1-07bc-4b54-bd18-3aebb587473f",
   "metadata": {
    "tags": []
   },
   "source": [
    "# Graficando particulas con respectivo leafSubhaloID en el tiempo"
   ]
  },
  {
   "cell_type": "code",
   "execution_count": null,
   "id": "54c1821e-c016-4e75-bd55-3272d91edb65",
   "metadata": {},
   "outputs": [],
   "source": [
    "from matplotlib.animation import FuncAnimation\n",
    "import matplotlib as mpl\n",
    "import numpy as np\n",
    "import matplotlib.pyplot as plt\n",
    "import tqdm\n",
    "import pandas as pd\n",
    "\n",
    "def versus_scatter_yz(i):#subhaloid,snapshot,limits,\n",
    "    ax.clear()\n",
    "    datos_df_full = pd.read_csv(f'time_tables_full/{subhaloid}/snap_{snap_start + i}.csv')\n",
    "    datos_df_cr = pd.read_csv(f'time_tables/{subhaloid}/snap_{snap_start + i}.csv')\n",
    "    \n",
    "    \n",
    "    ax.scatter(datos_df_full['y'],datos_df_full['z'],s=0.1,color='black',zorder=10)\n",
    "    ax.scatter(datos_df_cr['y'],datos_df_cr['z'],s=0.01,color='red',zorder=20,label='CR particles')\n",
    "    ax.set_xlim(limits['y'])\n",
    "    ax.set_ylim(limits['z'])\n",
    "    ax.set_title(f'Subhalo {subhaloid} Snap {snap_start + i}')\n",
    "    return(None)\n",
    "\n",
    "def generate_versus_scatter_animation(subhaloid,R200,snap_length):\n",
    "    limit = 0.5*R200\n",
    "    limits['x'] = [-limit,limit]\n",
    "    limits['y'] = [-limit,limit]\n",
    "    limits['z'] = [-limit,limit]\n",
    "    limits['xy'] = (limits['x'],limits['y'])\n",
    "    limits['xz'] = (limits['x'],limits['z'])\n",
    "    limits['yz'] = (limits['y'],limits['z'])\n",
    "    anim = FuncAnimation(fig, versus_scatter_yz, frames=snap_length, interval=200)\n",
    "    anim.save('animation_scatter.gif',dpi=150)\n",
    "    return('DONE')\n",
    "\n",
    "###########################################################################"
   ]
  },
  {
   "cell_type": "code",
   "execution_count": null,
   "id": "4f5b6960-04dc-422d-8d31-1c35c6bc75c9",
   "metadata": {},
   "outputs": [],
   "source": [
    "subhaloid_list = [ 455291,  478216,  501208,  531910,  547844,  570319, 571633,  582137,  589496,  598112,  606820,  619381,  628949]\n",
    "R200_list = [ 179.21212769,  167.076828  ,  169.57954407,  146.69950867, 140.94436646,  119.15261841,  123.67668915,  120.26761627, 119.03757477,  111.41501617,  108.23468781,  101.64916229, 97.0650177]\n",
    "\n",
    "select = 0\n",
    "snap_start = 35\n",
    "snap_length = 64\n",
    "\n",
    "subhaloid = subhaloid_list[select]\n",
    "R200 = R200_list[select]\n",
    "\n",
    "limits = {}\n",
    "\n",
    "fig, ax = plt.subplots()\n",
    "generate_versus_scatter_animation(subhaloid,R200,snap_length)"
   ]
  }
 ],
 "metadata": {
  "kernelspec": {
   "display_name": "Python 3",
   "language": "python",
   "name": "python3"
  },
  "language_info": {
   "codemirror_mode": {
    "name": "ipython",
    "version": 3
   },
   "file_extension": ".py",
   "mimetype": "text/x-python",
   "name": "python",
   "nbconvert_exporter": "python",
   "pygments_lexer": "ipython3",
   "version": "3.6.15"
  }
 },
 "nbformat": 4,
 "nbformat_minor": 5
}
