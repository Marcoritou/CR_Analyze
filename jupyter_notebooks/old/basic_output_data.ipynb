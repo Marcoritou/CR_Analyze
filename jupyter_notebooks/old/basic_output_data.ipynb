{
 "cells": [
  {
   "cell_type": "code",
   "execution_count": 1,
   "metadata": {},
   "outputs": [],
   "source": [
    "import illustris_python as il\n",
    "import numpy as np\n",
    "import matplotlib.pyplot as plt\n",
    "import matplotlib as mpl\n",
    "from tqdm.notebook import"
   ]
  },
  {
   "cell_type": "code",
   "execution_count": 16,
   "metadata": {},
   "outputs": [],
   "source": [
    "SubhaloID = 402555\n",
    "Mass = 197.39179993\n",
    "R200 = 201.28547668\n",
    "\n",
    "snapNum = 99\n",
    "basepath = 'sims.TNG/TNG50-1/output'\n",
    "\n",
    "stars = il.snapshot.loadSubhalo(basepath, snapNum, SubhaloID, 'star', fields=['Masses','Coordinates','Velocities','GFM_Metallicity','Potential','GFM_StellarFormationTime'])\n"
   ]
  },
  {
   "cell_type": "code",
   "execution_count": 17,
   "metadata": {},
   "outputs": [],
   "source": [
    "h = 0.6777\n",
    "\n",
    "stars['Masses'] *= (1e10/h)\n",
    "stars['Coordinates'] /= h\n",
    "stars['GFM_Metallicity'] /= 0.0127\n",
    "\n",
    "wStars = np.where((stars['GFM_Metallicity'] >= 1) & (stars['GFM_Metallicity'] <= 1.5) & (stars['GFM_StellarFormationTime'] > 0))"
   ]
  },
  {
   "cell_type": "code",
   "execution_count": 18,
   "metadata": {},
   "outputs": [],
   "source": [
    "stars['Masses'] = stars['Masses'][wStars]\n",
    "stars['Coordinates'] = stars['Coordinates'][wStars]\n",
    "stars['Velocities'] = stars['Velocities'][wStars]\n",
    "stars['GFM_Metallicity'] = stars['GFM_Metallicity'][wStars]\n",
    "stars['Potential'] = stars['Potential'][wStars]\n",
    "stars['GFM_StellarFormationTime'] = stars['GFM_StellarFormationTime'][wStars]"
   ]
  },
  {
   "cell_type": "code",
   "execution_count": 19,
   "metadata": {},
   "outputs": [],
   "source": [
    "import pandas as pd\n",
    "\n",
    "stars_df = pd.DataFrame()\n",
    "\n",
    "stars_df['M'] = stars['Masses']\n",
    "stars_df['x'] = stars['Coordinates'][:,0]\n",
    "stars_df['y'] = stars['Coordinates'][:,1]\n",
    "stars_df['z'] = stars['Coordinates'][:,2]\n",
    "stars_df['Vx'] = stars['Velocities'][:,0]\n",
    "stars_df['Vy'] = stars['Velocities'][:,1]\n",
    "stars_df['Vz'] = stars['Velocities'][:,2]\n",
    "stars_df['Metallicity'] = stars['GFM_Metallicity']\n",
    "stars_df['U'] = stars['Potential']\n",
    "stars_df['StellarFormationTime'] = stars['GFM_StellarFormationTime']\n",
    "\n",
    "stars_df.to_csv('subhalo_circularity_data/subhalo402555_raw.csv')"
   ]
  },
  {
   "cell_type": "code",
   "execution_count": null,
   "metadata": {},
   "outputs": [],
   "source": []
  }
 ],
 "metadata": {
  "kernelspec": {
   "display_name": "Python 3",
   "language": "python",
   "name": "python3"
  },
  "language_info": {
   "codemirror_mode": {
    "name": "ipython",
    "version": 3
   },
   "file_extension": ".py",
   "mimetype": "text/x-python",
   "name": "python",
   "nbconvert_exporter": "python",
   "pygments_lexer": "ipython3",
   "version": "3.6.7"
  }
 },
 "nbformat": 4,
 "nbformat_minor": 2
}
