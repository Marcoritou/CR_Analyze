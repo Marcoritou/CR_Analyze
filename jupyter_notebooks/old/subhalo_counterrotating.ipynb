{
 "cells": [
  {
   "cell_type": "code",
   "execution_count": 1,
   "metadata": {},
   "outputs": [],
   "source": [
    "import numpy as np\n",
    "import matplotlib.pyplot as plt\n",
    "import matplotlib as mpl\n",
    "import illustris_python as il\n",
    "import h5py\n",
    "import pandas as pd\n",
    "from tqdm.notebook import tqdm#barrita\n",
    "#importar funciones de circularidad\n",
    "from circularity import spherical_coords_from_vector             #formato: spherical_coords_from_vector(vector)\n",
    "from circularity import matrix_from_spherical                    #formato: matrix_from_spherical(r,theta,phi)\n",
    "from circularity import inertia_tensor                           #formato: inertia_tensor(Masas, Coordenadas, Centralpos)\n",
    "from circularity import diagonalization_of_inertia               #formato: diagonalization_of_inertia(I)\n",
    "from circularity import star_particles_rotated_once_eulermethod  #formato: star_particles_rotated_once_eulermethod(subhaloid, snapshotnum, basepath,radius_limit,minmetal,maxmetal)\n",
    "from circularity import star_particles_rotated_once              #formato: star_particles_rotated_once(subhaloid, snapshotnum, basepath,radius_limit,minmetal,maxmetal)\n",
    "from circularity import circularities_eulermethod                #formato: circularities_eulermethod(subhaloID,snapNum,basepath,radius_limit,metallicity_cutoff,radius_limit_rotation,minmetal_rotation,maxmetal_rotation)\n",
    "from circularity import circularities_diagmethod                 #formato: circularities_diagmethod(subhaloID,snapNum,basepath,radius_limit,metallicity_cutoff,radius_limit_rotation,minmetal_rotation,maxmetal_rotation)\n",
    "\n"
   ]
  },
  {
   "cell_type": "code",
   "execution_count": 3,
   "metadata": {},
   "outputs": [
    {
     "name": "stdout",
     "output_type": "stream",
     "text": [
      "13.2094931705\n",
      "[[ -4.68731785e-07  -9.98654351e-08   2.11881414e+09]]\n",
      "-----------------------\n",
      " [ -9.83619521e+07  -7.58134530e+07   9.10080185e+09]\n"
     ]
    }
   ],
   "source": [
    "\n",
    "\n",
    "#(ID, MASS, R200)\n",
    "#(394621, 3.4533272e+12, 228.1541748046875)\n",
    "#(402555, 2.9701266e+12, 197.39179992675781)\n",
    "#(436932, 2.7373569e+12, 199.83599853515625)\n",
    "SubhaloID = 436932import h5py\n",
    "import numpy as np\n",
    "import pandas as pd\n",
    "import matplotlib.pyplot as plt\n",
    "import illustris_python as il\n",
    "Mass = 2.7373569e+12\n",
    "R200 = 199.83599853515625\n",
    "\n",
    "snapNum = 99\n",
    "basepath = '/home/tnguser/sims.TNG/TNG50-1/output'\n",
    "\n",
    "stars = circularities_eulermethod(SubhaloID,snapNum,basepath,radius_limit=1.0*R200,minmetal=0.05,maxmetal=3.0,radius_limit_rotation=0.2*R200,minmetal_rotation=0.95,maxmetal_rotation=1.5)\n",
    "#star = star_particles_rotated_once_eulermethod(SubhaloID, snapNum, basepath,0.2*R200/0.667,0.95,1.5)\n"
   ]
  },
  {
   "cell_type": "code",
   "execution_count": 4,
   "metadata": {},
   "outputs": [
    {
     "data": {
      "text/plain": [
       "dict_keys(['count', 'Masses', 'Coordinates', 'Velocities', 'GFM_Metallicity', 'Potential', 'GFM_StellarFormationTime', 'ParticleIDs', 'Distance_to_center', 'Angular_Momentum', 'Specific_Energy', 'Circularity'])"
      ]
     },
     "execution_count": 4,
     "metadata": {},
     "output_type": "execute_result"
    }
   ],
   "source": [
    "stars.keys()"
   ]
  },
  {
   "cell_type": "code",
   "execution_count": 5,
   "metadata": {},
   "outputs": [],
   "source": [
    "\n",
    "\n",
    "stars_df = pd.DataFrame()\n",
    "\n",
    "stars_df['M'] = stars['Masses']\n",
    "stars_df['x'] = stars['Coordinates'][:,0]\n",
    "stars_df['y'] = stars['Coordinates'][:,1]\n",
    "stars_df['z'] = stars['Coordinates'][:,2]\n",
    "stars_df['Vx'] = stars['Velocities'][:,0]\n",
    "stars_df['Vy'] = stars['Velocities'][:,1]\n",
    "stars_df['Vz'] = stars['Velocities'][:,2]\n",
    "stars_df['Metallicity'] = stars['GFM_Metallicity']\n",
    "stars_df['U'] = stars['Potential']\n",
    "stars_df['StellarFormationTime'] = stars['GFM_StellarFormationTime']\n",
    "stars_df['R'] = stars['Distance_to_center']\n",
    "stars_df['Wx'] = stars['Angular_Momentum'][:,0]\n",
    "stars_df['Wy'] = stars['Angular_Momentum'][:,1]\n",
    "stars_df['Wz'] = stars['Angular_Momentum'][:,2]\n",
    "stars_df['Specific_energy'] = stars['Specific_Energy']\n",
    "stars_df['Circularity'] = stars['Circularity']\n",
    "stars_df['ParticleIDs'] = stars['ParticleIDs']\n",
    "\n",
    "stars_df.to_csv('subhalo_circularity_data/subhalo%s_02R200_02R200.csv'%SubhaloID)"
   ]
  },
  {
   "cell_type": "code",
   "execution_count": 6,
   "metadata": {},
   "outputs": [
    {
     "data": {
      "image/png": "[encoded data removed]",
      "text/plain": [
       "<Figure size 432x288 with 1 Axes>"
      ]
     },
     "metadata": {
      "needs_background": "light"
     },
     "output_type": "display_data"
    }
   ],
   "source": [
    "plt.hist(stars['Circularity'],bins=128)\n",
    "plt.show()"
   ]
  },
  {
   "cell_type": "code",
   "execution_count": 7,
   "metadata": {},
   "outputs": [
    {
     "data": {
      "image/png": "[encoded data removed]",
      "text/plain": [
       "<Figure size 432x288 with 1 Axes>"
      ]
     },
     "metadata": {
      "needs_background": "light"
     },
     "output_type": "display_data"
    }
   ],
   "source": [
    "plt.hist2d(stars['Coordinates'][:,0],stars['Coordinates'][:,1],bins=128,cmap='inferno',norm=mpl.colors.LogNorm())\n",
    "plt.axis('equal')\n",
    "ax = plt.gca()\n",
    "ax.set_facecolor('black')\n",
    "plt.show()"
   ]
  },
  {
   "cell_type": "code",
   "execution_count": 8,
   "metadata": {},
   "outputs": [
    {
     "data": {
      "text/plain": [
       "5636"
      ]
     },
     "execution_count": 8,
     "metadata": {},
     "output_type": "execute_result"
    }
   ],
   "source": [
    "len(np.where(stars['Circularity'] <= -0.7)[0])"
   ]
  },
  {
   "cell_type": "markdown",
   "metadata": {},
   "source": [
    "# Iterative process going trough every subhalo"
   ]
  },
  {
   "cell_type": "code",
   "execution_count": 15,
   "metadata": {},
   "outputs": [
    {
     "data": {
      "application/vnd.jupyter.widget-view+json": {
       "model_id": "da50624094b54f3d9d0b63d02b098c19",
       "version_major": 2,
       "version_minor": 0
      },
      "text/plain": [
       "  0%|          | 0/11 [00:00<?, ?it/s]"
      ]
     },
     "metadata": {},
     "output_type": "display_data"
    },
    {
     "name": "stdout",
     "output_type": "stream",
     "text": [
      "627572.0\n",
      "4.45629670196\n",
      "[[ -4.53297174e-09   4.39495499e-09   3.17012284e+07]]\n",
      "-----------------------\n",
      " [  -249108.45349169    509128.48691214  98575997.68184441]\n",
      "628031.0\n",
      "2.22814975883\n",
      "[[  4.54577540e-10   5.47555527e-10   8.20555303e+06]]\n",
      "-----------------------\n",
      " [ -5.44132624e+05  -9.53327677e+03   3.76137742e+07]\n",
      "628378.0\n",
      "6.86994449394\n",
      "[[ -1.62399900e-10   9.79895094e-10   9.51910008e+06]]\n",
      "-----------------------\n",
      " [ -2.03299220e+04  -2.55267701e+06   6.01257393e+07]\n",
      "628949.0\n",
      "4.9571956991\n",
      "[[ -4.88934274e-09   4.50719628e-10   2.43548919e+07]]\n",
      "-----------------------\n",
      " [ -5.08147251e+04   1.20381208e+05   9.30669153e+07]\n",
      "629266.0\n",
      "7.6658655441\n",
      "[[  4.03413002e-09  -2.96897033e-09   3.89250616e+07]]\n",
      "-----------------------\n",
      " [  6.86959352e+05   6.73962472e+04   1.49747223e+08]\n",
      "630155.0\n",
      "3.92289795076\n",
      "[[ -1.03560302e-09  -1.93811099e-09   1.69717806e+07]]\n",
      "-----------------------\n",
      " [   312369.07098794   -133035.42467076  68380149.53741507]\n",
      "630975.0\n",
      "5.47636606298\n",
      "[[  9.95386057e-09   9.74506180e-09   4.18205536e+07]]\n",
      "-----------------------\n",
      " [ -1.24342732e+06   4.84566719e+05   1.62027500e+08]\n",
      "631677.0\n",
      "2.62237579858\n",
      "[[ -1.10099551e-08   5.07043363e-10   2.10468441e+07]]\n",
      "-----------------------\n",
      " [   241801.50076837   -330158.83837057  66230063.00957784]\n",
      "632310.0\n",
      "4.38233449944\n",
      "[[ -2.87795805e-09   1.71616229e-09   2.52111672e+07]]\n",
      "-----------------------\n",
      " [   649365.88241171   -676316.29542328  88163435.69243568]\n",
      "633963.0\n",
      "3.44651516962\n",
      "[[  1.87093394e-10   1.70336552e-10   1.80181425e+07]]\n",
      "-----------------------\n",
      " [   433172.06211139    456082.96970025  66675955.20379774]\n",
      "636848.0\n",
      "2.311763444\n",
      "[[  6.89681551e-10  -5.08652021e-09   1.37869846e+07]]\n",
      "-----------------------\n",
      " [  1244037.15943458  -1121813.71614026  50256601.07933172]\n",
      "11 261\n"
     ]
    }
   ],
   "source": [
    "#So the idea is using the ids and r200 inside Classified_subhalos_TNG50-1 and make their own tables with circularities for every single one\n",
    "\n",
    "Classified_subhalos = np.genfromtxt('Classified_subhalos_TNG50-1.csv',skip_header=1,delimiter=',')\n",
    "#Classified_subhalos[:,1] IDs\n",
    "#Classified_subhalos[:,2] MASAS\n",
    "#Classified_subhalos[:,3] R200\n",
    "\n",
    "snapNum = 99\n",
    "basepath = '/home/tnguser/sims.TNG/TNG50-1/output'\n",
    "\n",
    "\n",
    "total = 0\n",
    "for i in tqdm(range(250,len(Classified_subhalos[:,1]))):\n",
    "    total += 1\n",
    "    subhaloID = Classified_subhalos[i,1]\n",
    "    print(subhaloID)\n",
    "    R200 = Classified_subhalos[i,3]\n",
    "    stars = circularities_eulermethod(subhaloID,snapNum,basepath,radius_limit=1.0*R200,minmetal=0.01,maxmetal=3.0,radius_limit_rotation=0.2*R200,minmetal_rotation=0.95,maxmetal_rotation=1.5)\n",
    "    \n",
    "    #to dataframe\n",
    "    stars_df = pd.DataFrame()\n",
    "    stars_df['M'] = stars['Masses']\n",
    "    stars_df['x'] = stars['Coordinates'][:,0]\n",
    "    stars_df['y'] = stars['Coordinates'][:,1]\n",
    "    stars_df['z'] = stars['Coordinates'][:,2]\n",
    "    stars_df['Vx'] = stars['Velocities'][:,0]\n",
    "    stars_df['Vy'] = stars['Velocities'][:,1]\n",
    "    stars_df['Vz'] = stars['Velocities'][:,2]\n",
    "    stars_df['Metallicity'] = stars['GFM_Metallicity']\n",
    "    stars_df['U'] = stars['Potential']\n",
    "    stars_df['StellarFormationTime'] = stars['GFM_StellarFormationTime']\n",
    "    stars_df['R'] = stars['Distance_to_center']\n",
    "    stars_df['Jx'] = stars['Angular_Momentum'][:,0]\n",
    "    stars_df['Jy'] = stars['Angular_Momentum'][:,1]\n",
    "    stars_df['Jz'] = stars['Angular_Momentum'][:,2]\n",
    "    stars_df['Total Energy'] = stars['Specific_Energy'] #i wrongly called it specific energy dont knuw why\n",
    "    stars_df['Circularity'] = stars['Circularity']\n",
    "    stars_df['ParticleIDs'] = stars['ParticleIDs']\n",
    "    \n",
    "    stars_df.to_csv('subhalo_tables/subhalo%s.csv'%subhaloID)\n",
    "    \n",
    "    #CounterCSV\n",
    "    wStars = np.where( stars['Circularity'] <= -0.7 )\n",
    "    \n",
    "    counter_stars = {}\n",
    "    counter_stars['Masses'] = stars['Masses'][wStars]\n",
    "    counter_stars['Coordinates'] = stars['Coordinates'][wStars]\n",
    "    counter_stars['Velocities'] = stars['Velocities'][wStars]\n",
    "    counter_stars['GFM_Metallicity'] = stars['GFM_Metallicity'][wStars]\n",
    "    counter_stars['Potential'] = stars['Potential'][wStars]\n",
    "    counter_stars['GFM_StellarFormationTime'] = stars['GFM_StellarFormationTime'][wStars]\n",
    "    counter_stars['Distance_to_center'] = stars['Distance_to_center'][wStars]\n",
    "    counter_stars['Angular_Momentum'] = stars['Angular_Momentum'][wStars]\n",
    "    counter_stars['Total Energy'] = stars['Specific_Energy'][wStars]\n",
    "    counter_stars['Circularity'] = stars['Circularity'][wStars]\n",
    "    counter_stars['ParticleIDs'] = stars['ParticleIDs'][wStars]\n",
    "    \n",
    "    counter_stars_df = pd.DataFrame()\n",
    "    counter_stars_df['M'] = counter_stars['Masses']\n",
    "    counter_stars_df['x'] = counter_stars['Coordinates'][:,0]\n",
    "    counter_stars_df['y'] = counter_stars['Coordinates'][:,1]\n",
    "    counter_stars_df['z'] = counter_stars['Coordinates'][:,2]\n",
    "    counter_stars_df['Vx'] = counter_stars['Velocities'][:,0]\n",
    "    counter_stars_df['Vy'] = counter_stars['Velocities'][:,1]\n",
    "    counter_stars_df['Vz'] = counter_stars['Velocities'][:,2]\n",
    "    counter_stars_df['Metallicity'] = counter_stars['GFM_Metallicity']\n",
    "    counter_stars_df['U'] = counter_stars['Potential']\n",
    "    counter_stars_df['StellarFormationTime'] = counter_stars['GFM_StellarFormationTime']\n",
    "    counter_stars_df['R'] = counter_stars['Distance_to_center']\n",
    "    counter_stars_df['Jx'] = counter_stars['Angular_Momentum'][:,0]\n",
    "    counter_stars_df['Jy'] = counter_stars['Angular_Momentum'][:,1]\n",
    "    counter_stars_df['Jz'] = counter_stars['Angular_Momentum'][:,2]\n",
    "    counter_stars_df['Total Energy'] = counter_stars['Total Energy'] #i wrongly called it specific energy dont knuw why\n",
    "    counter_stars_df['Circularity'] = counter_stars['Circularity']\n",
    "    counter_stars_df['ParticleIDs'] = counter_stars['ParticleIDs']\n",
    "    \n",
    "    counter_stars_df.to_csv('subhalo_tables/subhalo%s_counterrotating.csv'%subhaloID)\n",
    "    \n",
    "    \n",
    "    \n",
    "print(total,len(Classified_subhalos[:,1]))"
   ]
  },
  {
   "cell_type": "markdown",
   "metadata": {},
   "source": [
    "# Trabajando al cuethe :D"
   ]
  },
  {
   "cell_type": "code",
   "execution_count": 7,
   "metadata": {},
   "outputs": [
    {
     "data": {
      "text/plain": [
       "(2131748, 2131748)"
      ]
     },
     "execution_count": 7,
     "metadata": {},
     "output_type": "execute_result"
    }
   ],
   "source": []
  }
 ],
 "metadata": {
  "kernelspec": {
   "display_name": "Python 3 (ipykernel)",
   "language": "python",
   "name": "python3"
  },
  "language_info": {
   "codemirror_mode": {
    "name": "ipython",
    "version": 3
   },
   "file_extension": ".py",
   "mimetype": "text/x-python",
   "name": "python",
   "nbconvert_exporter": "python",
   "pygments_lexer": "ipython3",
   "version": "3.11.4"
  }
 },
 "nbformat": 4,
 "nbformat_minor": 4
}
