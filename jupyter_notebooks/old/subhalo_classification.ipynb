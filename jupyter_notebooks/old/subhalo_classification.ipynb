{
 "cells": [
  {
   "cell_type": "code",
   "execution_count": 34,
   "metadata": {},
   "outputs": [],
   "source": [
    "import numpy as np\n",
    "import matplotlib.pyplot as plt\n",
    "import matplotlib as mpl\n",
    "import illustris_python as il\n",
    "import h5py\n",
    "#importar funciones de circularidad\n",
    "from circularity import spherical_coords_from_vector\n",
    "from circularity import matrix_from_spherical\n",
    "from circularity import inertia_tensor\n",
    "from circularity import diagonalization_of_inertia\n",
    "from circularity import star_particles_rotated_once_eulermethod\n",
    "from circularity import star_particles_rotated_once\n",
    "from circularity import circularities_eulermethod\n",
    "from circularity import circularities_diagmethod"
   ]
  },
  {
   "cell_type": "markdown",
   "metadata": {},
   "source": [
    "# TNG50-1"
   ]
  },
  {
   "cell_type": "code",
   "execution_count": 53,
   "metadata": {},
   "outputs": [],
   "source": [
    "snapNum = 99; basepath = 'sims.TNG/TNG50-1/output'\n",
    "fields = ['GroupFirstSub','GroupPos','Group_R_Crit200']\n",
    "\n",
    "\n",
    "Halo_info = il.groupcat.loadHalos(basepath,snapNum,fields=fields)"
   ]
  },
  {
   "cell_type": "code",
   "execution_count": 54,
   "metadata": {},
   "outputs": [],
   "source": [
    "filtrado_halos = np.where( Halo_info['Group_R_Crit200'] > 0 )\n",
    "Subhalos_ids = Halo_info['GroupFirstSub'][filtrado_halos]\n",
    "file = h5py.File('genel_data/stellar_circs_TNG50-1.hdf5','r')\n",
    "Subhalos = {}\n",
    "\n",
    "Subhalos['SubhaloID'] = file['Snapshot_99']['SubfindID'][()]\n",
    "Subhalos['Fraccion de masa'] = file['Snapshot_99']['CircAbove07Frac'][()]\n",
    "Subhalos_filtro_indice =  np.where(Subhalos['Fraccion de masa'] > 0.5)\n",
    "\n",
    "Subhalos['SubhaloID'] = Subhalos['SubhaloID'][Subhalos_filtro_indice]\n",
    "Subhalos['Fraccion de masa'] = Subhalos['Fraccion de masa'][Subhalos_filtro_indice]\n",
    "\n",
    "#ids de Subhalos centrales que poseen fraccion de masa de disco superior a 0.5\n",
    "Subhalos_clasificados = np.intersect1d(Subhalos['SubhaloID'], Subhalos_ids)\n",
    "\n",
    "Subhalos_info = {}\n",
    "\n",
    "Subhalos_info['ID'] = Subhalos_clasificados\n",
    "\n",
    "i = 0\n",
    "rvirial = []\n",
    "for subhaloid in Subhalos_info['ID']:\n",
    "    index = np.where( Halo_info['GroupFirstSub'] == subhaloid )\n",
    "    valor_rvirial = Halo_info['Group_R_Crit200'][index]\n",
    "    rvirial.append(float(valor_rvirial))\n",
    "    i += 1\n",
    "Subhalos_info['R200'] = np.array(rvirial)"
   ]
  },
  {
   "cell_type": "code",
   "execution_count": 55,
   "metadata": {},
   "outputs": [
    {
     "name": "stdout",
     "output_type": "stream",
     "text": [
      "719 719\n"
     ]
    }
   ],
   "source": [
    "print(len(Subhalos_info['ID']),len(Subhalos_info['R200']))\n",
    "#tenemos los subhalos de fraccion de masa superior a 0.5 que son centrales, falta ahora filtrar por su masa\n",
    "fields = ['SubhaloMass','SubhaloFlag']\n",
    "Subhalos = il.groupcat.loadSubhalos(basepath, snapNum, fields=fields)\n",
    "\n",
    "Subhalos_info['Masses'] = Subhalos['SubhaloMass'][Subhalos_info['ID']]\n",
    "Subhalos_info['Flag'] = Subhalos['SubhaloFlag'][Subhalos_info['ID']]"
   ]
  },
  {
   "cell_type": "code",
   "execution_count": 56,
   "metadata": {},
   "outputs": [],
   "source": [
    "#classify by flag\n",
    "index_flag = np.where(Subhalos_info['Flag'] == True)\n",
    "\n",
    "Subhalos_info['ID']     = Subhalos_info['ID'][index_flag] \n",
    "Subhalos_info['Masses'] = Subhalos_info['Masses'][index_flag]\n",
    "Subhalos_info['R200']   = Subhalos_info['R200'][index_flag]\n",
    "\n",
    "\n",
    "h = 0.6777\n",
    "\n",
    "Subhalos_info['Masses'] = Subhalos_info['Masses'] / h\n",
    "Subhalos_info['Masses'] = Subhalos_info['Masses'] * 1e10\n",
    "\n",
    "#filtrando por masa\n",
    "valid_indexes = np.where( (Subhalos_info['Masses'] >= 10**(11.5) ) & (Subhalos_info['Masses'] <= 10**(12.5) )  )\n",
    "\n",
    "Subhalos_info['ID'] = Subhalos_info['ID'][valid_indexes]\n",
    "Subhalos_info['Masses'] = Subhalos_info['Masses'][valid_indexes]\n",
    "Subhalos_info['R200'] = Subhalos_info['R200'][valid_indexes]\n"
   ]
  },
  {
   "cell_type": "code",
   "execution_count": 57,
   "metadata": {},
   "outputs": [
    {
     "data": {
      "text/plain": [
       "(402555, 2.9701266e+12, 197.39179992675781, 261)"
      ]
     },
     "execution_count": 57,
     "metadata": {},
     "output_type": "execute_result"
    }
   ],
   "source": [
    "\n",
    "Subhalos_info['ID'][0],Subhalos_info['Masses'][0],Subhalos_info['R200'][0],len(Subhalos_info['Masses'])"
   ]
  },
  {
   "cell_type": "code",
   "execution_count": 58,
   "metadata": {},
   "outputs": [],
   "source": [
    "import pandas as pd\n",
    "\n",
    "subhaloinfo_df = pd.DataFrame()\n",
    "\n",
    "subhaloinfo_df['SubhaloID'] = Subhalos_info['ID']\n",
    "subhaloinfo_df['Mass'] = Subhalos_info['Masses']\n",
    "subhaloinfo_df['R200(ckpc/h)'] = Subhalos_info['R200']\n",
    "\n",
    "subhaloinfo_df.to_csv('Classified_subhalos_TNG50-1.csv')"
   ]
  },
  {
   "cell_type": "markdown",
   "metadata": {},
   "source": [
    "# TNG50-2"
   ]
  },
  {
   "cell_type": "code",
   "execution_count": 59,
   "metadata": {},
   "outputs": [],
   "source": [
    "snapNum = 99; basepath = 'sims.TNG/TNG50-2/output'\n",
    "fields = ['GroupFirstSub','GroupPos','Group_R_Crit200']\n",
    "\n",
    "\n",
    "Halo_info = il.groupcat.loadHalos(basepath,snapNum,fields=fields)"
   ]
  },
  {
   "cell_type": "code",
   "execution_count": 60,
   "metadata": {},
   "outputs": [],
   "source": [
    "filtrado_halos = np.where( Halo_info['Group_R_Crit200'] > 0 )\n",
    "Subhalos_ids = Halo_info['GroupFirstSub'][filtrado_halos]\n",
    "file = h5py.File('genel_data/stellar_circs_TNG50-1.hdf5','r')\n",
    "Subhalos = {}\n",
    "\n",
    "Subhalos['SubhaloID'] = file['Snapshot_99']['SubfindID'][()]\n",
    "Subhalos['Fraccion de masa'] = file['Snapshot_99']['CircAbove07Frac'][()]\n",
    "Subhalos_filtro_indice =  np.where(Subhalos['Fraccion de masa'] > 0.5)\n",
    "\n",
    "Subhalos['SubhaloID'] = Subhalos['SubhaloID'][Subhalos_filtro_indice]\n",
    "Subhalos['Fraccion de masa'] = Subhalos['Fraccion de masa'][Subhalos_filtro_indice]\n",
    "\n",
    "#ids de Subhalos centrales que poseen fraccion de masa de disco superior a 0.5\n",
    "Subhalos_clasificados = np.intersect1d(Subhalos['SubhaloID'], Subhalos_ids)\n",
    "\n",
    "Subhalos_info = {}\n",
    "\n",
    "Subhalos_info['ID'] = Subhalos_clasificados\n",
    "\n",
    "i = 0\n",
    "rvirial = []\n",
    "for subhaloid in Subhalos_info['ID']:\n",
    "    index = np.where( Halo_info['GroupFirstSub'] == subhaloid )\n",
    "    valor_rvirial = Halo_info['Group_R_Crit200'][index]\n",
    "    rvirial.append(float(valor_rvirial))\n",
    "    i += 1\n",
    "Subhalos_info['R200'] = np.array(rvirial)"
   ]
  },
  {
   "cell_type": "code",
   "execution_count": 61,
   "metadata": {},
   "outputs": [
    {
     "name": "stdout",
     "output_type": "stream",
     "text": [
      "862 862\n"
     ]
    }
   ],
   "source": [
    "print(len(Subhalos_info['ID']),len(Subhalos_info['R200']))\n",
    "#tenemos los subhalos de fraccion de masa superior a 0.5 que son centrales, falta ahora filtrar por su masa\n",
    "fields = ['SubhaloMass','SubhaloFlag']\n",
    "Subhalos = il.groupcat.loadSubhalos(basepath, snapNum, fields=fields)\n",
    "\n",
    "Subhalos_info['Masses'] = Subhalos['SubhaloMass'][Subhalos_info['ID']]\n",
    "Subhalos_info['Flag'] = Subhalos['SubhaloFlag'][Subhalos_info['ID']]"
   ]
  },
  {
   "cell_type": "code",
   "execution_count": 62,
   "metadata": {},
   "outputs": [],
   "source": [
    "#classify by flag\n",
    "index_flag = np.where(Subhalos_info['Flag'] == True)\n",
    "\n",
    "Subhalos_info['ID']     = Subhalos_info['ID'][index_flag] \n",
    "Subhalos_info['Masses'] = Subhalos_info['Masses'][index_flag]\n",
    "Subhalos_info['R200']   = Subhalos_info['R200'][index_flag]\n",
    "\n",
    "\n",
    "h = 0.6777\n",
    "\n",
    "Subhalos_info['Masses'] = Subhalos_info['Masses'] / h\n",
    "Subhalos_info['Masses'] = Subhalos_info['Masses'] * 1e10\n",
    "\n",
    "#filtrando por masa\n",
    "valid_indexes = np.where( (Subhalos_info['Masses'] >= 10**(11.5) ) & (Subhalos_info['Masses'] <= 10**(12.5) )  )\n",
    "\n",
    "Subhalos_info['ID'] = Subhalos_info['ID'][valid_indexes]\n",
    "Subhalos_info['Masses'] = Subhalos_info['Masses'][valid_indexes]\n",
    "Subhalos_info['R200'] = Subhalos_info['R200'][valid_indexes]\n"
   ]
  },
  {
   "cell_type": "code",
   "execution_count": 63,
   "metadata": {},
   "outputs": [
    {
     "ename": "IndexError",
     "evalue": "index 0 is out of bounds for axis 0 with size 0",
     "output_type": "error",
     "traceback": [
      "\u001b[0;31m---------------------------------------------------------------------------\u001b[0m",
      "\u001b[0;31mIndexError\u001b[0m                                Traceback (most recent call last)",
      "\u001b[0;32m<ipython-input-63-a944525f70eb>\u001b[0m in \u001b[0;36m<module>\u001b[0;34m\u001b[0m\n\u001b[1;32m      1\u001b[0m \u001b[0;34m\u001b[0m\u001b[0m\n\u001b[0;32m----> 2\u001b[0;31m \u001b[0mSubhalos_info\u001b[0m\u001b[0;34m[\u001b[0m\u001b[0;34m'ID'\u001b[0m\u001b[0;34m]\u001b[0m\u001b[0;34m[\u001b[0m\u001b[0;36m0\u001b[0m\u001b[0;34m]\u001b[0m\u001b[0;34m,\u001b[0m\u001b[0mSubhalos_info\u001b[0m\u001b[0;34m[\u001b[0m\u001b[0;34m'Masses'\u001b[0m\u001b[0;34m]\u001b[0m\u001b[0;34m[\u001b[0m\u001b[0;36m0\u001b[0m\u001b[0;34m]\u001b[0m\u001b[0;34m,\u001b[0m\u001b[0mSubhalos_info\u001b[0m\u001b[0;34m[\u001b[0m\u001b[0;34m'R200'\u001b[0m\u001b[0;34m]\u001b[0m\u001b[0;34m[\u001b[0m\u001b[0;36m0\u001b[0m\u001b[0;34m]\u001b[0m\u001b[0;34m,\u001b[0m\u001b[0mlen\u001b[0m\u001b[0;34m(\u001b[0m\u001b[0mSubhalos_info\u001b[0m\u001b[0;34m[\u001b[0m\u001b[0;34m'Masses'\u001b[0m\u001b[0;34m]\u001b[0m\u001b[0;34m)\u001b[0m\u001b[0;34m\u001b[0m\u001b[0;34m\u001b[0m\u001b[0m\n\u001b[0m",
      "\u001b[0;31mIndexError\u001b[0m: index 0 is out of bounds for axis 0 with size 0"
     ]
    }
   ],
   "source": [
    "\n",
    "Subhalos_info['ID'][0],Subhalos_info['Masses'][0],Subhalos_info['R200'][0],len(Subhalos_info['Masses'])"
   ]
  },
  {
   "cell_type": "code",
   "execution_count": null,
   "metadata": {},
   "outputs": [],
   "source": [
    "import pandas as pd\n",
    "\n",
    "subhaloinfo_df = pd.DataFrame()\n",
    "\n",
    "subhaloinfo_df['SubhaloID'] = Subhalos_info['ID']\n",
    "subhaloinfo_df['Mass'] = Subhalos_info['Masses']\n",
    "subhaloinfo_df['R200(ckpc/h)'] = Subhalos_info['R200']\n",
    "\n",
    "subhaloinfo_df.to_csv('Classified_subhalos_TNG50-2.csv')"
   ]
  },
  {
   "cell_type": "markdown",
   "metadata": {},
   "source": [
    "# TNG50-3"
   ]
  },
  {
   "cell_type": "code",
   "execution_count": 64,
   "metadata": {},
   "outputs": [],
   "source": [
    "snapNum = 99; basepath = 'sims.TNG/TNG50-3/output'\n",
    "fields = ['GroupFirstSub','GroupPos','Group_R_Crit200']\n",
    "\n",
    "\n",
    "Halo_info = il.groupcat.loadHalos(basepath,snapNum,fields=fields)"
   ]
  },
  {
   "cell_type": "code",
   "execution_count": 65,
   "metadata": {},
   "outputs": [],
   "source": [
    "filtrado_halos = np.where( Halo_info['Group_R_Crit200'] > 0 )\n",
    "Subhalos_ids = Halo_info['GroupFirstSub'][filtrado_halos]\n",
    "file = h5py.File('genel_data/stellar_circs_TNG50-1.hdf5','r')\n",
    "Subhalos = {}\n",
    "\n",
    "Subhalos['SubhaloID'] = file['Snapshot_99']['SubfindID'][()]\n",
    "Subhalos['Fraccion de masa'] = file['Snapshot_99']['CircAbove07Frac'][()]\n",
    "Subhalos_filtro_indice =  np.where(Subhalos['Fraccion de masa'] > 0.5)\n",
    "\n",
    "Subhalos['SubhaloID'] = Subhalos['SubhaloID'][Subhalos_filtro_indice]\n",
    "Subhalos['Fraccion de masa'] = Subhalos['Fraccion de masa'][Subhalos_filtro_indice]\n",
    "\n",
    "#ids de Subhalos centrales que poseen fraccion de masa de disco superior a 0.5\n",
    "Subhalos_clasificados = np.intersect1d(Subhalos['SubhaloID'], Subhalos_ids)\n",
    "\n",
    "Subhalos_info = {}\n",
    "\n",
    "Subhalos_info['ID'] = Subhalos_clasificados\n",
    "\n",
    "i = 0\n",
    "rvirial = []\n",
    "for subhaloid in Subhalos_info['ID']:\n",
    "    index = np.where( Halo_info['GroupFirstSub'] == subhaloid )\n",
    "    valor_rvirial = Halo_info['Group_R_Crit200'][index]\n",
    "    rvirial.append(float(valor_rvirial))\n",
    "    i += 1\n",
    "Subhalos_info['R200'] = np.array(rvirial)"
   ]
  },
  {
   "cell_type": "code",
   "execution_count": 66,
   "metadata": {},
   "outputs": [
    {
     "name": "stdout",
     "output_type": "stream",
     "text": [
      "13 13\n"
     ]
    }
   ],
   "source": [
    "print(len(Subhalos_info['ID']),len(Subhalos_info['R200']))\n",
    "#tenemos los subhalos de fraccion de masa superior a 0.5 que son centrales, falta ahora filtrar por su masa\n",
    "fields = ['SubhaloMass','SubhaloFlag']\n",
    "Subhalos = il.groupcat.loadSubhalos(basepath, snapNum, fields=fields)\n",
    "\n",
    "Subhalos_info['Masses'] = Subhalos['SubhaloMass'][Subhalos_info['ID']]\n",
    "Subhalos_info['Flag'] = Subhalos['SubhaloFlag'][Subhalos_info['ID']]"
   ]
  },
  {
   "cell_type": "code",
   "execution_count": 67,
   "metadata": {},
   "outputs": [],
   "source": [
    "#classify by flag\n",
    "index_flag = np.where(Subhalos_info['Flag'] == True)\n",
    "\n",
    "Subhalos_info['ID']     = Subhalos_info['ID'][index_flag] \n",
    "Subhalos_info['Masses'] = Subhalos_info['Masses'][index_flag]\n",
    "Subhalos_info['R200']   = Subhalos_info['R200'][index_flag]\n",
    "\n",
    "\n",
    "h = 0.6777\n",
    "\n",
    "Subhalos_info['Masses'] = Subhalos_info['Masses'] / h\n",
    "Subhalos_info['Masses'] = Subhalos_info['Masses'] * 1e10\n",
    "\n",
    "#filtrando por masa\n",
    "valid_indexes = np.where( (Subhalos_info['Masses'] >= 10**(11.5) ) & (Subhalos_info['Masses'] <= 10**(12.5) )  )\n",
    "\n",
    "Subhalos_info['ID'] = Subhalos_info['ID'][valid_indexes]\n",
    "Subhalos_info['Masses'] = Subhalos_info['Masses'][valid_indexes]\n",
    "Subhalos_info['R200'] = Subhalos_info['R200'][valid_indexes]\n"
   ]
  },
  {
   "cell_type": "code",
   "execution_count": 68,
   "metadata": {},
   "outputs": [
    {
     "ename": "IndexError",
     "evalue": "index 0 is out of bounds for axis 0 with size 0",
     "output_type": "error",
     "traceback": [
      "\u001b[0;31m---------------------------------------------------------------------------\u001b[0m",
      "\u001b[0;31mIndexError\u001b[0m                                Traceback (most recent call last)",
      "\u001b[0;32m<ipython-input-68-a944525f70eb>\u001b[0m in \u001b[0;36m<module>\u001b[0;34m\u001b[0m\n\u001b[1;32m      1\u001b[0m \u001b[0;34m\u001b[0m\u001b[0m\n\u001b[0;32m----> 2\u001b[0;31m \u001b[0mSubhalos_info\u001b[0m\u001b[0;34m[\u001b[0m\u001b[0;34m'ID'\u001b[0m\u001b[0;34m]\u001b[0m\u001b[0;34m[\u001b[0m\u001b[0;36m0\u001b[0m\u001b[0;34m]\u001b[0m\u001b[0;34m,\u001b[0m\u001b[0mSubhalos_info\u001b[0m\u001b[0;34m[\u001b[0m\u001b[0;34m'Masses'\u001b[0m\u001b[0;34m]\u001b[0m\u001b[0;34m[\u001b[0m\u001b[0;36m0\u001b[0m\u001b[0;34m]\u001b[0m\u001b[0;34m,\u001b[0m\u001b[0mSubhalos_info\u001b[0m\u001b[0;34m[\u001b[0m\u001b[0;34m'R200'\u001b[0m\u001b[0;34m]\u001b[0m\u001b[0;34m[\u001b[0m\u001b[0;36m0\u001b[0m\u001b[0;34m]\u001b[0m\u001b[0;34m,\u001b[0m\u001b[0mlen\u001b[0m\u001b[0;34m(\u001b[0m\u001b[0mSubhalos_info\u001b[0m\u001b[0;34m[\u001b[0m\u001b[0;34m'Masses'\u001b[0m\u001b[0;34m]\u001b[0m\u001b[0;34m)\u001b[0m\u001b[0;34m\u001b[0m\u001b[0;34m\u001b[0m\u001b[0m\n\u001b[0m",
      "\u001b[0;31mIndexError\u001b[0m: index 0 is out of bounds for axis 0 with size 0"
     ]
    }
   ],
   "source": [
    "\n",
    "Subhalos_info['ID'][0],Subhalos_info['Masses'][0],Subhalos_info['R200'][0],len(Subhalos_info['Masses'])"
   ]
  },
  {
   "cell_type": "code",
   "execution_count": null,
   "metadata": {},
   "outputs": [],
   "source": [
    "import pandas as pd\n",
    "\n",
    "subhaloinfo_df = pd.DataFrame()\n",
    "\n",
    "subhaloinfo_df['SubhaloID'] = Subhalos_info['ID']\n",
    "subhaloinfo_df['Mass'] = Subhalos_info['Masses']\n",
    "subhaloinfo_df['R200(ckpc/h)'] = Subhalos_info['R200']\n",
    "\n",
    "subhaloinfo_df.to_csv('Classified_subhalos_TNG50-3.csv')"
   ]
  },
  {
   "cell_type": "code",
   "execution_count": null,
   "metadata": {},
   "outputs": [],
   "source": []
  },
  {
   "cell_type": "code",
   "execution_count": null,
   "metadata": {},
   "outputs": [],
   "source": []
  }
 ],
 "metadata": {
  "kernelspec": {
   "display_name": "Python 3",
   "language": "python",
   "name": "python3"
  },
  "language_info": {
   "codemirror_mode": {
    "name": "ipython",
    "version": 3
   },
   "file_extension": ".py",
   "mimetype": "text/x-python",
   "name": "python",
   "nbconvert_exporter": "python",
   "pygments_lexer": "ipython3",
   "version": "3.6.7"
  }
 },
 "nbformat": 4,
 "nbformat_minor": 2
}
