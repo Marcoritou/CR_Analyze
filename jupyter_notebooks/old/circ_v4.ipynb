{
 "cells": [
  {
   "cell_type": "code",
   "execution_count": 1,
   "metadata": {},
   "outputs": [],
   "source": [
    "import illustris_python as il\n",
    "import numpy as np\n",
    "from scipy.linalg import inv\n",
    "from scipy.linalg import eig\n",
    "\n",
    "\n",
    "#funciones de rotacion mediante momentum angular\n",
    "def spherical_coords_from_vector(vector):\n",
    "    x = vector[0] ; y = vector[1] ; z=vector[2]\n",
    "    r = np.sqrt(x**2 + y**2 + z**2)\n",
    "    theta = np.arccos(z / r)\n",
    "    if x > 0:\n",
    "        phi = np.arctan(y/x)\n",
    "    elif ((x < 0) and (y >= 0)):\n",
    "        phi = np.arctan(y/x) + np.pi\n",
    "    elif ((x < 0) and (y < 0)):\n",
    "        phi = np.arctan(y/x) - np.pi\n",
    "    elif ((x == 0) and (y > 0)):\n",
    "        phi = np.pi / 2\n",
    "    elif ((x == 0) and (y < 0)):\n",
    "        phi = (-1 * (np.pi / 2))\n",
    "    elif ((x == 0) and (y == 0)):\n",
    "        phi = \"INVALIDO\"\n",
    "    return( r, theta, phi)\n",
    "\n",
    "def matrix_from_spherical( r, theta, phi):\n",
    "    Rz = np.matrix([[np.cos(-phi),-np.sin(-phi),0],\n",
    "                    [np.sin(-phi), np.cos(-phi),0],\n",
    "                    [           0,            0,1]\n",
    "                   ])\n",
    "    \n",
    "    Ry = np.matrix([[ np.cos(-theta),            0,np.sin(-theta)],\n",
    "                    [            0,              1,             0],\n",
    "                    [-np.sin(-theta),            0,np.cos(-theta)]\n",
    "                   ])\n",
    "    \n",
    "    M = np.dot(Ry,Rz)\n",
    "    return(M)\n",
    "\n",
    "#funciones de rotacion mediante tensor de inercia\n",
    "def inertia_tensor(Masas, Coordenadas, CentralPos  ):\n",
    "    #calcula el tensor de inercia mediante las masas, coordenadas, y posicion central de un set de particulas\n",
    "    #en caso de querer acotar por radio, formacion, etc, debe hacerse antes de correr el comando\n",
    "    \n",
    "    #reordenando el array\n",
    "    xyz = np.squeeze(Coordenadas)\n",
    "    if xyz.ndim == 1:\n",
    "        xyz = np.reshape( xyz, (1,3) )\n",
    "    \n",
    "    #moviendo marco de referencia al de la posicion central\n",
    "    for i in range(3):\n",
    "        xyz[:,i] -= CentralPos[i]\n",
    "        \n",
    "    #Construccion del momento de inercia\n",
    "    I = np.zeros( (3,3), dtype='float32' )\n",
    "\n",
    "    I[0,0] = np.sum( Masas * (xyz[:,1]*xyz[:,1] + xyz[:,2]*xyz[:,2]) )\n",
    "    I[1,1] = np.sum( Masas * (xyz[:,0]*xyz[:,0] + xyz[:,2]*xyz[:,2]) )\n",
    "    I[2,2] = np.sum( Masas * (xyz[:,0]*xyz[:,0] + xyz[:,1]*xyz[:,1]) )\n",
    "    I[0,1] = -1 * np.sum( Masas * (xyz[:,0]*xyz[:,1]) )\n",
    "    I[0,2] = -1 * np.sum( Masas * (xyz[:,0]*xyz[:,2]) )\n",
    "    I[1,2] = -1 * np.sum( Masas * (xyz[:,1]*xyz[:,2]) )\n",
    "    I[1,0] = I[0,1]\n",
    "    I[2,0] = I[0,2]\n",
    "    I[2,1] = I[1,2]\n",
    "\n",
    "    return(I)\n",
    "\n",
    "def diagonalization_of_inertia(I):\n",
    "    #entrega la matriz que diagonaliza el tensor de inercia\n",
    "    autovalores,autovectores = eig(I)\n",
    "    #reordenando autovectores y autovalores de manera ascendente\n",
    "    ind_sort = np.argsort(autovalores)\n",
    "    autovalores = autovalores[ind_sort]\n",
    "    autovectores = autovectores[ind_sort]\n",
    "    \n",
    "    print(\"Autovalores \\n\",autovalores,\"\\n Autovectores \\n\",autovectores)\n",
    "    #utiliza los autovectores para formar la matriz de rotacion\n",
    "    rotation_matrix = inv(autovectores)\n",
    "    \n",
    "    return(rotation_matrix)\n",
    "\n",
    "##Funciones de rotacion\n",
    "\n",
    "def star_particles_rotated_once_eulermethod(subhaloID,snapNum,basepath):\n",
    "    #ROTACION MEDIANTE METODO DE MOMENTO ANGULAR\n",
    "    #constantes\n",
    "    h = 0.6777\n",
    "    \n",
    "    #carga de datos\n",
    "    stars = il.snapshot.loadSubhalo(basepath, snapNum, subhaloID, 'star', fields=['Masses','Coordinates','Velocities','GFM_Metallicity','Potential','GFM_StellarFormationTime'])\n",
    "    subhalo = il.groupcat.loadSingle(basepath, snapNum, subhaloID=subhaloID)\n",
    "    shPos = subhalo['SubhaloPos']\n",
    "    rHalf = subhalo['SubhaloHalfmassRadType'][4]\n",
    "    shVel = subhalo['SubhaloVel']\n",
    "    \n",
    "    #cambio unidades de las particulas a terminos fisicos\n",
    "    stars['Masses'] *= (1e10/h)\n",
    "    stars['Coordinates'] /= h\n",
    "    stars['GFM_Metallicity'] /= 0.0127\n",
    "    rHalf /= h\n",
    "    shPos /= h\n",
    "    print(rHalf)\n",
    "    \n",
    "    #distancias al centro\n",
    "    vector_desde_centro = stars['Coordinates'] - shPos\n",
    "    stars['Distance_to_center'] = np.array([np.linalg.norm(v) for v in vector_desde_centro])\n",
    "    \n",
    "    #filtrando por distancia al centro y por metalicidad similar a la solar\n",
    "    wStars = np.where( (stars['GFM_Metallicity'] >= 1) & (stars['GFM_Metallicity'] <= 1.5) & (stars['Distance_to_center'] <= 2.0*rHalf) & (stars['GFM_StellarFormationTime'] > 0) )\n",
    "    stars['Masses'] = stars['Masses'][wStars]\n",
    "    stars['Coordinates'] = stars['Coordinates'][wStars]\n",
    "    stars['GFM_Metallicity'] = stars['GFM_Metallicity'][wStars]\n",
    "    stars['Distance_to_center'] = stars['Distance_to_center'][wStars]\n",
    "    stars['Velocities'] = stars['Velocities'][wStars]\n",
    "    stars['Potential'] = stars['Potential'][wStars]\n",
    "    stars['count'] = len(stars['Masses'])\n",
    "    \n",
    "    #cambio de marco de referencia\n",
    "    stars['Coordinates'] -= shPos\n",
    "    stars['Velocities'] -= shVel\n",
    "    \n",
    "    \n",
    "    #calculo del momento angular\n",
    "    stars['Angular_Momentum'] = np.cross(stars['Coordinates'],stars['Velocities'])\n",
    "    total_angular_momentum = sum(stars['Angular_Momentum'])\n",
    "    \n",
    "    r, theta, phi = spherical_coords_from_vector(total_angular_momentum)\n",
    "    M = matrix_from_spherical(r, theta, phi)\n",
    "    print(np.dot(M, total_angular_momentum))\n",
    "    \n",
    "    \n",
    "    stars['Coordinates'] = np.array([np.array(np.dot(M, Coord))[0] for Coord in stars['Coordinates']])\n",
    "    stars['Velocities'] = np.array([np.array(np.dot(M, Velocidad))[0] for Velocidad in stars['Velocities']])\n",
    "    \n",
    "    return(stars, M)\n",
    "\n",
    "def star_particles_rotated_once(subhaloID,snapNum,basepath):\n",
    "    #ROTACION MEDIANTE EL TENSOR DE INERCIA\n",
    "    #constantes\n",
    "    h = 0.6777\n",
    "    \n",
    "    #carga de datos\n",
    "    stars = il.snapshot.loadSubhalo(basepath, snapNum, subhaloID, 'star', fields=['Masses','Coordinates','Velocities','GFM_Metallicity','Potential','GFM_StellarFormationTime'])\n",
    "    subhalo = il.groupcat.loadSingle(basepath, snapNum, subhaloID=subhaloID)\n",
    "    shPos = subhalo['SubhaloPos']\n",
    "    rHalf = subhalo['SubhaloHalfmassRadType'][4]\n",
    "    shVel = subhalo['SubhaloVel']\n",
    "    \n",
    "    #cambio unidades de las particulas a terminos fisicos\n",
    "    stars['Masses'] *= (1e10/h)\n",
    "    stars['Coordinates'] /= h\n",
    "    stars['GFM_Metallicity'] /= 0.0127\n",
    "    rHalf /= h\n",
    "    shPos /= h\n",
    "    print(rHalf)\n",
    "    \n",
    "    #distancias al centro\n",
    "    vector_desde_centro = stars['Coordinates'] - shPos\n",
    "    stars['Distance_to_center'] = np.array([np.linalg.norm(v) for v in vector_desde_centro])\n",
    "    \n",
    "    #filtrando por distancia al centro y por metalicidad similar a la solar\n",
    "    wStars = np.where( (stars['GFM_Metallicity'] >= 1) & (stars['GFM_Metallicity'] <= 1.5) & (stars['Distance_to_center'] <= 2.0*rHalf) & (stars['GFM_StellarFormationTime'] > 0) )\n",
    "    stars['Masses'] = stars['Masses'][wStars]\n",
    "    stars['Coordinates'] = stars['Coordinates'][wStars]\n",
    "    stars['GFM_Metallicity'] = stars['GFM_Metallicity'][wStars]\n",
    "    stars['Distance_to_center'] = stars['Distance_to_center'][wStars]\n",
    "    stars['Velocities'] = stars['Velocities'][wStars]\n",
    "    stars['Potential'] = stars['Potential'][wStars]\n",
    "    stars['count'] = len(stars['Masses'])\n",
    "    \n",
    "    \n",
    "    #obtencion del tensor de inercia\n",
    "    I = np.matrix(inertia_tensor(stars['Masses'], stars['Coordinates'], shPos ))\n",
    "    #obtencion de la matriz de rotacion\n",
    "    S = np.matrix(diagonalization_of_inertia(I))\n",
    "    S_1 = np.matrix(inv(S))\n",
    "    print(S_1 * I * S,\"|<-----Tensor de inercia Diagonalizado\")\n",
    "    stars['Coordinates'] = np.dot(stars['Coordinates'], S)\n",
    "    stars['Velocities'] -= shVel\n",
    "    stars['Velocities'] = np.dot(stars['Velocities'], S)\n",
    "    \n",
    "    return(stars, S, S_1)\n",
    "\n",
    "\n",
    "## Funciones de calculo de circularidades individuales, las deja registradas en el diccionario de las particulas\n",
    "\n",
    "def circularities_eulermethod(subhaloID,snapNum,basepath,radius_fraction,metallicity_cutoff):\n",
    "    #calcula las circularidades individuales dentro de un radio, y por sobre un valor de metalicidad, rotando con el metodo de momento angular y angulos\n",
    "    h = 0.677 #constante a-dimensional de hubble\n",
    "    stars, M = star_particles_rotated_once_eulermethod(494709,99,'sims.TNG/TNG50-1/output')\n",
    "    \n",
    "    \n",
    "    #rotando todas las particulas\n",
    "    stars = il.snapshot.loadSubhalo(basepath,snapNum,subhaloID, 'star', fields=['Masses','Coordinates','Velocities','GFM_Metallicity','Potential','GFM_StellarFormationTime'])\n",
    "\n",
    "    subhalo = il.groupcat.loadSingle(basepath, snapNum, subhaloID=subhaloID)\n",
    "    shPos = subhalo['SubhaloPos']\n",
    "    shVel = subhalo['SubhaloVel']\n",
    "    rHalf = subhalo['SubhaloHalfmassRadType'][4]\n",
    "\n",
    "\n",
    "    stars['Coordinates'] -= shPos\n",
    "    stars['Velocities']  -= shVel\n",
    "    \n",
    "    #pasando datos a valores fisicos\n",
    "    stars['Masses'] *= (1e10/h)\n",
    "    stars['Coordinates'] /= h\n",
    "    stars['GFM_Metallicity'] /= 0.0127\n",
    "    rHalf /= h\n",
    "    shPos /= h\n",
    "    \n",
    "    #distancia al centro\n",
    "    stars['Distance_to_center'] = np.array([np.linalg.norm(v) for v in stars['Coordinates']])\n",
    "    \n",
    "    #filtrando por radio y metalicidad\n",
    "    if metallicity_cutoff != False:\n",
    "        wStars = np.where((stars['Distance_to_center'] <= radius_fraction*rHalf) & (stars['GFM_Metallicity'] >= metallicity_cutoff) & (stars['GFM_StellarFormationTime'] > 0))\n",
    "    else:\n",
    "        wStars = np.where((stars['Distance_to_center'] <= radius_fraction*rHalf) & (stars['GFM_StellarFormationTime'] > 0))\n",
    "        \n",
    "    stars['Masses'] = stars['Masses'][wStars]\n",
    "    stars['Velocities'] = stars['Velocities'][wStars]\n",
    "    stars['Coordinates'] = stars['Coordinates'][wStars]\n",
    "    stars['GFM_Metallicity'] = stars['GFM_Metallicity'][wStars]\n",
    "    stars['Potential'] = stars['Potential'][wStars]\n",
    "    stars['GFM_StellarFormationTime'] = stars['GFM_StellarFormationTime'][wStars]\n",
    "    \n",
    "    \n",
    "    #filtrado\n",
    "    \n",
    "    \n",
    "    \n",
    "\n",
    "    stars['Coordinates'] = np.array([np.array(np.dot(M, coords))[0] for coords in stars['Coordinates']])\n",
    "    stars['Velocities'] = np.array([np.array(np.dot(M, vels))[0] for vels in stars['Coordinates']])\n",
    "\n",
    "\n",
    "    stars['Angular_Momentum'] = np.cross(stars['Coordinates'],stars['Velocities'])\n",
    "    print(\"-----------------------\\n\",sum(stars['Angular_Momentum']))\n",
    "\n",
    "    norm_velocities = [np.linalg.norm(v) for v in stars['Velocities']]\n",
    "    norm_velocities = np.array(norm_velocities)\n",
    "    norm_velocities\n",
    "\n",
    "    stars['Specific_Energy'] = (0.5*norm_velocities**2) + stars['Potential']\n",
    "\n",
    "    indices_ordenados = np.argsort(stars['Specific_Energy'])\n",
    "\n",
    "    stars['Masses'] = stars['Masses'][indices_ordenados]\n",
    "    stars['Coordinates'] = stars['Coordinates'][indices_ordenados]\n",
    "    stars['Velocities'] = stars['Velocities'][indices_ordenados]\n",
    "    stars['GFM_Metallicity'] = stars['GFM_Metallicity'][indices_ordenados]\n",
    "    stars['Potential'] = stars['Potential'][indices_ordenados]\n",
    "    stars['GFM_StellarFormationTime'] = stars['GFM_StellarFormationTime'][indices_ordenados]\n",
    "    #stars['Distance_to_center'] = stars['Distance_to_center'][indices_ordenados]\n",
    "    stars['Angular_Momentum'] = stars['Angular_Momentum'][indices_ordenados]\n",
    "    stars['Specific_Energy'] = stars['Specific_Energy'][indices_ordenados]\n",
    "\n",
    "    jz = stars['Angular_Momentum'][:,2]\n",
    "    npm = 50\n",
    "    max_jz = [np.max(jz[:i+npm]) if i < npm else np.max(jz[i-npm:]) if i > len(jz)-npm else np.max(jz[i-npm:i+npm]) for i in range(len(jz))]\n",
    "    max_jz = np.array(max_jz)\n",
    "\n",
    "\n",
    "    circularity = jz/max_jz\n",
    "    stars['Circularity'] = circularity\n",
    "\n",
    "    return(stars)\n",
    "\n",
    "def circularities_diagmethod(subhaloID,snapNum,basepath,radius_fraction,metallicity_cutoff):\n",
    "    #calcula las circularidades individuales, mediante el metodo de rotacion por diagonalizacion del tensor de inercia\n",
    "    h = 0.677 #constante a-dimensional de hubble\n",
    "    stars, S, S_1 = star_particles_rotated_once(494709,99,'sims.TNG/TNG50-1/output')\n",
    "    \n",
    "    \n",
    "    #rotando todas las particulas\n",
    "    stars = il.snapshot.loadSubhalo(basepath,snapNum,subhaloID, 'star', fields=['Masses','Coordinates','Velocities','GFM_Metallicity','Potential','GFM_StellarFormationTime'])\n",
    "\n",
    "    subhalo = il.groupcat.loadSingle(basepath, snapNum, subhaloID=subhaloID)\n",
    "    shPos = subhalo['SubhaloPos']\n",
    "    shVel = subhalo['SubhaloVel']\n",
    "    rHalf = subhalo['SubhaloHalfmassRadType'][4]\n",
    "\n",
    "\n",
    "    stars['Coordinates'] -= shPos\n",
    "    stars['Velocities']  -= shVel\n",
    "    \n",
    "    #pasando datos a valores fisicos\n",
    "    stars['Masses'] *= (1e10/h)\n",
    "    stars['Coordinates'] /= h\n",
    "    stars['GFM_Metallicity'] /= 0.0127\n",
    "    rHalf /= h\n",
    "    shPos /= h\n",
    "    \n",
    "    #distancia al centro\n",
    "    stars['Distance_to_center'] = np.array([np.linalg.norm(v) for v in stars['Coordinates']])\n",
    "    \n",
    "    #filtrando por radio y metalicidad\n",
    "    if metallicity_cutoff != False:\n",
    "        wStars = np.where((stars['Distance_to_center'] <= radius_fraction*rHalf) & (stars['GFM_Metallicity'] >= metallicity_cutoff) & (stars['GFM_StellarFormationTime'] > 0))\n",
    "    else:\n",
    "        wStars = np.where( (stars['Distance_to_center'] <= radius_fraction*rHalf) & (stars['GFM_StellarFormationTime'] > 0))\n",
    "        \n",
    "    stars['Masses'] = stars['Masses'][wStars]\n",
    "    stars['Velocities'] = stars['Velocities'][wStars]\n",
    "    stars['Coordinates'] = stars['Coordinates'][wStars]\n",
    "    stars['GFM_Metallicity'] = stars['GFM_Metallicity'][wStars]\n",
    "    stars['Potential'] = stars['Potential'][wStars]\n",
    "    \n",
    "    \n",
    "    #filtrado\n",
    "\n",
    "    stars['Coordinates'] = np.array([np.array(np.dot(coords,S))[0] for coords in stars['Coordinates']])\n",
    "    stars['Velocities'] = np.array([np.array(np.dot(vels,S))[0] for vels in stars['Coordinates']])\n",
    "\n",
    "\n",
    "    stars['Angular_Momentum'] = np.cross(stars['Coordinates'],stars['Velocities'])\n",
    "    print(\"-----------------------\\n\",sum(stars['Angular_Momentum']))\n",
    "\n",
    "    norm_velocities = [np.linalg.norm(v) for v in stars['Velocities']]\n",
    "    norm_velocities = np.array(norm_velocities)\n",
    "    norm_velocities\n",
    "\n",
    "    stars['Specific_Energy'] = (0.5*norm_velocities**2) + stars['Potential']\n",
    "\n",
    "    indices_ordenados = np.argsort(stars['Specific_Energy'])\n",
    "\n",
    "    stars['Masses'] = stars['Masses'][indices_ordenados]\n",
    "    stars['Coordinates'] = stars['Coordinates'][indices_ordenados]\n",
    "    stars['Velocities'] = stars['Velocities'][indices_ordenados]\n",
    "    stars['GFM_Metallicity'] = stars['GFM_Metallicity'][indices_ordenados]\n",
    "    stars['Potential'] = stars['Potential'][indices_ordenados]\n",
    "    #stars['Distance_to_center'] = stars['Distance_to_center'][indices_ordenados]\n",
    "    stars['Angular_Momentum'] = stars['Angular_Momentum'][indices_ordenados]\n",
    "    stars['Specific_Energy'] = stars['Specific_Energy'][indices_ordenados]\n",
    "\n",
    "    jz = stars['Angular_Momentum'][:,2]\n",
    "    npm = 50\n",
    "    max_jz = [np.max(jz[:i+npm]) if i < npm else np.max(jz[i-npm:]) if i > len(jz)-npm else np.max(jz[i-npm:i+npm]) for i in range(len(jz))]\n",
    "    max_jz = np.array(max_jz)\n",
    "\n",
    "\n",
    "    circularity = jz/max_jz\n",
    "    stars['Circularity'] = circularity\n",
    "\n",
    "    return(stars)"
   ]
  },
  {
   "cell_type": "markdown",
   "metadata": {},
   "source": [
    "# Test con particulas perfectas"
   ]
  },
  {
   "cell_type": "code",
   "execution_count": 2,
   "metadata": {},
   "outputs": [
    {
     "name": "stdout",
     "output_type": "stream",
     "text": [
      "[[ -8.88178420e-16  -1.33226763e-15   2.07846097e+01]]\n",
      "Coordenadas\n",
      " [[ 0.    0.    0.  ]\n",
      " [ 0.    1.41  0.  ]\n",
      " [-0.   -1.41 -0.  ]\n",
      " [-2.45  0.    0.  ]\n",
      " [ 2.45 -0.    0.  ]] \n",
      " Velocidades\n",
      " [[ 0.    0.    0.  ]\n",
      " [-2.45  0.    0.  ]\n",
      " [ 2.45 -0.    0.  ]\n",
      " [-0.   -2.83 -0.  ]\n",
      " [ 0.    2.83  0.  ]]\n",
      "[  0.      0.     20.776] \n",
      " [[ 0.      0.      0.    ]\n",
      " [ 0.     -0.      3.4545]\n",
      " [-0.      0.      3.4545]\n",
      " [ 0.     -0.      6.9335]\n",
      " [-0.      0.      6.9335]]\n"
     ]
    }
   ],
   "source": [
    "Coordenadas = np.array([[11,11,11],\n",
    "                        [12,10,11],\n",
    "                        [10,12,11],\n",
    "                        [12,12,13],\n",
    "                        [10,10,9]\n",
    "                       ])\n",
    "\n",
    "Velocidades = np.array([[0,0,0],\n",
    "                        [1,1,2],\n",
    "                        [-1,-1,-2],\n",
    "                        [-2,2,0],\n",
    "                        [2,-2,0]\n",
    "                       ])\n",
    "\n",
    "Masas = [1,1,1,1,1]\n",
    "\n",
    "CentralPos = [11,11,11]\n",
    "\n",
    "Coordenadas -= CentralPos\n",
    "\n",
    "\n",
    "\n",
    "Momentos_Angulares = np.cross(Coordenadas,Velocidades)\n",
    "total_angular_momentum = sum(Momentos_Angulares)\n",
    "r, theta, phi = spherical_coords_from_vector(total_angular_momentum)\n",
    "M = matrix_from_spherical(r, theta, phi)\n",
    "\n",
    "\n",
    "\n",
    "\n",
    "\n",
    "# nuevas_coords = np.dot(Coordenadas,M)\n",
    "# nuevas_vels = np.dot(Velocidades,M)\n",
    "\n",
    "nuevas_coords = np.array([np.array(np.dot(M, Coord))[0] for Coord in Coordenadas])\n",
    "nuevas_vels = np.array([np.array(np.dot(M, Velocidad))[0] for Velocidad in Velocidades])\n",
    "\n",
    "nuevas_coords = np.round(nuevas_coords,2)\n",
    "nuevas_vels = np.round(nuevas_vels,2)\n",
    "\n",
    "print(np.dot(M, total_angular_momentum))\n",
    "print(\"Coordenadas\\n\",nuevas_coords,\"\\n\",\"Velocidades\\n\",nuevas_vels)\n",
    "print(sum(np.cross(nuevas_coords,nuevas_vels)),\"\\n\",np.cross(nuevas_coords,nuevas_vels))"
   ]
  },
  {
   "cell_type": "code",
   "execution_count": 9,
   "metadata": {},
   "outputs": [
    {
     "name": "stdout",
     "output_type": "stream",
     "text": [
      "Autovalores \n",
      " [  3.99999857+0.j  11.99999905+0.j  16.00000000+0.j] \n",
      " Autovectores \n",
      " [[  4.08248186e-01  -7.07106650e-01   5.77350080e-01]\n",
      " [  4.08248365e-01   7.07106829e-01   5.77350378e-01]\n",
      " [  8.16496611e-01   5.28359259e-08  -5.77350318e-01]]\n",
      "[[  3.99999976e+00  -1.14330862e-06   2.47990044e-07]\n",
      " [  1.36271956e-06   1.19999990e+01  -7.16760340e-08]\n",
      " [  3.67589109e-07   5.98126917e-07   1.60000000e+01]]\n",
      "Coordenadas\n",
      " [[ 0.    0.    0.  ]\n",
      " [-0.   -1.41 -0.  ]\n",
      " [ 0.    1.41  0.  ]\n",
      " [ 2.45  0.    0.  ]\n",
      " [-2.45 -0.    0.  ]] \n",
      " Velocidades\n",
      " [[ 0.    0.    0.  ]\n",
      " [ 2.45  0.    0.  ]\n",
      " [-2.45 -0.    0.  ]\n",
      " [ 0.    2.83  0.  ]\n",
      " [-0.   -2.83 -0.  ]]\n",
      "[  0.      0.     20.776] \n",
      " [[ 0.      0.      0.    ]\n",
      " [ 0.      0.      3.4545]\n",
      " [ 0.     -0.      3.4545]\n",
      " [ 0.      0.      6.9335]\n",
      " [ 0.     -0.      6.9335]]\n"
     ]
    }
   ],
   "source": [
    "Coordenadas = np.array([[11,11,11],\n",
    "                        [12,10,11],\n",
    "                        [10,12,11],\n",
    "                        [12,12,13],\n",
    "                        [10,10,9]\n",
    "                       ])\n",
    "\n",
    "Velocidades = np.array([[0,0,0],\n",
    "                        [1,1,2],\n",
    "                        [-1,-1,-2],\n",
    "                        [-2,2,0],\n",
    "                        [2,-2,0]\n",
    "                       ])\n",
    "\n",
    "Masas = [1,1,1,1,1]\n",
    "\n",
    "CentralPos = [11,11,11]\n",
    "\n",
    "I = np.matrix(inertia_tensor(Masas, Coordenadas, CentralPos  ))\n",
    "S = np.matrix(diagonalization_of_inertia(I))\n",
    "S_1 = np.matrix(inv(S))\n",
    "\n",
    "nuevas_coords = np.dot(Coordenadas, S_1)\n",
    "nuevas_vels = np.dot(Velocidades, S_1)\n",
    "\n",
    "print(S * I * S_1)\n",
    "nuevas_coords = np.round(nuevas_coords,2)\n",
    "nuevas_vels = np.round(nuevas_vels,2)\n",
    "print(\"Coordenadas\\n\",nuevas_coords,\"\\n\",\"Velocidades\\n\",nuevas_vels)\n",
    "print(sum(np.cross(nuevas_coords,nuevas_vels)),\"\\n\",np.cross(nuevas_coords,nuevas_vels))"
   ]
  },
  {
   "cell_type": "code",
   "execution_count": 5,
   "metadata": {},
   "outputs": [
    {
     "data": {
      "text/plain": [
       "matrix([[  4.08248186e-01,  -7.07106590e-01,   5.77350080e-01],\n",
       "        [  4.08248365e-01,   7.07106829e-01,   5.77350438e-01],\n",
       "        [  8.16496611e-01,   4.75679798e-08,  -5.77350259e-01]], dtype=float32)"
      ]
     },
     "execution_count": 5,
     "metadata": {},
     "output_type": "execute_result"
    }
   ],
   "source": []
  },
  {
   "cell_type": "markdown",
   "metadata": {},
   "source": [
    "# Rotation of particles"
   ]
  },
  {
   "cell_type": "code",
   "execution_count": 2,
   "metadata": {},
   "outputs": [
    {
     "name": "stdout",
     "output_type": "stream",
     "text": [
      "6.31126943056\n",
      "[[ -2.10348428e-09   4.71124550e-09   1.46322505e+08]]\n",
      "-----------------------\n",
      " [ -2.61551008e-07  -7.69326363e-07   1.46322505e+08]\n"
     ]
    }
   ],
   "source": [
    "stars, M = star_particles_rotated_once_eulermethod(394621,99,'sims.TNG/TNG50-1/output')\n",
    "\n",
    "stars['Angular_Momentum'] = np.cross(stars['Coordinates'],stars['Velocities'])\n",
    "print(\"-----------------------\\n\",sum(stars['Angular_Momentum']))\n",
    "\n",
    "np.savetxt('datosPOS_estrellas_eulermethod.csv',stars['Coordinates'],delimiter=',')\n",
    "np.savetxt('datosVEL_estrellas_eulermethod.csv',stars['Velocities'],delimiter=',')"
   ]
  },
  {
   "cell_type": "code",
   "execution_count": null,
   "metadata": {},
   "outputs": [],
   "source": [
    "# Rotando las coordenadas usando M\n",
    "\n",
    "subhaloID = 394621; snapNum = 99; basepath = 'sims.TNG/TNG50-1/output'\n",
    "\n",
    "stars = il.snapshot.loadSubhalo(basepath,snapNum,subhaloID, 'star', fields=['Masses','Coordinates','Velocities','GFM_Metallicity','Potential'])\n",
    "\n",
    "subhalo = il.groupcat.loadSingle(basepath, snapNum, subhaloID=subhaloID)\n",
    "shPos = subhalo['SubhaloPos']\n",
    "shVel = subhalo['SubhaloVel']\n",
    "\n",
    "\n",
    "stars['Coordinates'] -= shPos\n",
    "stars['Velocities']  -= shVel\n",
    "\n",
    "stars['Coordinates'] = np.array([np.array(np.dot(M, coords))[0] for coords in stars['Coordinates']])\n",
    "stars['Velocities'] = np.array([np.array(np.dot(M, vels))[0] for vels in stars['Coordinates']])\n",
    "\n",
    "np.savetxt('datosPOS_ALLestrellas_eulermethod.csv',stars['Coordinates'],delimiter=',')"
   ]
  },
  {
   "cell_type": "code",
   "execution_count": 22,
   "metadata": {},
   "outputs": [],
   "source": [
    "#stars = il.snapshot.loadSubhalo('sims.TNG/TNG50-1/output',99,494709, 'star', fields=['Masses','Coordinates','GFM_Metallicity'])\n",
    "stars['GFM_Metallicity'] /= 0.0127\n",
    "wStars = np.where( (stars['GFM_Metallicity'] >= 1) )\n",
    "stars['Masses'] = stars['Masses'][wStars]\n",
    "stars['Coordinates'] = stars['Coordinates'][wStars]\n",
    "stars['Velocities'] = stars['Velocities'][wStars]\n",
    "stars['GFM_Metallicity'] = stars['GFM_Metallicity'][wStars]\n",
    "stars['Potential'] = stars['Potential'][wStars]\n",
    "\n",
    "\n",
    "np.savetxt('datosPOS_RAW_estrellasMETALICAS.csv',stars['Coordinates'],delimiter=',')"
   ]
  },
  {
   "cell_type": "markdown",
   "metadata": {},
   "source": [
    "### ------------------------Zona del tensor de inercia---------------------------------"
   ]
  },
  {
   "cell_type": "code",
   "execution_count": 16,
   "metadata": {},
   "outputs": [
    {
     "name": "stdout",
     "output_type": "stream",
     "text": [
      "8.78085600375\n",
      "Autovalores \n",
      " [  5.25069582e+11+0.j   5.30789761e+11+0.j   9.86400227e+11+0.j] \n",
      " Autovectores \n",
      " [[-0.61993992 -0.38497245  0.68372154]\n",
      " [ 0.32870445  0.66380388  0.6717962 ]\n",
      " [ 0.71248007 -0.64121807  0.28498179]]\n",
      "[[  5.25288964e+11   5.46697088e+08   9.99753523e+09]\n",
      " [  5.46606592e+08   5.31649364e+11   1.97927813e+10]\n",
      " [  9.99541043e+09   1.97921014e+10   9.85320718e+11]] |<-----Tensor de inercia Diagonalizado\n",
      "-----------------------\n",
      " [ -6.45364045e+06  -1.21415655e+07  -2.83065699e+08]\n"
     ]
    }
   ],
   "source": [
    "stars, S, S_1 = star_particles_rotated_once(394621,99,'sims.TNG/TNG50-1/output')\n",
    "\n",
    "stars['Angular_Momentum'] = np.cross(stars['Coordinates'],stars['Velocities'])\n",
    "print(\"-----------------------\\n\",sum(stars['Angular_Momentum']))\n",
    "\n",
    "np.savetxt('datosPOS_estrellas.csv',stars['Coordinates'],delimiter=',')\n",
    "np.savetxt('datosVEL_estrellas.csv',stars['Velocities'],delimiter=',')"
   ]
  },
  {
   "cell_type": "code",
   "execution_count": 21,
   "metadata": {},
   "outputs": [],
   "source": [
    "#Rotando las coordenadas usando S\n",
    "\n",
    "subhaloID = 394621; snapNum = 99; basepath = 'sims.TNG/TNG50-1/output'\n",
    "\n",
    "stars = il.snapshot.loadSubhalo(basepath,snapNum,subhaloID, 'star', fields=['Masses','Coordinates','Velocities','GFM_Metallicity','Potential'])\n",
    "\n",
    "subhalo = il.groupcat.loadSingle(basepath, snapNum, subhaloID=subhaloID)\n",
    "shPos = subhalo['SubhaloPos']\n",
    "shVel = subhalo['SubhaloVel']\n",
    "\n",
    "\n",
    "stars['Coordinates'] -= shPos\n",
    "stars['Velocities']  -= shVel\n",
    "\n",
    "stars['Coordinates'] = np.array([np.array(np.dot(coords,S))[0] for coords in stars['Coordinates']])\n",
    "stars['Velocities'] = np.array([np.array(np.dot(vels,S))[0] for vels in stars['Coordinates']])\n",
    "\n",
    "np.savetxt('datosPOS_ALLestrellas.csv',stars['Coordinates'],delimiter=',')"
   ]
  },
  {
   "cell_type": "code",
   "execution_count": 8,
   "metadata": {},
   "outputs": [
    {
     "data": {
      "text/plain": [
       "array([[  6.45571035e-02,   1.60487193e-02,   3.26976615e-02],\n",
       "       [  5.47892934e-02,   1.08875240e-02,   4.02730159e-02],\n",
       "       [  5.76683883e-02,  -1.46554201e-02,   2.07103822e-04],\n",
       "       ..., \n",
       "       [ -1.24447227e+02,   1.29459931e+02,   4.31013478e+01],\n",
       "       [ -7.77739622e+01,   1.85929651e+02,   7.84110401e+01],\n",
       "       [ -1.25447041e+02,   1.29471303e+02,   4.45977648e+01]])"
      ]
     },
     "execution_count": 8,
     "metadata": {},
     "output_type": "execute_result"
    }
   ],
   "source": [
    "#[ for coords in stars['Coordinates']]\n",
    "\n",
    "stars['Coordinates']"
   ]
  },
  {
   "cell_type": "code",
   "execution_count": 13,
   "metadata": {},
   "outputs": [
    {
     "data": {
      "text/plain": [
       "{'count': 282204,\n",
       " 'Masses': array([  2.51052711e-06,   3.70294310e-06,   2.83330860e-06, ...,\n",
       "          3.66798145e-06,   3.92988295e-06,   3.74699653e-06], dtype=float32),\n",
       " 'Coordinates': array([[ 15170.19751   ,   1034.44337252,  20953.56218376],\n",
       "        [ 15170.32788323,   1034.48864695,  20953.54129038],\n",
       "        [ 15170.2878562 ,   1034.56174559,  20953.57123232],\n",
       "        ..., \n",
       "        [ 15199.16076493,   1071.68052335,  20962.25935723],\n",
       "        [ 15179.30979124,   1049.71820925,  20931.01298485],\n",
       "        [ 15154.20796611,   1015.6344634 ,  20920.62725251]]),\n",
       " 'Velocities': array([[  78.54011536,  -96.44454193,    3.4515326 ],\n",
       "        [  34.4197998 ,  -38.3124733 ,  -71.94756317],\n",
       "        [  28.24641991, -128.80912781,   15.34276295],\n",
       "        ..., \n",
       "        [ 162.14784241,   45.34522247,  189.53048706],\n",
       "        [ 274.83538818,  154.23406982,  131.4773407 ],\n",
       "        [ 231.75782776,  165.02409363,  -43.55035019]], dtype=float32),\n",
       " 'GFM_Metallicity': array([ 1.3435663 ,  1.08913732,  1.21054304, ...,  1.0791651 ,\n",
       "         1.20135677,  1.13513327], dtype=float32),\n",
       " 'Potential': array([-328322.53125, -330569.03125, -330331.625  , ...,  -81350.21875,\n",
       "        -100251.0625 ,  -83534.34375], dtype=float32),\n",
       " 'GFM_StellarFormationTime': array([ 0.44920552,  0.27931103,  0.28807673, ...,  0.26613128,\n",
       "         0.16638504,  0.21982427], dtype=float32)}"
      ]
     },
     "execution_count": 13,
     "metadata": {},
     "output_type": "execute_result"
    }
   ],
   "source": [
    "stars = il.snapshot.loadSubhalo('sims.TNG/TNG50-1/output',99,394621, 'star', fields=['Masses','Coordinates','Velocities','GFM_Metallicity','Potential','GFM_StellarFormationTime'])\n",
    "stars['GFM_Metallicity'] /= 0.0127\n",
    "wStars = np.where( (stars['GFM_Metallicity'] >= 1) & (stars['GFM_Metallicity'] <= 1.5) & (stars['GFM_StellarFormationTime'] > 0) )\n",
    "stars['Masses'] = stars['Masses'][wStars]\n",
    "stars['Coordinates'] = stars['Coordinates'][wStars]\n",
    "stars['Velocities'] = stars['Velocities'][wStars]\n",
    "stars['GFM_Metallicity'] = stars['GFM_Metallicity'][wStars]\n",
    "stars['Potential'] = stars['Potential'][wStars]\n",
    "stars['count'] = len(stars['Masses'])\n",
    "\n",
    "\n",
    "stars"
   ]
  },
  {
   "cell_type": "markdown",
   "metadata": {},
   "source": [
    "# Calculation of circularity"
   ]
  },
  {
   "cell_type": "code",
   "execution_count": 3,
   "metadata": {},
   "outputs": [
    {
     "name": "stdout",
     "output_type": "stream",
     "text": [
      "6.31126943056\n",
      "[[ -2.10348428e-09   4.71124550e-09   1.46322505e+08]]\n",
      "-----------------------\n",
      " [ -2.61551008e-07  -7.69326363e-07   1.46322505e+08]\n"
     ]
    }
   ],
   "source": [
    "stars, M = star_particles_rotated_once_eulermethod(394621,99,'sims.TNG/TNG50-1/output')\n",
    "\n",
    "stars['Angular_Momentum'] = np.cross(stars['Coordinates'],stars['Velocities'])\n",
    "print(\"-----------------------\\n\",sum(stars['Angular_Momentum']))\n",
    "\n",
    "norm_velocities = [np.linalg.norm(v) for v in stars['Velocities']]\n",
    "norm_velocities = np.array(norm_velocities)\n",
    "norm_velocities\n",
    "\n",
    "stars['Specific_Energy'] = (0.5*norm_velocities**2) + stars['Potential']\n",
    "\n",
    "indices_ordenados = np.argsort(stars['Specific_Energy'])\n",
    "\n",
    "stars['Masses'] = stars['Masses'][indices_ordenados]\n",
    "stars['Coordinates'] = stars['Coordinates'][indices_ordenados]\n",
    "stars['Velocities'] = stars['Velocities'][indices_ordenados]\n",
    "stars['GFM_Metallicity'] = stars['GFM_Metallicity'][indices_ordenados]\n",
    "stars['Potential'] = stars['Potential'][indices_ordenados]\n",
    "#stars['Distance_to_center'] = stars['Distance_to_center'][indices_ordenados]\n",
    "stars['Angular_Momentum'] = stars['Angular_Momentum'][indices_ordenados]\n",
    "stars['Specific_Energy'] = stars['Specific_Energy'][indices_ordenados]\n",
    "\n",
    "jz = stars['Angular_Momentum'][:,2]\n",
    "npm = 50\n",
    "max_jz = [np.max(jz[:i+npm]) if i < npm else np.max(jz[i-npm:]) if i > len(jz)-npm else np.max(jz[i-npm:i+npm]) for i in range(len(jz))]\n",
    "max_jz = np.array(max_jz)\n",
    "\n",
    "\n",
    "circularity = jz/max_jz\n",
    "stars['Circularity'] = circularity\n",
    "\n",
    "np.savetxt('datos_circularidades_eulermethod.csv',stars['Circularity'],delimiter=',')"
   ]
  },
  {
   "cell_type": "code",
   "execution_count": 12,
   "metadata": {},
   "outputs": [],
   "source": []
  },
  {
   "cell_type": "code",
   "execution_count": 15,
   "metadata": {},
   "outputs": [
    {
     "name": "stdout",
     "output_type": "stream",
     "text": [
      "8.78085600375\n",
      "[[ -7.53456484e-09   2.66504908e-08   2.83398982e+08]]\n",
      "-----------------------\n",
      " [-44373291.72880507 -63252030.73685679  62450902.51319665]\n"
     ]
    }
   ],
   "source": [
    "stars, M = star_particles_rotated_once_eulermethod(394621,99,'sims.TNG/TNG50-1/output')\n",
    "\n",
    "#rotando todas las particulas\n",
    "subhaloID = 394621; snapNum = 99; basepath = 'sims.TNG/TNG50-1/output'\n",
    "\n",
    "stars = il.snapshot.loadSubhalo(basepath,snapNum,subhaloID, 'star', fields=['Masses','Coordinates','Velocities','GFM_Metallicity','Potential'])\n",
    "\n",
    "subhalo = il.groupcat.loadSingle(basepath, snapNum, subhaloID=subhaloID)\n",
    "shPos = subhalo['SubhaloPos']\n",
    "shVel = subhalo['SubhaloVel']\n",
    "\n",
    "\n",
    "stars['Coordinates'] -= shPos\n",
    "stars['Velocities']  -= shVel\n",
    "\n",
    "stars['Coordinates'] = np.array([np.array(np.dot(M, coords))[0] for coords in stars['Coordinates']])\n",
    "stars['Velocities'] = np.array([np.array(np.dot(M, vels))[0] for vels in stars['Coordinates']])\n",
    "\n",
    "stars['Angular_Momentum'] = np.cross(stars['Coordinates'],stars['Velocities'])\n",
    "print(\"-----------------------\\n\",sum(stars['Angular_Momentum']))\n",
    "\n",
    "norm_velocities = [np.linalg.norm(v) for v in stars['Velocities']]\n",
    "norm_velocities = np.array(norm_velocities)\n",
    "norm_velocities\n",
    "\n",
    "stars['Specific_Energy'] = (0.5*norm_velocities**2) + stars['Potential']\n",
    "\n",
    "indices_ordenados = np.argsort(stars['Specific_Energy'])\n",
    "\n",
    "stars['Masses'] = stars['Masses'][indices_ordenados]\n",
    "stars['Coordinates'] = stars['Coordinates'][indices_ordenados]\n",
    "stars['Velocities'] = stars['Velocities'][indices_ordenados]\n",
    "stars['GFM_Metallicity'] = stars['GFM_Metallicity'][indices_ordenados]\n",
    "stars['Potential'] = stars['Potential'][indices_ordenados]\n",
    "#stars['Distance_to_center'] = stars['Distance_to_center'][indices_ordenados]\n",
    "stars['Angular_Momentum'] = stars['Angular_Momentum'][indices_ordenados]\n",
    "stars['Specific_Energy'] = stars['Specific_Energy'][indices_ordenados]\n",
    "\n",
    "jz = stars['Angular_Momentum'][:,2]\n",
    "npm = 50\n",
    "max_jz = [np.max(jz[:i+npm]) if i < npm else np.max(jz[i-npm:]) if i > len(jz)-npm else np.max(jz[i-npm:i+npm]) for i in range(len(jz))]\n",
    "max_jz = np.array(max_jz)\n",
    "\n",
    "\n",
    "circularity = jz/max_jz\n",
    "stars['Circularity'] = circularity\n",
    "\n",
    "np.savetxt('datosALL_circularidades_eulermethod.csv',stars['Circularity'],delimiter=',')"
   ]
  },
  {
   "cell_type": "markdown",
   "metadata": {},
   "source": [
    "### Zona del tensor de inercia"
   ]
  },
  {
   "cell_type": "code",
   "execution_count": 26,
   "metadata": {},
   "outputs": [
    {
     "name": "stdout",
     "output_type": "stream",
     "text": [
      "-----------------------\n",
      " [-19244146.5566427  -20255806.00022464  23447518.29735858]\n"
     ]
    }
   ],
   "source": [
    "#stars, S, S_1 = star_particles_rotated_once(494709,99,'sims.TNG/TNG50-1/output')\n",
    "\n",
    "stars['Angular_Momentum'] = np.cross(stars['Coordinates'],stars['Velocities'])\n",
    "print(\"-----------------------\\n\",sum(stars['Angular_Momentum']))\n",
    "\n",
    "norm_velocities = [np.linalg.norm(v) for v in stars['Velocities']]\n",
    "norm_velocities = np.array(norm_velocities)\n",
    "norm_velocities\n",
    "\n",
    "stars['Specific_Energy'] = (0.5*norm_velocities**2) + stars['Potential']\n",
    "\n",
    "indices_ordenados = np.argsort(stars['Specific_Energy'])\n",
    "\n",
    "stars['Masses'] = stars['Masses'][indices_ordenados]\n",
    "stars['Coordinates'] = stars['Coordinates'][indices_ordenados]\n",
    "stars['Velocities'] = stars['Velocities'][indices_ordenados]\n",
    "stars['GFM_Metallicity'] = stars['GFM_Metallicity'][indices_ordenados]\n",
    "stars['Potential'] = stars['Potential'][indices_ordenados]\n",
    "#stars['Distance_to_center'] = stars['Distance_to_center'][indices_ordenados]\n",
    "stars['Angular_Momentum'] = stars['Angular_Momentum'][indices_ordenados]\n",
    "stars['Specific_Energy'] = stars['Specific_Energy'][indices_ordenados]\n",
    "\n",
    "jz = stars['Angular_Momentum'][:,2]\n",
    "npm = 50\n",
    "max_jz = [np.max(jz[:i+npm]) if i < npm else np.max(jz[i-npm:]) if i > len(jz)-npm else np.max(jz[i-npm:i+npm]) for i in range(len(jz))]\n",
    "max_jz = np.array(max_jz)\n",
    "\n",
    "\n",
    "circularity = jz/max_jz\n",
    "stars['Circularity'] = circularity"
   ]
  },
  {
   "cell_type": "code",
   "execution_count": 26,
   "metadata": {},
   "outputs": [
    {
     "data": {
      "text/plain": [
       "array([  2.10025988e-05,  -7.67667471e-04,  -1.51160688e-03,\n",
       "        -4.94670768e-04,  -5.83025049e-04,  -4.29936813e-05,\n",
       "         4.29105818e-04,  -4.92019900e-04,  -2.21895137e-04,\n",
       "        -7.88078660e-04,  -1.07494267e-04,  -6.77764590e-04,\n",
       "        -5.96346582e-06,  -4.22422577e-04,  -2.46654411e-04,\n",
       "        -3.15431879e-05,   7.19090493e-06,  -6.84717240e-04,\n",
       "         1.55077516e-04,  -1.76478565e-04,  -2.74185009e-04,\n",
       "        -1.91988891e-04,  -1.15156182e-04,  -4.13292903e-03,\n",
       "         2.60557693e-05,  -1.12504778e-04,   1.74699917e-04,\n",
       "        -3.71659328e-04,  -6.69931845e-04,   1.24437116e-04,\n",
       "         8.58128268e-04,   4.35300312e-04,  -2.57825943e-03,\n",
       "        -8.23083619e-04,  -3.61827448e-04,   1.16789438e-04,\n",
       "        -2.24087680e-03,  -3.50379662e-05,  -1.18599941e-05,\n",
       "        -7.06528025e-04,  -3.30796004e-04,  -2.37942352e-07])"
      ]
     },
     "execution_count": 26,
     "metadata": {},
     "output_type": "execute_result"
    }
   ],
   "source": [
    "jz[:2+40]"
   ]
  },
  {
   "cell_type": "code",
   "execution_count": 29,
   "metadata": {},
   "outputs": [
    {
     "data": {
      "text/plain": [
       "(0.00413292902635782, -0.0015116068778327895)"
      ]
     },
     "execution_count": 29,
     "metadata": {},
     "output_type": "execute_result"
    }
   ],
   "source": [
    "np.max(abs(jz[:2+40])),jz[2]"
   ]
  },
  {
   "cell_type": "code",
   "execution_count": 27,
   "metadata": {},
   "outputs": [
    {
     "data": {
      "text/plain": [
       "array([ 0.11548516,  0.33061163,  0.24555513, ...,  0.93866259,\n",
       "        1.        ,  0.80196756])"
      ]
     },
     "execution_count": 27,
     "metadata": {},
     "output_type": "execute_result"
    }
   ],
   "source": [
    "stars['Circularity']"
   ]
  },
  {
   "cell_type": "code",
   "execution_count": 28,
   "metadata": {},
   "outputs": [],
   "source": [
    "np.savetxt('datosALL_circularidades.csv',stars['Circularity'],delimiter=',')"
   ]
  },
  {
   "cell_type": "code",
   "execution_count": 8,
   "metadata": {},
   "outputs": [
    {
     "data": {
      "text/plain": [
       "array([    144,      40,      37, ..., 1317302, 1317314, 1317354])"
      ]
     },
     "execution_count": 8,
     "metadata": {},
     "output_type": "execute_result"
    }
   ],
   "source": [
    "indices_ordenados"
   ]
  },
  {
   "cell_type": "code",
   "execution_count": 35,
   "metadata": {},
   "outputs": [
    {
     "name": "stdout",
     "output_type": "stream",
     "text": [
      "8.78085600375\n",
      "[[ -7.53456484e-09   2.66504908e-08   2.83398982e+08]]\n",
      "-----------------------\n",
      " [ -7.12300588e+07  -9.62122108e+07   1.07225492e+08]\n"
     ]
    }
   ],
   "source": [
    "## Utilizando fu nciones creadas para la circularidad\n",
    "subhaloID = 394621\n",
    "snapNum = 99\n",
    "basepath = 'sims.TNG/TNG50-1/output'\n",
    "radius_fraction = 5.0\n",
    "metallicity_cutoff = False\n",
    "\n",
    "\n",
    "stars = circularities_eulermethod(subhaloID,snapNum,basepath,radius_fraction,metallicity_cutoff)\n",
    "stars['count'] = len(stars['Masses'])"
   ]
  },
  {
   "cell_type": "code",
   "execution_count": 36,
   "metadata": {},
   "outputs": [
    {
     "data": {
      "text/plain": [
       "{'count': 1301958,\n",
       " 'Masses': array([ 46668.125     ,  44963.171875  ,  49238.66796875, ...,\n",
       "         61256.86328125,  88369.1171875 ,  46834.1640625 ], dtype=float32),\n",
       " 'Coordinates': array([[  3.70749442e-02,   1.80852144e-02,  -7.44632376e-03],\n",
       "        [  6.85675418e-02,   2.32580388e-02,   1.58983190e-02],\n",
       "        [  5.44102610e-02,  -2.34510366e-02,  -6.30223763e-03],\n",
       "        ..., \n",
       "        [ -1.68256799e+01,  -8.62648554e+00,  -3.89990453e+01],\n",
       "        [ -1.82386436e+01,  -1.74531412e+01,  -3.56744146e+01],\n",
       "        [ -1.28218567e+01,  -5.67890127e+00,  -4.15845637e+01]]),\n",
       " 'Velocities': array([[  1.23118517e-02,   3.80006862e-02,   1.27059183e-02],\n",
       "        [ -3.04452764e-03,   6.26014197e-02,   3.95852727e-02],\n",
       "        [  2.45123660e-02,   1.80967493e-02,   5.12034901e-02],\n",
       "        ..., \n",
       "        [  3.45224204e+01,  -1.75614678e+01,  -1.94484609e+01],\n",
       "        [  3.29415506e+01,  -2.51417066e+01,  -1.38806680e+01],\n",
       "        [  3.73191277e+01,  -1.27082499e+01,  -1.92797551e+01]]),\n",
       " 'GFM_Metallicity': array([ 2.66454244,  4.97878075,  4.98754549, ...,  0.06042404,\n",
       "         0.00512186,  0.03601286], dtype=float32),\n",
       " 'Potential': array([-331296.65625  , -331264.3125   , -331201.96875  , ...,\n",
       "         -93335.53125  ,  -93302.8515625,  -92827.7578125], dtype=float32),\n",
       " 'GFM_StellarFormationTime': array([ 0.52802712,  0.31071413,  0.32366791, ...,  0.28257921,\n",
       "         0.14468001,  0.19018815], dtype=float32),\n",
       " 'Distance_to_center': array([  1.09488474e-01,   1.01720135e-01,   8.78904369e-02, ...,\n",
       "          2.72783654e+02,   3.19433540e+02,   2.74315157e+02]),\n",
       " 'Angular_Momentum': array([[  5.12754669e-04,  -5.62749247e-04,   1.18621085e-03],\n",
       "        [ -7.45815350e-05,  -2.76266771e-03,   4.36323520e-03],\n",
       "        [ -1.08672491e-03,  -2.94047802e-03,   1.55948925e-03],\n",
       "        ..., \n",
       "        [ -5.17108613e+02,  -1.67357501e+03,   5.93290796e+02],\n",
       "        [ -6.54654406e+02,  -1.42833509e+03,   1.03348416e+03],\n",
       "        [ -4.18979201e+02,  -1.79910190e+03,   3.74875001e+02]]),\n",
       " 'Specific_Energy': array([-331296.65537146, -331264.3097524 , -331201.96697493, ...,\n",
       "         -92396.30860369,  -92347.88950493,  -91864.79487885]),\n",
       " 'Circularity': array([ 0.17021785,  0.62611172,  0.22378223, ...,  0.36938286,\n",
       "         0.64344726,  0.23339718])}"
      ]
     },
     "execution_count": 36,
     "metadata": {},
     "output_type": "execute_result"
    }
   ],
   "source": [
    "stars"
   ]
  },
  {
   "cell_type": "code",
   "execution_count": 38,
   "metadata": {},
   "outputs": [],
   "source": [
    "import pandas as pd\n",
    "\n",
    "stars_df = pd.DataFrame()\n",
    "\n",
    "stars_df['M'] = stars['Masses']\n",
    "stars_df['x'] = stars['Coordinates'][:,0]\n",
    "stars_df['y'] = stars['Coordinates'][:,1]\n",
    "stars_df['z'] = stars['Coordinates'][:,2]\n",
    "stars_df['Vx'] = stars['Velocities'][:,0]\n",
    "stars_df['Vy'] = stars['Velocities'][:,1]\n",
    "stars_df['Vz'] = stars['Velocities'][:,2]\n",
    "stars_df['Metallicity'] = stars['GFM_Metallicity']\n",
    "stars_df['U'] = stars['Potential']\n",
    "stars_df['StellarFormationTime'] = stars['GFM_StellarFormationTime']\n",
    "#stars_df['Distance_center'] = stars['Distance_to_center']\n",
    "stars_df['Wx'] = stars['Angular_Momentum'][:,0]\n",
    "stars_df['Wy'] = stars['Angular_Momentum'][:,1]\n",
    "stars_df['Wz'] = stars['Angular_Momentum'][:,2]\n",
    "stars_df['Specific_energy'] = stars['Specific_Energy']\n",
    "stars_df['Circularity'] = stars['Circularity']\n",
    "\n",
    "stars_df.to_csv('stars_5.0rHalf_nometalcutoff_dataframe.csv')"
   ]
  },
  {
   "cell_type": "code",
   "execution_count": null,
   "metadata": {},
   "outputs": [],
   "source": [
    "np.savetxt('datos_2.0rHalf_1.0metalcut_circularidades.csv',stars['Circularity'],delimiter=',')"
   ]
  },
  {
   "cell_type": "code",
   "execution_count": 4,
   "metadata": {},
   "outputs": [
    {
     "name": "stdout",
     "output_type": "stream",
     "text": [
      "8.78085600375\n",
      "Autovalores \n",
      " [  5.25069582e+11+0.j   5.30789761e+11+0.j   9.86400227e+11+0.j] \n",
      " Autovectores \n",
      " [[-0.61993992 -0.38497245  0.68372154]\n",
      " [ 0.32870445  0.66380388  0.6717962 ]\n",
      " [ 0.71248007 -0.64121807  0.28498179]]\n",
      "[[  5.25288964e+11   5.46697088e+08   9.99753523e+09]\n",
      " [  5.46606592e+08   5.31649364e+11   1.97927813e+10]\n",
      " [  9.99541043e+09   1.97921014e+10   9.85320718e+11]] |<-----Tensor de inercia Diagonalizado\n",
      "-----------------------\n",
      " [-79299828.19766761 -76400854.07738566  92124138.48795892]\n"
     ]
    },
    {
     "data": {
      "text/plain": [
       "{'count': 1317404,\n",
       " 'Masses': array([ 46668.125     ,  44963.171875  ,  49238.66796875, ...,\n",
       "         61256.86328125,  88369.1171875 ,  46834.1640625 ], dtype=float32),\n",
       " 'Coordinates': array([[ -3.93353986e-02,  -1.31864323e-02,  -5.99267291e-03],\n",
       "        [ -6.49641909e-02,  -3.04149412e-02,   1.87027536e-02],\n",
       "        [ -2.27459847e-02,  -5.49636265e-02,  -3.43350988e-03],\n",
       "        ..., \n",
       "        [  1.71789163e+01,   3.86879455e+00,  -3.96025717e+01],\n",
       "        [  2.44241809e+01,  -1.32723269e+00,  -3.62163382e+01],\n",
       "        [  1.21966184e+01,   3.08081298e+00,  -4.20437435e+01]]),\n",
       " 'Velocities': array([[  2.53646179e-02,  -2.57088907e-02,  -2.12781139e-02],\n",
       "        [  6.47700448e-02,  -2.89792055e-02,  -2.14533158e-02],\n",
       "        [  3.29127517e-02,  -4.62687281e-02,   1.80590045e-02],\n",
       "        ..., \n",
       "        [ -3.92162558e+01,  -1.83901519e+01,  -1.52689428e+00],\n",
       "        [ -3.93923571e+01,  -1.71828958e+01,   7.93198336e+00],\n",
       "        [ -3.74932580e+01,  -2.21909090e+01,  -5.26709277e+00]]),\n",
       " 'GFM_Metallicity': array([ 2.66454244,  4.97878075,  4.98754549, ...,  0.06042404,\n",
       "         0.00512186,  0.03601286], dtype=float32),\n",
       " 'Potential': array([-331296.65625  , -331264.3125   , -331201.96875  , ...,\n",
       "         -93335.53125  ,  -93302.8515625,  -92827.7578125], dtype=float32),\n",
       " 'GFM_StellarFormationTime': array([ 0.44920552,  0.27931103,  0.28807673, ...,  0.26613128,\n",
       "         0.16638504,  0.21982427], dtype=float32),\n",
       " 'Distance_to_center': array([  1.09488474e-01,   1.01720135e-01,   8.78904369e-02, ...,\n",
       "          2.72783654e+02,   3.19433540e+02,   2.74315157e+02]),\n",
       " 'Angular_Momentum': array([[  1.26517435e-04,  -9.88984951e-04,   1.34573828e-03],\n",
       "        [  1.19449228e-03,  -1.82319118e-04,   3.85258774e-03],\n",
       "        [ -1.15145251e-03,   2.97763582e-04,   2.86143197e-03],\n",
       "        ..., \n",
       "        [ -7.34204551e+02,   1.57929497e+03,  -1.64203243e+02],\n",
       "        [ -6.32829152e+02,   1.23291473e+03,  -4.71960979e+02],\n",
       "        [ -9.49215813e+02,   1.64059764e+03,  -1.55144334e+02]]),\n",
       " 'Specific_Energy': array([-331296.65537147, -331264.3097524 , -331201.96697491, ...,\n",
       "         -92396.30934361,  -92347.88852843,  -91864.79626058]),\n",
       " 'Circularity': array([ 0.11548516,  0.33061163,  0.24555513, ..., -0.09676616,\n",
       "        -0.27813003, -0.09142768])}"
      ]
     },
     "execution_count": 4,
     "metadata": {},
     "output_type": "execute_result"
    }
   ],
   "source": [
    "## Utilizando fu nciones creadas para la circularidad\n",
    "subhaloID = 394621\n",
    "snapNum = 99\n",
    "basepath = 'sims.TNG/TNG50-1/output'\n",
    "radius_fraction = 5.0\n",
    "metallicity_cutoff = False\n",
    "\n",
    "\n",
    "stars = circularities_diagmethod(subhaloID,snapNum,basepath,radius_fraction,metallicity_cutoff)\n",
    "stars"
   ]
  },
  {
   "cell_type": "markdown",
   "metadata": {},
   "source": [
    "# representando graficamente\n"
   ]
  },
  {
   "cell_type": "code",
   "execution_count": 19,
   "metadata": {},
   "outputs": [
    {
     "data": {
      "text/plain": [
       "<Figure size 640x480 with 1 Axes>"
      ]
     },
     "metadata": {},
     "output_type": "display_data"
    }
   ],
   "source": [
    "import matplotlib.pyplot as plt\n",
    "import matplotlib as mpl\n",
    "\n",
    "index = np.where( (stars['Circularity'] >= -1) & (stars['Circularity'] <= 1.5) )\n",
    "\n",
    "plt.hist(stars['Circularity'][index],bins=800)\n",
    "plt.show()"
   ]
  },
  {
   "cell_type": "code",
   "execution_count": 44,
   "metadata": {},
   "outputs": [
    {
     "name": "stdout",
     "output_type": "stream",
     "text": [
      "test\n"
     ]
    }
   ],
   "source": [
    "print('test')"
   ]
  }
 ],
 "metadata": {
  "kernelspec": {
   "display_name": "Python 3 (ipykernel)",
   "language": "python",
   "name": "python3"
  },
  "language_info": {
   "codemirror_mode": {
    "name": "ipython",
    "version": 3
   },
   "file_extension": ".py",
   "mimetype": "text/x-python",
   "name": "python",
   "nbconvert_exporter": "python",
   "pygments_lexer": "ipython3",
   "version": "3.11.4"
  }
 },
 "nbformat": 4,
 "nbformat_minor": 4
}
